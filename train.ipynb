{
 "cells": [
  {
   "cell_type": "code",
   "execution_count": 1,
   "metadata": {
    "pycharm": {
     "name": "#%%\n"
    }
   },
   "outputs": [
    {
     "name": "stdout",
     "output_type": "stream",
     "text": [
      "2.3.0\n"
     ]
    }
   ],
   "source": [
    "import tensorflow as tf\n",
    "print(tf.__version__)"
   ]
  },
  {
   "cell_type": "code",
   "execution_count": 30,
   "metadata": {
    "pycharm": {
     "name": "#%%\n"
    }
   },
   "outputs": [],
   "source": [
    "from tensorflow import keras\n",
    "import numpy as np\n",
    "import glob"
   ]
  },
  {
   "cell_type": "code",
   "execution_count": 3,
   "metadata": {
    "pycharm": {
     "name": "#%%\n"
    }
   },
   "outputs": [],
   "source": [
    "imgs_path = glob.glob('birds/*/*.jpg')"
   ]
  },
  {
   "cell_type": "code",
   "execution_count": 4,
   "metadata": {
    "pycharm": {
     "name": "#%%\n"
    }
   },
   "outputs": [
    {
     "data": {
      "text/plain": "['birds\\\\001.Black_footed_Albatross\\\\Black_Footed_Albatross_0001_796111.jpg',\n 'birds\\\\001.Black_footed_Albatross\\\\Black_Footed_Albatross_0002_55.jpg',\n 'birds\\\\001.Black_footed_Albatross\\\\Black_Footed_Albatross_0003_796136.jpg',\n 'birds\\\\001.Black_footed_Albatross\\\\Black_Footed_Albatross_0005_796090.jpg',\n 'birds\\\\001.Black_footed_Albatross\\\\Black_Footed_Albatross_0006_796065.jpg',\n 'birds\\\\001.Black_footed_Albatross\\\\Black_Footed_Albatross_0007_796138.jpg',\n 'birds\\\\001.Black_footed_Albatross\\\\Black_Footed_Albatross_0008_796083.jpg',\n 'birds\\\\001.Black_footed_Albatross\\\\Black_Footed_Albatross_0009_34.jpg',\n 'birds\\\\001.Black_footed_Albatross\\\\Black_Footed_Albatross_0010_796097.jpg',\n 'birds\\\\001.Black_footed_Albatross\\\\Black_Footed_Albatross_0014_89.jpg',\n 'birds\\\\001.Black_footed_Albatross\\\\Black_Footed_Albatross_0016_796067.jpg',\n 'birds\\\\001.Black_footed_Albatross\\\\Black_Footed_Albatross_0017_796098.jpg',\n 'birds\\\\001.Black_footed_Albatross\\\\Black_Footed_Albatross_0019_796104.jpg',\n 'birds\\\\001.Black_footed_Albatross\\\\Black_Footed_Albatross_0023_796059.jpg',\n 'birds\\\\001.Black_footed_Albatross\\\\Black_Footed_Albatross_0024_796089.jpg',\n 'birds\\\\001.Black_footed_Albatross\\\\Black_Footed_Albatross_0025_796057.jpg',\n 'birds\\\\001.Black_footed_Albatross\\\\Black_Footed_Albatross_0026_796095.jpg',\n 'birds\\\\001.Black_footed_Albatross\\\\Black_Footed_Albatross_0031_100.jpg',\n 'birds\\\\001.Black_footed_Albatross\\\\Black_Footed_Albatross_0032_796115.jpg',\n 'birds\\\\001.Black_footed_Albatross\\\\Black_Footed_Albatross_0033_796086.jpg',\n 'birds\\\\001.Black_footed_Albatross\\\\Black_Footed_Albatross_0035_796140.jpg',\n 'birds\\\\001.Black_footed_Albatross\\\\Black_Footed_Albatross_0036_796127.jpg',\n 'birds\\\\001.Black_footed_Albatross\\\\Black_Footed_Albatross_0037_796120.jpg',\n 'birds\\\\001.Black_footed_Albatross\\\\Black_Footed_Albatross_0038_212.jpg',\n 'birds\\\\001.Black_footed_Albatross\\\\Black_Footed_Albatross_0039_796132.jpg',\n 'birds\\\\001.Black_footed_Albatross\\\\Black_Footed_Albatross_0040_796066.jpg',\n 'birds\\\\001.Black_footed_Albatross\\\\Black_Footed_Albatross_0041_796108.jpg',\n 'birds\\\\001.Black_footed_Albatross\\\\Black_Footed_Albatross_0042_796071.jpg',\n 'birds\\\\001.Black_footed_Albatross\\\\Black_Footed_Albatross_0045_796129.jpg',\n 'birds\\\\001.Black_footed_Albatross\\\\Black_Footed_Albatross_0046_18.jpg',\n 'birds\\\\001.Black_footed_Albatross\\\\Black_Footed_Albatross_0047_796064.jpg',\n 'birds\\\\001.Black_footed_Albatross\\\\Black_Footed_Albatross_0049_796063.jpg',\n 'birds\\\\001.Black_footed_Albatross\\\\Black_Footed_Albatross_0050_796125.jpg',\n 'birds\\\\001.Black_footed_Albatross\\\\Black_Footed_Albatross_0051_796103.jpg',\n 'birds\\\\001.Black_footed_Albatross\\\\Black_Footed_Albatross_0053_796109.jpg',\n 'birds\\\\001.Black_footed_Albatross\\\\Black_Footed_Albatross_0056_796078.jpg',\n 'birds\\\\001.Black_footed_Albatross\\\\Black_Footed_Albatross_0057_796106.jpg',\n 'birds\\\\001.Black_footed_Albatross\\\\Black_Footed_Albatross_0058_796074.jpg',\n 'birds\\\\001.Black_footed_Albatross\\\\Black_Footed_Albatross_0060_796076.jpg',\n 'birds\\\\001.Black_footed_Albatross\\\\Black_Footed_Albatross_0061_796082.jpg',\n 'birds\\\\001.Black_footed_Albatross\\\\Black_Footed_Albatross_0063_796141.jpg',\n 'birds\\\\001.Black_footed_Albatross\\\\Black_Footed_Albatross_0064_796101.jpg',\n 'birds\\\\001.Black_footed_Albatross\\\\Black_Footed_Albatross_0065_796068.jpg',\n 'birds\\\\001.Black_footed_Albatross\\\\Black_Footed_Albatross_0067_170.jpg',\n 'birds\\\\001.Black_footed_Albatross\\\\Black_Footed_Albatross_0068_796135.jpg',\n 'birds\\\\001.Black_footed_Albatross\\\\Black_Footed_Albatross_0069_796139.jpg',\n 'birds\\\\001.Black_footed_Albatross\\\\Black_Footed_Albatross_0071_796113.jpg',\n 'birds\\\\001.Black_footed_Albatross\\\\Black_Footed_Albatross_0074_59.jpg',\n 'birds\\\\001.Black_footed_Albatross\\\\Black_Footed_Albatross_0076_417.jpg',\n 'birds\\\\001.Black_footed_Albatross\\\\Black_Footed_Albatross_0077_796114.jpg',\n 'birds\\\\001.Black_footed_Albatross\\\\Black_Footed_Albatross_0078_796126.jpg',\n 'birds\\\\001.Black_footed_Albatross\\\\Black_Footed_Albatross_0079_796122.jpg',\n 'birds\\\\001.Black_footed_Albatross\\\\Black_Footed_Albatross_0080_796096.jpg',\n 'birds\\\\001.Black_footed_Albatross\\\\Black_Footed_Albatross_0081_426.jpg',\n 'birds\\\\001.Black_footed_Albatross\\\\Black_Footed_Albatross_0082_796121.jpg',\n 'birds\\\\001.Black_footed_Albatross\\\\Black_Footed_Albatross_0085_92.jpg',\n 'birds\\\\001.Black_footed_Albatross\\\\Black_Footed_Albatross_0086_796062.jpg',\n 'birds\\\\001.Black_footed_Albatross\\\\Black_Footed_Albatross_0088_796133.jpg',\n 'birds\\\\001.Black_footed_Albatross\\\\Black_Footed_Albatross_0089_796069.jpg',\n 'birds\\\\001.Black_footed_Albatross\\\\Black_Footed_Albatross_0090_796077.jpg',\n 'birds\\\\002.Laysan_Albatross\\\\Laysan_Albatross_0001_545.jpg',\n 'birds\\\\002.Laysan_Albatross\\\\Laysan_Albatross_0002_1027.jpg',\n 'birds\\\\002.Laysan_Albatross\\\\Laysan_Albatross_0003_1033.jpg',\n 'birds\\\\002.Laysan_Albatross\\\\Laysan_Albatross_0004_930.jpg',\n 'birds\\\\002.Laysan_Albatross\\\\Laysan_Albatross_0005_565.jpg',\n 'birds\\\\002.Laysan_Albatross\\\\Laysan_Albatross_0006_702.jpg',\n 'birds\\\\002.Laysan_Albatross\\\\Laysan_Albatross_0012_696.jpg',\n 'birds\\\\002.Laysan_Albatross\\\\Laysan_Albatross_0013_910.jpg',\n 'birds\\\\002.Laysan_Albatross\\\\Laysan_Albatross_0017_614.jpg',\n 'birds\\\\002.Laysan_Albatross\\\\Laysan_Albatross_0018_492.jpg',\n 'birds\\\\002.Laysan_Albatross\\\\Laysan_Albatross_0021_737.jpg',\n 'birds\\\\002.Laysan_Albatross\\\\Laysan_Albatross_0023_1059.jpg',\n 'birds\\\\002.Laysan_Albatross\\\\Laysan_Albatross_0025_571.jpg',\n 'birds\\\\002.Laysan_Albatross\\\\Laysan_Albatross_0028_643.jpg',\n 'birds\\\\002.Laysan_Albatross\\\\Laysan_Albatross_0029_482.jpg',\n 'birds\\\\002.Laysan_Albatross\\\\Laysan_Albatross_0033_658.jpg',\n 'birds\\\\002.Laysan_Albatross\\\\Laysan_Albatross_0034_628.jpg',\n 'birds\\\\002.Laysan_Albatross\\\\Laysan_Albatross_0035_876.jpg',\n 'birds\\\\002.Laysan_Albatross\\\\Laysan_Albatross_0037_699.jpg',\n 'birds\\\\002.Laysan_Albatross\\\\Laysan_Albatross_0039_924.jpg',\n 'birds\\\\002.Laysan_Albatross\\\\Laysan_Albatross_0040_472.jpg',\n 'birds\\\\002.Laysan_Albatross\\\\Laysan_Albatross_0042_801.jpg',\n 'birds\\\\002.Laysan_Albatross\\\\Laysan_Albatross_0044_784.jpg',\n 'birds\\\\002.Laysan_Albatross\\\\Laysan_Albatross_0047_619.jpg',\n 'birds\\\\002.Laysan_Albatross\\\\Laysan_Albatross_0049_918.jpg',\n 'birds\\\\002.Laysan_Albatross\\\\Laysan_Albatross_0050_870.jpg',\n 'birds\\\\002.Laysan_Albatross\\\\Laysan_Albatross_0051_1020.jpg',\n 'birds\\\\002.Laysan_Albatross\\\\Laysan_Albatross_0053_543.jpg',\n 'birds\\\\002.Laysan_Albatross\\\\Laysan_Albatross_0055_570.jpg',\n 'birds\\\\002.Laysan_Albatross\\\\Laysan_Albatross_0056_500.jpg',\n 'birds\\\\002.Laysan_Albatross\\\\Laysan_Albatross_0058_637.jpg',\n 'birds\\\\002.Laysan_Albatross\\\\Laysan_Albatross_0059_488.jpg',\n 'birds\\\\002.Laysan_Albatross\\\\Laysan_Albatross_0060_777.jpg',\n 'birds\\\\002.Laysan_Albatross\\\\Laysan_Albatross_0061_563.jpg',\n 'birds\\\\002.Laysan_Albatross\\\\Laysan_Albatross_0064_674.jpg',\n 'birds\\\\002.Laysan_Albatross\\\\Laysan_Albatross_0065_809.jpg',\n 'birds\\\\002.Laysan_Albatross\\\\Laysan_Albatross_0068_726.jpg',\n 'birds\\\\002.Laysan_Albatross\\\\Laysan_Albatross_0070_788.jpg',\n 'birds\\\\002.Laysan_Albatross\\\\Laysan_Albatross_0071_792.jpg',\n 'birds\\\\002.Laysan_Albatross\\\\Laysan_Albatross_0073_927.jpg',\n 'birds\\\\002.Laysan_Albatross\\\\Laysan_Albatross_0075_668.jpg',\n 'birds\\\\002.Laysan_Albatross\\\\Laysan_Albatross_0076_671.jpg',\n 'birds\\\\002.Laysan_Albatross\\\\Laysan_Albatross_0079_506.jpg',\n 'birds\\\\002.Laysan_Albatross\\\\Laysan_Albatross_0080_821.jpg',\n 'birds\\\\002.Laysan_Albatross\\\\Laysan_Albatross_0081_800.jpg',\n 'birds\\\\002.Laysan_Albatross\\\\Laysan_Albatross_0082_524.jpg',\n 'birds\\\\002.Laysan_Albatross\\\\Laysan_Albatross_0083_756.jpg',\n 'birds\\\\002.Laysan_Albatross\\\\Laysan_Albatross_0085_564.jpg',\n 'birds\\\\002.Laysan_Albatross\\\\Laysan_Albatross_0088_883.jpg',\n 'birds\\\\002.Laysan_Albatross\\\\Laysan_Albatross_0091_602.jpg',\n 'birds\\\\002.Laysan_Albatross\\\\Laysan_Albatross_0092_834.jpg',\n 'birds\\\\002.Laysan_Albatross\\\\Laysan_Albatross_0093_725.jpg',\n 'birds\\\\002.Laysan_Albatross\\\\Laysan_Albatross_0094_1013.jpg',\n 'birds\\\\002.Laysan_Albatross\\\\Laysan_Albatross_0096_673.jpg',\n 'birds\\\\002.Laysan_Albatross\\\\Laysan_Albatross_0098_621.jpg',\n 'birds\\\\002.Laysan_Albatross\\\\Laysan_Albatross_0099_869.jpg',\n 'birds\\\\002.Laysan_Albatross\\\\Laysan_Albatross_0100_735.jpg',\n 'birds\\\\002.Laysan_Albatross\\\\Laysan_Albatross_0102_611.jpg',\n 'birds\\\\002.Laysan_Albatross\\\\Laysan_Albatross_0103_504.jpg',\n 'birds\\\\002.Laysan_Albatross\\\\Laysan_Albatross_0104_630.jpg',\n 'birds\\\\003.Sooty_Albatross\\\\Sooty_Albatross_0001_1071.jpg',\n 'birds\\\\003.Sooty_Albatross\\\\Sooty_Albatross_0002_796395.jpg',\n 'birds\\\\003.Sooty_Albatross\\\\Sooty_Albatross_0003_1078.jpg',\n 'birds\\\\003.Sooty_Albatross\\\\Sooty_Albatross_0004_796366.jpg',\n 'birds\\\\003.Sooty_Albatross\\\\Sooty_Albatross_0005_796342.jpg',\n 'birds\\\\003.Sooty_Albatross\\\\Sooty_Albatross_0006_796390.jpg',\n 'birds\\\\003.Sooty_Albatross\\\\Sooty_Albatross_0007_796372.jpg',\n 'birds\\\\003.Sooty_Albatross\\\\Sooty_Albatross_0010_796355.jpg',\n 'birds\\\\003.Sooty_Albatross\\\\Sooty_Albatross_0013_796402.jpg',\n 'birds\\\\003.Sooty_Albatross\\\\Sooty_Albatross_0014_796373.jpg',\n 'birds\\\\003.Sooty_Albatross\\\\Sooty_Albatross_0016_1075.jpg',\n 'birds\\\\003.Sooty_Albatross\\\\Sooty_Albatross_0017_796349.jpg',\n 'birds\\\\003.Sooty_Albatross\\\\Sooty_Albatross_0019_796391.jpg',\n 'birds\\\\003.Sooty_Albatross\\\\Sooty_Albatross_0020_796359.jpg',\n 'birds\\\\003.Sooty_Albatross\\\\Sooty_Albatross_0021_796339.jpg',\n 'birds\\\\003.Sooty_Albatross\\\\Sooty_Albatross_0022_796398.jpg',\n 'birds\\\\003.Sooty_Albatross\\\\Sooty_Albatross_0023_796401.jpg',\n 'birds\\\\003.Sooty_Albatross\\\\Sooty_Albatross_0024_1161.jpg',\n 'birds\\\\003.Sooty_Albatross\\\\Sooty_Albatross_0025_796361.jpg',\n 'birds\\\\003.Sooty_Albatross\\\\Sooty_Albatross_0029_796357.jpg',\n 'birds\\\\003.Sooty_Albatross\\\\Sooty_Albatross_0030_1122.jpg',\n 'birds\\\\003.Sooty_Albatross\\\\Sooty_Albatross_0031_1066.jpg',\n 'birds\\\\003.Sooty_Albatross\\\\Sooty_Albatross_0032_1149.jpg',\n 'birds\\\\003.Sooty_Albatross\\\\Sooty_Albatross_0033_1128.jpg',\n 'birds\\\\003.Sooty_Albatross\\\\Sooty_Albatross_0034_1154.jpg',\n 'birds\\\\003.Sooty_Albatross\\\\Sooty_Albatross_0036_796387.jpg',\n 'birds\\\\003.Sooty_Albatross\\\\Sooty_Albatross_0038_1065.jpg',\n 'birds\\\\003.Sooty_Albatross\\\\Sooty_Albatross_0040_796375.jpg',\n 'birds\\\\003.Sooty_Albatross\\\\Sooty_Albatross_0041_796364.jpg',\n 'birds\\\\003.Sooty_Albatross\\\\Sooty_Albatross_0042_1210.jpg',\n 'birds\\\\003.Sooty_Albatross\\\\Sooty_Albatross_0043_1076.jpg',\n 'birds\\\\003.Sooty_Albatross\\\\Sooty_Albatross_0044_1105.jpg',\n 'birds\\\\003.Sooty_Albatross\\\\Sooty_Albatross_0045_1162.jpg',\n 'birds\\\\003.Sooty_Albatross\\\\Sooty_Albatross_0046_1211.jpg',\n 'birds\\\\003.Sooty_Albatross\\\\Sooty_Albatross_0048_1130.jpg',\n 'birds\\\\003.Sooty_Albatross\\\\Sooty_Albatross_0049_796350.jpg',\n 'birds\\\\003.Sooty_Albatross\\\\Sooty_Albatross_0050_796351.jpg',\n 'birds\\\\003.Sooty_Albatross\\\\Sooty_Albatross_0051_796374.jpg',\n 'birds\\\\003.Sooty_Albatross\\\\Sooty_Albatross_0054_796347.jpg',\n 'birds\\\\003.Sooty_Albatross\\\\Sooty_Albatross_0055_1160.jpg',\n 'birds\\\\003.Sooty_Albatross\\\\Sooty_Albatross_0057_796354.jpg',\n 'birds\\\\003.Sooty_Albatross\\\\Sooty_Albatross_0058_796360.jpg',\n 'birds\\\\003.Sooty_Albatross\\\\Sooty_Albatross_0063_1101.jpg',\n 'birds\\\\003.Sooty_Albatross\\\\Sooty_Albatross_0064_796343.jpg',\n 'birds\\\\003.Sooty_Albatross\\\\Sooty_Albatross_0065_796367.jpg',\n 'birds\\\\003.Sooty_Albatross\\\\Sooty_Albatross_0066_796382.jpg',\n 'birds\\\\003.Sooty_Albatross\\\\Sooty_Albatross_0067_796376.jpg',\n 'birds\\\\003.Sooty_Albatross\\\\Sooty_Albatross_0068_796353.jpg',\n 'birds\\\\003.Sooty_Albatross\\\\Sooty_Albatross_0069_796358.jpg',\n 'birds\\\\003.Sooty_Albatross\\\\Sooty_Albatross_0070_796346.jpg',\n 'birds\\\\003.Sooty_Albatross\\\\Sooty_Albatross_0071_1116.jpg',\n 'birds\\\\003.Sooty_Albatross\\\\Sooty_Albatross_0072_796371.jpg',\n 'birds\\\\003.Sooty_Albatross\\\\Sooty_Albatross_0073_1171.jpg',\n 'birds\\\\003.Sooty_Albatross\\\\Sooty_Albatross_0074_1221.jpg',\n 'birds\\\\003.Sooty_Albatross\\\\Sooty_Albatross_0075_796352.jpg',\n 'birds\\\\003.Sooty_Albatross\\\\Sooty_Albatross_0076_796365.jpg',\n 'birds\\\\003.Sooty_Albatross\\\\Sooty_Albatross_0077_1080.jpg',\n 'birds\\\\003.Sooty_Albatross\\\\Sooty_Albatross_0079_796389.jpg',\n 'birds\\\\004.Groove_billed_Ani\\\\Groove_Billed_Ani_0002_1670.jpg',\n 'birds\\\\004.Groove_billed_Ani\\\\Groove_Billed_Ani_0004_1528.jpg',\n 'birds\\\\004.Groove_billed_Ani\\\\Groove_Billed_Ani_0005_1750.jpg',\n 'birds\\\\004.Groove_billed_Ani\\\\Groove_Billed_Ani_0006_1763.jpg',\n 'birds\\\\004.Groove_billed_Ani\\\\Groove_Billed_Ani_0007_1615.jpg',\n 'birds\\\\004.Groove_billed_Ani\\\\Groove_Billed_Ani_0009_1522.jpg',\n 'birds\\\\004.Groove_billed_Ani\\\\Groove_Billed_Ani_0010_1704.jpg',\n 'birds\\\\004.Groove_billed_Ani\\\\Groove_Billed_Ani_0012_1784.jpg',\n 'birds\\\\004.Groove_billed_Ani\\\\Groove_Billed_Ani_0014_1755.jpg',\n 'birds\\\\004.Groove_billed_Ani\\\\Groove_Billed_Ani_0015_1653.jpg',\n 'birds\\\\004.Groove_billed_Ani\\\\Groove_Billed_Ani_0017_1561.jpg',\n 'birds\\\\004.Groove_billed_Ani\\\\Groove_Billed_Ani_0018_1613.jpg',\n 'birds\\\\004.Groove_billed_Ani\\\\Groove_Billed_Ani_0019_1585.jpg',\n 'birds\\\\004.Groove_billed_Ani\\\\Groove_Billed_Ani_0023_1485.jpg',\n 'birds\\\\004.Groove_billed_Ani\\\\Groove_Billed_Ani_0027_1754.jpg',\n 'birds\\\\004.Groove_billed_Ani\\\\Groove_Billed_Ani_0029_1620.jpg',\n 'birds\\\\004.Groove_billed_Ani\\\\Groove_Billed_Ani_0031_1588.jpg',\n 'birds\\\\004.Groove_billed_Ani\\\\Groove_Billed_Ani_0032_1776.jpg',\n 'birds\\\\004.Groove_billed_Ani\\\\Groove_Billed_Ani_0033_1494.jpg',\n 'birds\\\\004.Groove_billed_Ani\\\\Groove_Billed_Ani_0035_1591.jpg',\n 'birds\\\\004.Groove_billed_Ani\\\\Groove_Billed_Ani_0036_1604.jpg',\n 'birds\\\\004.Groove_billed_Ani\\\\Groove_Billed_Ani_0037_1560.jpg',\n 'birds\\\\004.Groove_billed_Ani\\\\Groove_Billed_Ani_0040_1715.jpg',\n 'birds\\\\004.Groove_billed_Ani\\\\Groove_Billed_Ani_0044_1731.jpg',\n 'birds\\\\004.Groove_billed_Ani\\\\Groove_Billed_Ani_0046_1663.jpg',\n 'birds\\\\004.Groove_billed_Ani\\\\Groove_Billed_Ani_0047_1706.jpg',\n 'birds\\\\004.Groove_billed_Ani\\\\Groove_Billed_Ani_0051_1650.jpg',\n 'birds\\\\004.Groove_billed_Ani\\\\Groove_Billed_Ani_0053_1672.jpg',\n 'birds\\\\004.Groove_billed_Ani\\\\Groove_Billed_Ani_0055_1501.jpg',\n 'birds\\\\004.Groove_billed_Ani\\\\Groove_Billed_Ani_0056_1493.jpg',\n 'birds\\\\004.Groove_billed_Ani\\\\Groove_Billed_Ani_0058_1751.jpg',\n 'birds\\\\004.Groove_billed_Ani\\\\Groove_Billed_Ani_0059_1480.jpg',\n 'birds\\\\004.Groove_billed_Ani\\\\Groove_Billed_Ani_0060_1505.jpg',\n 'birds\\\\004.Groove_billed_Ani\\\\Groove_Billed_Ani_0061_1510.jpg',\n 'birds\\\\004.Groove_billed_Ani\\\\Groove_Billed_Ani_0062_1767.jpg',\n 'birds\\\\004.Groove_billed_Ani\\\\Groove_Billed_Ani_0065_1502.jpg',\n 'birds\\\\004.Groove_billed_Ani\\\\Groove_Billed_Ani_0068_1538.jpg',\n 'birds\\\\004.Groove_billed_Ani\\\\Groove_Billed_Ani_0069_1546.jpg',\n 'birds\\\\004.Groove_billed_Ani\\\\Groove_Billed_Ani_0071_1559.jpg',\n 'birds\\\\004.Groove_billed_Ani\\\\Groove_Billed_Ani_0072_1696.jpg',\n 'birds\\\\004.Groove_billed_Ani\\\\Groove_Billed_Ani_0074_1730.jpg',\n 'birds\\\\004.Groove_billed_Ani\\\\Groove_Billed_Ani_0075_1617.jpg',\n 'birds\\\\004.Groove_billed_Ani\\\\Groove_Billed_Ani_0076_1661.jpg',\n 'birds\\\\004.Groove_billed_Ani\\\\Groove_Billed_Ani_0077_1724.jpg',\n 'birds\\\\004.Groove_billed_Ani\\\\Groove_Billed_Ani_0078_1780.jpg',\n 'birds\\\\004.Groove_billed_Ani\\\\Groove_Billed_Ani_0080_1549.jpg',\n 'birds\\\\004.Groove_billed_Ani\\\\Groove_Billed_Ani_0082_1697.jpg',\n 'birds\\\\004.Groove_billed_Ani\\\\Groove_Billed_Ani_0085_1612.jpg',\n 'birds\\\\004.Groove_billed_Ani\\\\Groove_Billed_Ani_0087_1765.jpg',\n 'birds\\\\004.Groove_billed_Ani\\\\Groove_Billed_Ani_0088_1678.jpg',\n 'birds\\\\004.Groove_billed_Ani\\\\Groove_Billed_Ani_0090_1567.jpg',\n 'birds\\\\004.Groove_billed_Ani\\\\Groove_Billed_Ani_0091_1728.jpg',\n 'birds\\\\004.Groove_billed_Ani\\\\Groove_Billed_Ani_0092_1516.jpg',\n 'birds\\\\004.Groove_billed_Ani\\\\Groove_Billed_Ani_0094_1540.jpg',\n 'birds\\\\004.Groove_billed_Ani\\\\Groove_Billed_Ani_0100_1646.jpg',\n 'birds\\\\004.Groove_billed_Ani\\\\Groove_Billed_Ani_0101_1700.jpg',\n 'birds\\\\004.Groove_billed_Ani\\\\Groove_Billed_Ani_0105_1562.jpg',\n 'birds\\\\004.Groove_billed_Ani\\\\Groove_Billed_Ani_0107_1590.jpg',\n 'birds\\\\004.Groove_billed_Ani\\\\Groove_Billed_Ani_0108_1639.jpg',\n 'birds\\\\004.Groove_billed_Ani\\\\Groove_Billed_Ani_0109_1592.jpg',\n 'birds\\\\005.Crested_Auklet\\\\Crested_Auklet_0001_794941.jpg',\n 'birds\\\\005.Crested_Auklet\\\\Crested_Auklet_0003_794962.jpg',\n 'birds\\\\005.Crested_Auklet\\\\Crested_Auklet_0005_794922.jpg',\n 'birds\\\\005.Crested_Auklet\\\\Crested_Auklet_0006_1813.jpg',\n 'birds\\\\005.Crested_Auklet\\\\Crested_Auklet_0010_794907.jpg',\n 'birds\\\\005.Crested_Auklet\\\\Crested_Auklet_0011_794927.jpg',\n 'birds\\\\005.Crested_Auklet\\\\Crested_Auklet_0012_794960.jpg',\n 'birds\\\\005.Crested_Auklet\\\\Crested_Auklet_0013_794914.jpg',\n 'birds\\\\005.Crested_Auklet\\\\Crested_Auklet_0018_1817.jpg',\n 'birds\\\\005.Crested_Auklet\\\\Crested_Auklet_0019_794925.jpg',\n 'birds\\\\005.Crested_Auklet\\\\Crested_Auklet_0021_794938.jpg',\n 'birds\\\\005.Crested_Auklet\\\\Crested_Auklet_0028_794951.jpg',\n 'birds\\\\005.Crested_Auklet\\\\Crested_Auklet_0029_1824.jpg',\n 'birds\\\\005.Crested_Auklet\\\\Crested_Auklet_0030_794937.jpg',\n 'birds\\\\005.Crested_Auklet\\\\Crested_Auklet_0032_794931.jpg',\n 'birds\\\\005.Crested_Auklet\\\\Crested_Auklet_0033_794964.jpg',\n 'birds\\\\005.Crested_Auklet\\\\Crested_Auklet_0036_794905.jpg',\n 'birds\\\\005.Crested_Auklet\\\\Crested_Auklet_0039_794944.jpg',\n 'birds\\\\005.Crested_Auklet\\\\Crested_Auklet_0040_794912.jpg',\n 'birds\\\\005.Crested_Auklet\\\\Crested_Auklet_0041_794910.jpg',\n 'birds\\\\005.Crested_Auklet\\\\Crested_Auklet_0042_794902.jpg',\n 'birds\\\\005.Crested_Auklet\\\\Crested_Auklet_0044_1825.jpg',\n 'birds\\\\005.Crested_Auklet\\\\Crested_Auklet_0045_794940.jpg',\n 'birds\\\\005.Crested_Auklet\\\\Crested_Auklet_0047_794918.jpg',\n 'birds\\\\005.Crested_Auklet\\\\Crested_Auklet_0048_1791.jpg',\n 'birds\\\\005.Crested_Auklet\\\\Crested_Auklet_0052_794952.jpg',\n 'birds\\\\005.Crested_Auklet\\\\Crested_Auklet_0053_794966.jpg',\n 'birds\\\\005.Crested_Auklet\\\\Crested_Auklet_0057_794932.jpg',\n 'birds\\\\005.Crested_Auklet\\\\Crested_Auklet_0059_794929.jpg',\n 'birds\\\\005.Crested_Auklet\\\\Crested_Auklet_0061_794904.jpg',\n 'birds\\\\005.Crested_Auklet\\\\Crested_Auklet_0062_794968.jpg',\n 'birds\\\\005.Crested_Auklet\\\\Crested_Auklet_0063_794901.jpg',\n 'birds\\\\005.Crested_Auklet\\\\Crested_Auklet_0066_785251.jpg',\n 'birds\\\\005.Crested_Auklet\\\\Crested_Auklet_0067_785249.jpg',\n 'birds\\\\005.Crested_Auklet\\\\Crested_Auklet_0068_785253.jpg',\n 'birds\\\\005.Crested_Auklet\\\\Crested_Auklet_0069_785258.jpg',\n 'birds\\\\005.Crested_Auklet\\\\Crested_Auklet_0070_785261.jpg',\n 'birds\\\\005.Crested_Auklet\\\\Crested_Auklet_0071_785255.jpg',\n 'birds\\\\005.Crested_Auklet\\\\Crested_Auklet_0072_785260.jpg',\n 'birds\\\\005.Crested_Auklet\\\\Crested_Auklet_0073_785248.jpg',\n 'birds\\\\005.Crested_Auklet\\\\Crested_Auklet_0074_794949.jpg',\n 'birds\\\\005.Crested_Auklet\\\\Crested_Auklet_0075_785259.jpg',\n 'birds\\\\005.Crested_Auklet\\\\Crested_Auklet_0076_785252.jpg',\n 'birds\\\\005.Crested_Auklet\\\\Crested_Auklet_0077_785257.jpg',\n 'birds\\\\006.Least_Auklet\\\\Least_Auklet_0004_795112.jpg',\n 'birds\\\\006.Least_Auklet\\\\Least_Auklet_0005_795119.jpg',\n 'birds\\\\006.Least_Auklet\\\\Least_Auklet_0007_795123.jpg',\n 'birds\\\\006.Least_Auklet\\\\Least_Auklet_0008_795071.jpg',\n 'birds\\\\006.Least_Auklet\\\\Least_Auklet_0010_795092.jpg',\n 'birds\\\\006.Least_Auklet\\\\Least_Auklet_0011_795109.jpg',\n 'birds\\\\006.Least_Auklet\\\\Least_Auklet_0012_795074.jpg',\n 'birds\\\\006.Least_Auklet\\\\Least_Auklet_0014_1901.jpg',\n 'birds\\\\006.Least_Auklet\\\\Least_Auklet_0015_795065.jpg',\n 'birds\\\\006.Least_Auklet\\\\Least_Auklet_0016_1903.jpg',\n 'birds\\\\006.Least_Auklet\\\\Least_Auklet_0017_795084.jpg',\n 'birds\\\\006.Least_Auklet\\\\Least_Auklet_0018_795077.jpg',\n 'birds\\\\006.Least_Auklet\\\\Least_Auklet_0020_795080.jpg',\n 'birds\\\\006.Least_Auklet\\\\Least_Auklet_0021_795127.jpg',\n 'birds\\\\006.Least_Auklet\\\\Least_Auklet_0023_1898.jpg',\n 'birds\\\\006.Least_Auklet\\\\Least_Auklet_0024_795120.jpg',\n 'birds\\\\006.Least_Auklet\\\\Least_Auklet_0025_795087.jpg',\n 'birds\\\\006.Least_Auklet\\\\Least_Auklet_0026_795066.jpg',\n 'birds\\\\006.Least_Auklet\\\\Least_Auklet_0027_795091.jpg',\n 'birds\\\\006.Least_Auklet\\\\Least_Auklet_0028_795094.jpg',\n 'birds\\\\006.Least_Auklet\\\\Least_Auklet_0029_795122.jpg',\n 'birds\\\\006.Least_Auklet\\\\Least_Auklet_0030_795116.jpg',\n 'birds\\\\006.Least_Auklet\\\\Least_Auklet_0032_795068.jpg',\n 'birds\\\\006.Least_Auklet\\\\Least_Auklet_0034_795096.jpg',\n 'birds\\\\006.Least_Auklet\\\\Least_Auklet_0035_1888.jpg',\n 'birds\\\\006.Least_Auklet\\\\Least_Auklet_0038_795132.jpg',\n 'birds\\\\006.Least_Auklet\\\\Least_Auklet_0039_795081.jpg',\n 'birds\\\\006.Least_Auklet\\\\Least_Auklet_0040_795100.jpg',\n 'birds\\\\006.Least_Auklet\\\\Least_Auklet_0041_795107.jpg',\n 'birds\\\\006.Least_Auklet\\\\Least_Auklet_0042_1874.jpg',\n 'birds\\\\006.Least_Auklet\\\\Least_Auklet_0043_795067.jpg',\n 'birds\\\\006.Least_Auklet\\\\Least_Auklet_0045_795069.jpg',\n 'birds\\\\006.Least_Auklet\\\\Least_Auklet_0046_795118.jpg',\n 'birds\\\\006.Least_Auklet\\\\Least_Auklet_0050_1924.jpg',\n 'birds\\\\006.Least_Auklet\\\\Least_Auklet_0052_795088.jpg',\n 'birds\\\\006.Least_Auklet\\\\Least_Auklet_0054_795130.jpg',\n 'birds\\\\006.Least_Auklet\\\\Least_Auklet_0055_795106.jpg',\n 'birds\\\\006.Least_Auklet\\\\Least_Auklet_0057_795126.jpg',\n 'birds\\\\006.Least_Auklet\\\\Least_Auklet_0058_1931.jpg',\n 'birds\\\\006.Least_Auklet\\\\Least_Auklet_0060_795095.jpg',\n 'birds\\\\006.Least_Auklet\\\\Least_Auklet_0063_795134.jpg',\n 'birds\\\\007.Parakeet_Auklet\\\\Parakeet_Auklet_0001_795972.jpg',\n 'birds\\\\007.Parakeet_Auklet\\\\Parakeet_Auklet_0003_795982.jpg',\n 'birds\\\\007.Parakeet_Auklet\\\\Parakeet_Auklet_0004_795921.jpg',\n 'birds\\\\007.Parakeet_Auklet\\\\Parakeet_Auklet_0007_795932.jpg',\n 'birds\\\\007.Parakeet_Auklet\\\\Parakeet_Auklet_0008_795992.jpg',\n 'birds\\\\007.Parakeet_Auklet\\\\Parakeet_Auklet_0010_795995.jpg',\n 'birds\\\\007.Parakeet_Auklet\\\\Parakeet_Auklet_0012_795927.jpg',\n 'birds\\\\007.Parakeet_Auklet\\\\Parakeet_Auklet_0013_795970.jpg',\n 'birds\\\\007.Parakeet_Auklet\\\\Parakeet_Auklet_0015_795966.jpg',\n 'birds\\\\007.Parakeet_Auklet\\\\Parakeet_Auklet_0016_795977.jpg',\n 'birds\\\\007.Parakeet_Auklet\\\\Parakeet_Auklet_0017_795924.jpg',\n 'birds\\\\007.Parakeet_Auklet\\\\Parakeet_Auklet_0019_795987.jpg',\n 'birds\\\\007.Parakeet_Auklet\\\\Parakeet_Auklet_0020_795947.jpg',\n 'birds\\\\007.Parakeet_Auklet\\\\Parakeet_Auklet_0024_2045.jpg',\n 'birds\\\\007.Parakeet_Auklet\\\\Parakeet_Auklet_0025_795975.jpg',\n 'birds\\\\007.Parakeet_Auklet\\\\Parakeet_Auklet_0026_795962.jpg',\n 'birds\\\\007.Parakeet_Auklet\\\\Parakeet_Auklet_0027_795925.jpg',\n 'birds\\\\007.Parakeet_Auklet\\\\Parakeet_Auklet_0028_795944.jpg',\n 'birds\\\\007.Parakeet_Auklet\\\\Parakeet_Auklet_0030_795930.jpg',\n 'birds\\\\007.Parakeet_Auklet\\\\Parakeet_Auklet_0031_795960.jpg',\n 'birds\\\\007.Parakeet_Auklet\\\\Parakeet_Auklet_0032_795986.jpg',\n 'birds\\\\007.Parakeet_Auklet\\\\Parakeet_Auklet_0034_795994.jpg',\n 'birds\\\\007.Parakeet_Auklet\\\\Parakeet_Auklet_0035_795934.jpg',\n 'birds\\\\007.Parakeet_Auklet\\\\Parakeet_Auklet_0036_795943.jpg',\n 'birds\\\\007.Parakeet_Auklet\\\\Parakeet_Auklet_0038_795935.jpg',\n 'birds\\\\007.Parakeet_Auklet\\\\Parakeet_Auklet_0039_795955.jpg',\n 'birds\\\\007.Parakeet_Auklet\\\\Parakeet_Auklet_0040_795974.jpg',\n 'birds\\\\007.Parakeet_Auklet\\\\Parakeet_Auklet_0041_795933.jpg',\n 'birds\\\\007.Parakeet_Auklet\\\\Parakeet_Auklet_0042_795961.jpg',\n 'birds\\\\007.Parakeet_Auklet\\\\Parakeet_Auklet_0043_795948.jpg',\n 'birds\\\\007.Parakeet_Auklet\\\\Parakeet_Auklet_0045_795953.jpg',\n 'birds\\\\007.Parakeet_Auklet\\\\Parakeet_Auklet_0047_795956.jpg',\n 'birds\\\\007.Parakeet_Auklet\\\\Parakeet_Auklet_0048_795980.jpg',\n 'birds\\\\007.Parakeet_Auklet\\\\Parakeet_Auklet_0050_795957.jpg',\n 'birds\\\\007.Parakeet_Auklet\\\\Parakeet_Auklet_0051_795971.jpg',\n 'birds\\\\007.Parakeet_Auklet\\\\Parakeet_Auklet_0055_795963.jpg',\n 'birds\\\\007.Parakeet_Auklet\\\\Parakeet_Auklet_0056_795926.jpg',\n 'birds\\\\007.Parakeet_Auklet\\\\Parakeet_Auklet_0058_795942.jpg',\n 'birds\\\\007.Parakeet_Auklet\\\\Parakeet_Auklet_0059_795973.jpg',\n 'birds\\\\007.Parakeet_Auklet\\\\Parakeet_Auklet_0061_795990.jpg',\n 'birds\\\\007.Parakeet_Auklet\\\\Parakeet_Auklet_0062_795958.jpg',\n 'birds\\\\007.Parakeet_Auklet\\\\Parakeet_Auklet_0064_795954.jpg',\n 'birds\\\\007.Parakeet_Auklet\\\\Parakeet_Auklet_0065_795969.jpg',\n 'birds\\\\007.Parakeet_Auklet\\\\Parakeet_Auklet_0067_795964.jpg',\n 'birds\\\\007.Parakeet_Auklet\\\\Parakeet_Auklet_0069_795936.jpg',\n 'birds\\\\007.Parakeet_Auklet\\\\Parakeet_Auklet_0070_795998.jpg',\n 'birds\\\\007.Parakeet_Auklet\\\\Parakeet_Auklet_0072_795929.jpg',\n 'birds\\\\007.Parakeet_Auklet\\\\Parakeet_Auklet_0073_795939.jpg',\n 'birds\\\\007.Parakeet_Auklet\\\\Parakeet_Auklet_0074_795976.jpg',\n 'birds\\\\007.Parakeet_Auklet\\\\Parakeet_Auklet_0075_795981.jpg',\n 'birds\\\\007.Parakeet_Auklet\\\\Parakeet_Auklet_0076_796001.jpg',\n 'birds\\\\007.Parakeet_Auklet\\\\Parakeet_Auklet_0078_2004.jpg',\n 'birds\\\\007.Parakeet_Auklet\\\\Parakeet_Auklet_0080_795965.jpg',\n 'birds\\\\008.Rhinoceros_Auklet\\\\Rhinoceros_Auklet_0001_797538.jpg',\n 'birds\\\\008.Rhinoceros_Auklet\\\\Rhinoceros_Auklet_0003_797535.jpg',\n 'birds\\\\008.Rhinoceros_Auklet\\\\Rhinoceros_Auklet_0004_797541.jpg',\n 'birds\\\\008.Rhinoceros_Auklet\\\\Rhinoceros_Auklet_0005_2111.jpg',\n 'birds\\\\008.Rhinoceros_Auklet\\\\Rhinoceros_Auklet_0006_797512.jpg',\n 'birds\\\\008.Rhinoceros_Auklet\\\\Rhinoceros_Auklet_0007_797521.jpg',\n 'birds\\\\008.Rhinoceros_Auklet\\\\Rhinoceros_Auklet_0008_797531.jpg',\n 'birds\\\\008.Rhinoceros_Auklet\\\\Rhinoceros_Auklet_0009_797539.jpg',\n 'birds\\\\008.Rhinoceros_Auklet\\\\Rhinoceros_Auklet_0010_797545.jpg',\n 'birds\\\\008.Rhinoceros_Auklet\\\\Rhinoceros_Auklet_0011_797530.jpg',\n 'birds\\\\008.Rhinoceros_Auklet\\\\Rhinoceros_Auklet_0012_2161.jpg',\n 'birds\\\\008.Rhinoceros_Auklet\\\\Rhinoceros_Auklet_0013_797537.jpg',\n 'birds\\\\008.Rhinoceros_Auklet\\\\Rhinoceros_Auklet_0014_797522.jpg',\n 'birds\\\\008.Rhinoceros_Auklet\\\\Rhinoceros_Auklet_0015_2160.jpg',\n 'birds\\\\008.Rhinoceros_Auklet\\\\Rhinoceros_Auklet_0016_2114.jpg',\n 'birds\\\\008.Rhinoceros_Auklet\\\\Rhinoceros_Auklet_0017_2155.jpg',\n 'birds\\\\008.Rhinoceros_Auklet\\\\Rhinoceros_Auklet_0018_797517.jpg',\n 'birds\\\\008.Rhinoceros_Auklet\\\\Rhinoceros_Auklet_0019_797513.jpg',\n 'birds\\\\008.Rhinoceros_Auklet\\\\Rhinoceros_Auklet_0020_2195.jpg',\n 'birds\\\\008.Rhinoceros_Auklet\\\\Rhinoceros_Auklet_0021_2089.jpg',\n 'birds\\\\008.Rhinoceros_Auklet\\\\Rhinoceros_Auklet_0022_2170.jpg',\n 'birds\\\\008.Rhinoceros_Auklet\\\\Rhinoceros_Auklet_0023_797501.jpg',\n 'birds\\\\008.Rhinoceros_Auklet\\\\Rhinoceros_Auklet_0024_797529.jpg',\n 'birds\\\\008.Rhinoceros_Auklet\\\\Rhinoceros_Auklet_0025_797508.jpg',\n 'birds\\\\008.Rhinoceros_Auklet\\\\Rhinoceros_Auklet_0026_797519.jpg',\n 'birds\\\\008.Rhinoceros_Auklet\\\\Rhinoceros_Auklet_0027_797496.jpg',\n 'birds\\\\008.Rhinoceros_Auklet\\\\Rhinoceros_Auklet_0028_2056.jpg',\n 'birds\\\\008.Rhinoceros_Auklet\\\\Rhinoceros_Auklet_0029_797520.jpg',\n 'birds\\\\008.Rhinoceros_Auklet\\\\Rhinoceros_Auklet_0030_797509.jpg',\n 'birds\\\\008.Rhinoceros_Auklet\\\\Rhinoceros_Auklet_0031_797518.jpg',\n 'birds\\\\008.Rhinoceros_Auklet\\\\Rhinoceros_Auklet_0032_797516.jpg',\n 'birds\\\\008.Rhinoceros_Auklet\\\\Rhinoceros_Auklet_0033_2169.jpg',\n 'birds\\\\008.Rhinoceros_Auklet\\\\Rhinoceros_Auklet_0034_797497.jpg',\n 'birds\\\\008.Rhinoceros_Auklet\\\\Rhinoceros_Auklet_0035_2166.jpg',\n 'birds\\\\008.Rhinoceros_Auklet\\\\Rhinoceros_Auklet_0037_797499.jpg',\n 'birds\\\\008.Rhinoceros_Auklet\\\\Rhinoceros_Auklet_0038_797544.jpg',\n 'birds\\\\008.Rhinoceros_Auklet\\\\Rhinoceros_Auklet_0039_2174.jpg',\n 'birds\\\\008.Rhinoceros_Auklet\\\\Rhinoceros_Auklet_0040_797503.jpg',\n 'birds\\\\008.Rhinoceros_Auklet\\\\Rhinoceros_Auklet_0041_797515.jpg',\n 'birds\\\\008.Rhinoceros_Auklet\\\\Rhinoceros_Auklet_0042_2101.jpg',\n 'birds\\\\008.Rhinoceros_Auklet\\\\Rhinoceros_Auklet_0043_2096.jpg',\n 'birds\\\\008.Rhinoceros_Auklet\\\\Rhinoceros_Auklet_0044_797502.jpg',\n 'birds\\\\008.Rhinoceros_Auklet\\\\Rhinoceros_Auklet_0045_797536.jpg',\n 'birds\\\\008.Rhinoceros_Auklet\\\\Rhinoceros_Auklet_0046_797532.jpg',\n 'birds\\\\008.Rhinoceros_Auklet\\\\Rhinoceros_Auklet_0048_2162.jpg',\n 'birds\\\\008.Rhinoceros_Auklet\\\\Rhinoceros_Auklet_0049_797543.jpg',\n 'birds\\\\008.Rhinoceros_Auklet\\\\Rhinoceros_Auklet_0050_797534.jpg',\n 'birds\\\\008.Rhinoceros_Auklet\\\\Rhinoceros_Auklet_0051_797510.jpg',\n 'birds\\\\009.Brewer_Blackbird\\\\Brewer_Blackbird_0002_2278.jpg',\n 'birds\\\\009.Brewer_Blackbird\\\\Brewer_Blackbird_0004_2345.jpg',\n 'birds\\\\009.Brewer_Blackbird\\\\Brewer_Blackbird_0009_2616.jpg',\n 'birds\\\\009.Brewer_Blackbird\\\\Brewer_Blackbird_0010_2269.jpg',\n 'birds\\\\009.Brewer_Blackbird\\\\Brewer_Blackbird_0012_2691.jpg',\n 'birds\\\\009.Brewer_Blackbird\\\\Brewer_Blackbird_0014_2679.jpg',\n 'birds\\\\009.Brewer_Blackbird\\\\Brewer_Blackbird_0015_2286.jpg',\n 'birds\\\\009.Brewer_Blackbird\\\\Brewer_Blackbird_0016_2225.jpg',\n 'birds\\\\009.Brewer_Blackbird\\\\Brewer_Blackbird_0017_2668.jpg',\n 'birds\\\\009.Brewer_Blackbird\\\\Brewer_Blackbird_0018_2261.jpg',\n 'birds\\\\009.Brewer_Blackbird\\\\Brewer_Blackbird_0025_2231.jpg',\n 'birds\\\\009.Brewer_Blackbird\\\\Brewer_Blackbird_0026_2625.jpg',\n 'birds\\\\009.Brewer_Blackbird\\\\Brewer_Blackbird_0027_2329.jpg',\n 'birds\\\\009.Brewer_Blackbird\\\\Brewer_Blackbird_0028_2682.jpg',\n 'birds\\\\009.Brewer_Blackbird\\\\Brewer_Blackbird_0030_2268.jpg',\n 'birds\\\\009.Brewer_Blackbird\\\\Brewer_Blackbird_0032_2214.jpg',\n 'birds\\\\009.Brewer_Blackbird\\\\Brewer_Blackbird_0035_2611.jpg',\n 'birds\\\\009.Brewer_Blackbird\\\\Brewer_Blackbird_0038_2294.jpg',\n 'birds\\\\009.Brewer_Blackbird\\\\Brewer_Blackbird_0041_2653.jpg',\n 'birds\\\\009.Brewer_Blackbird\\\\Brewer_Blackbird_0042_2302.jpg',\n 'birds\\\\009.Brewer_Blackbird\\\\Brewer_Blackbird_0045_2303.jpg',\n 'birds\\\\009.Brewer_Blackbird\\\\Brewer_Blackbird_0046_2688.jpg',\n 'birds\\\\009.Brewer_Blackbird\\\\Brewer_Blackbird_0049_2258.jpg',\n 'birds\\\\009.Brewer_Blackbird\\\\Brewer_Blackbird_0054_2631.jpg',\n 'birds\\\\009.Brewer_Blackbird\\\\Brewer_Blackbird_0061_2270.jpg',\n 'birds\\\\009.Brewer_Blackbird\\\\Brewer_Blackbird_0064_2290.jpg',\n 'birds\\\\009.Brewer_Blackbird\\\\Brewer_Blackbird_0065_2310.jpg',\n 'birds\\\\009.Brewer_Blackbird\\\\Brewer_Blackbird_0066_2693.jpg',\n 'birds\\\\009.Brewer_Blackbird\\\\Brewer_Blackbird_0070_2325.jpg',\n 'birds\\\\009.Brewer_Blackbird\\\\Brewer_Blackbird_0074_2277.jpg',\n 'birds\\\\009.Brewer_Blackbird\\\\Brewer_Blackbird_0078_2659.jpg',\n 'birds\\\\009.Brewer_Blackbird\\\\Brewer_Blackbird_0079_2343.jpg',\n 'birds\\\\009.Brewer_Blackbird\\\\Brewer_Blackbird_0080_2234.jpg',\n 'birds\\\\009.Brewer_Blackbird\\\\Brewer_Blackbird_0082_2593.jpg',\n 'birds\\\\009.Brewer_Blackbird\\\\Brewer_Blackbird_0087_2622.jpg',\n 'birds\\\\009.Brewer_Blackbird\\\\Brewer_Blackbird_0090_2658.jpg',\n 'birds\\\\009.Brewer_Blackbird\\\\Brewer_Blackbird_0095_2610.jpg',\n 'birds\\\\009.Brewer_Blackbird\\\\Brewer_Blackbird_0096_2634.jpg',\n 'birds\\\\009.Brewer_Blackbird\\\\Brewer_Blackbird_0097_2322.jpg',\n 'birds\\\\009.Brewer_Blackbird\\\\Brewer_Blackbird_0099_2560.jpg',\n 'birds\\\\009.Brewer_Blackbird\\\\Brewer_Blackbird_0101_2630.jpg',\n 'birds\\\\009.Brewer_Blackbird\\\\Brewer_Blackbird_0102_2620.jpg',\n 'birds\\\\009.Brewer_Blackbird\\\\Brewer_Blackbird_0103_2273.jpg',\n 'birds\\\\009.Brewer_Blackbird\\\\Brewer_Blackbird_0104_2230.jpg',\n 'birds\\\\009.Brewer_Blackbird\\\\Brewer_Blackbird_0106_2608.jpg',\n 'birds\\\\009.Brewer_Blackbird\\\\Brewer_Blackbird_0109_2232.jpg',\n 'birds\\\\009.Brewer_Blackbird\\\\Brewer_Blackbird_0111_2613.jpg',\n 'birds\\\\009.Brewer_Blackbird\\\\Brewer_Blackbird_0112_2340.jpg',\n 'birds\\\\009.Brewer_Blackbird\\\\Brewer_Blackbird_0115_2279.jpg',\n 'birds\\\\009.Brewer_Blackbird\\\\Brewer_Blackbird_0116_2327.jpg',\n 'birds\\\\009.Brewer_Blackbird\\\\Brewer_Blackbird_0127_2235.jpg',\n 'birds\\\\009.Brewer_Blackbird\\\\Brewer_Blackbird_0131_2289.jpg',\n 'birds\\\\009.Brewer_Blackbird\\\\Brewer_Blackbird_0132_2293.jpg',\n 'birds\\\\009.Brewer_Blackbird\\\\Brewer_Blackbird_0133_2324.jpg',\n 'birds\\\\009.Brewer_Blackbird\\\\Brewer_Blackbird_0135_2607.jpg',\n 'birds\\\\009.Brewer_Blackbird\\\\Brewer_Blackbird_0137_2680.jpg',\n 'birds\\\\009.Brewer_Blackbird\\\\Brewer_Blackbird_0139_2567.jpg',\n 'birds\\\\009.Brewer_Blackbird\\\\Brewer_Blackbird_0140_2586.jpg',\n 'birds\\\\009.Brewer_Blackbird\\\\Brewer_Blackbird_0142_2636.jpg',\n 'birds\\\\010.Red_winged_Blackbird\\\\Red_Winged_Blackbird_0001_3695.jpg',\n 'birds\\\\010.Red_winged_Blackbird\\\\Red_Winged_Blackbird_0005_5636.jpg',\n 'birds\\\\010.Red_winged_Blackbird\\\\Red_Winged_Blackbird_0006_6005.jpg',\n 'birds\\\\010.Red_winged_Blackbird\\\\Red_Winged_Blackbird_0007_3706.jpg',\n 'birds\\\\010.Red_winged_Blackbird\\\\Red_Winged_Blackbird_0009_5841.jpg',\n 'birds\\\\010.Red_winged_Blackbird\\\\Red_Winged_Blackbird_0010_6386.jpg',\n 'birds\\\\010.Red_winged_Blackbird\\\\Red_Winged_Blackbird_0011_5845.jpg',\n 'birds\\\\010.Red_winged_Blackbird\\\\Red_Winged_Blackbird_0012_6015.jpg',\n 'birds\\\\010.Red_winged_Blackbird\\\\Red_Winged_Blackbird_0013_5762.jpg',\n 'birds\\\\010.Red_winged_Blackbird\\\\Red_Winged_Blackbird_0014_3761.jpg',\n 'birds\\\\010.Red_winged_Blackbird\\\\Red_Winged_Blackbird_0017_4116.jpg',\n 'birds\\\\010.Red_winged_Blackbird\\\\Red_Winged_Blackbird_0020_4050.jpg',\n 'birds\\\\010.Red_winged_Blackbird\\\\Red_Winged_Blackbird_0021_3767.jpg',\n 'birds\\\\010.Red_winged_Blackbird\\\\Red_Winged_Blackbird_0022_4483.jpg',\n 'birds\\\\010.Red_winged_Blackbird\\\\Red_Winged_Blackbird_0023_5257.jpg',\n 'birds\\\\010.Red_winged_Blackbird\\\\Red_Winged_Blackbird_0024_4180.jpg',\n 'birds\\\\010.Red_winged_Blackbird\\\\Red_Winged_Blackbird_0025_5342.jpg',\n 'birds\\\\010.Red_winged_Blackbird\\\\Red_Winged_Blackbird_0027_4123.jpg',\n 'birds\\\\010.Red_winged_Blackbird\\\\Red_Winged_Blackbird_0028_4709.jpg',\n 'birds\\\\010.Red_winged_Blackbird\\\\Red_Winged_Blackbird_0029_4804.jpg',\n 'birds\\\\010.Red_winged_Blackbird\\\\Red_Winged_Blackbird_0032_4004.jpg',\n 'birds\\\\010.Red_winged_Blackbird\\\\Red_Winged_Blackbird_0039_4285.jpg',\n 'birds\\\\010.Red_winged_Blackbird\\\\Red_Winged_Blackbird_0040_4522.jpg',\n 'birds\\\\010.Red_winged_Blackbird\\\\Red_Winged_Blackbird_0042_3635.jpg',\n 'birds\\\\010.Red_winged_Blackbird\\\\Red_Winged_Blackbird_0044_5621.jpg',\n 'birds\\\\010.Red_winged_Blackbird\\\\Red_Winged_Blackbird_0045_4526.jpg',\n 'birds\\\\010.Red_winged_Blackbird\\\\Red_Winged_Blackbird_0046_4242.jpg',\n 'birds\\\\010.Red_winged_Blackbird\\\\Red_Winged_Blackbird_0047_3802.jpg',\n 'birds\\\\010.Red_winged_Blackbird\\\\Red_Winged_Blackbird_0049_5598.jpg',\n 'birds\\\\010.Red_winged_Blackbird\\\\Red_Winged_Blackbird_0052_5575.jpg',\n 'birds\\\\010.Red_winged_Blackbird\\\\Red_Winged_Blackbird_0053_4072.jpg',\n 'birds\\\\010.Red_winged_Blackbird\\\\Red_Winged_Blackbird_0054_4625.jpg',\n 'birds\\\\010.Red_winged_Blackbird\\\\Red_Winged_Blackbird_0055_4345.jpg',\n 'birds\\\\010.Red_winged_Blackbird\\\\Red_Winged_Blackbird_0058_4141.jpg',\n 'birds\\\\010.Red_winged_Blackbird\\\\Red_Winged_Blackbird_0059_4612.jpg',\n 'birds\\\\010.Red_winged_Blackbird\\\\Red_Winged_Blackbird_0060_4688.jpg',\n 'birds\\\\010.Red_winged_Blackbird\\\\Red_Winged_Blackbird_0061_4196.jpg',\n 'birds\\\\010.Red_winged_Blackbird\\\\Red_Winged_Blackbird_0062_4233.jpg',\n 'birds\\\\010.Red_winged_Blackbird\\\\Red_Winged_Blackbird_0064_4936.jpg',\n 'birds\\\\010.Red_winged_Blackbird\\\\Red_Winged_Blackbird_0065_4026.jpg',\n 'birds\\\\010.Red_winged_Blackbird\\\\Red_Winged_Blackbird_0066_5070.jpg',\n 'birds\\\\010.Red_winged_Blackbird\\\\Red_Winged_Blackbird_0071_3988.jpg',\n 'birds\\\\010.Red_winged_Blackbird\\\\Red_Winged_Blackbird_0072_4338.jpg',\n 'birds\\\\010.Red_winged_Blackbird\\\\Red_Winged_Blackbird_0074_4146.jpg',\n 'birds\\\\010.Red_winged_Blackbird\\\\Red_Winged_Blackbird_0075_4953.jpg',\n 'birds\\\\010.Red_winged_Blackbird\\\\Red_Winged_Blackbird_0078_5372.jpg',\n 'birds\\\\010.Red_winged_Blackbird\\\\Red_Winged_Blackbird_0079_4527.jpg',\n 'birds\\\\010.Red_winged_Blackbird\\\\Red_Winged_Blackbird_0081_6081.jpg',\n 'birds\\\\010.Red_winged_Blackbird\\\\Red_Winged_Blackbird_0085_5846.jpg',\n 'birds\\\\010.Red_winged_Blackbird\\\\Red_Winged_Blackbird_0088_4007.jpg',\n 'birds\\\\010.Red_winged_Blackbird\\\\Red_Winged_Blackbird_0089_4188.jpg',\n 'birds\\\\010.Red_winged_Blackbird\\\\Red_Winged_Blackbird_0091_4096.jpg',\n 'birds\\\\010.Red_winged_Blackbird\\\\Red_Winged_Blackbird_0093_5948.jpg',\n 'birds\\\\010.Red_winged_Blackbird\\\\Red_Winged_Blackbird_0094_5856.jpg',\n 'birds\\\\010.Red_winged_Blackbird\\\\Red_Winged_Blackbird_0096_5019.jpg',\n 'birds\\\\010.Red_winged_Blackbird\\\\Red_Winged_Blackbird_0099_3985.jpg',\n 'birds\\\\010.Red_winged_Blackbird\\\\Red_Winged_Blackbird_0101_6244.jpg',\n 'birds\\\\010.Red_winged_Blackbird\\\\Red_Winged_Blackbird_0104_3918.jpg',\n 'birds\\\\010.Red_winged_Blackbird\\\\Red_Winged_Blackbird_0105_4842.jpg',\n 'birds\\\\010.Red_winged_Blackbird\\\\Red_Winged_Blackbird_0109_4454.jpg',\n 'birds\\\\011.Rusty_Blackbird\\\\Rusty_Blackbird_0001_6548.jpg',\n 'birds\\\\011.Rusty_Blackbird\\\\Rusty_Blackbird_0003_6749.jpg',\n 'birds\\\\011.Rusty_Blackbird\\\\Rusty_Blackbird_0005_6771.jpg',\n 'birds\\\\011.Rusty_Blackbird\\\\Rusty_Blackbird_0006_6633.jpg',\n 'birds\\\\011.Rusty_Blackbird\\\\Rusty_Blackbird_0009_6853.jpg',\n 'birds\\\\011.Rusty_Blackbird\\\\Rusty_Blackbird_0011_7028.jpg',\n 'birds\\\\011.Rusty_Blackbird\\\\Rusty_Blackbird_0013_6902.jpg',\n 'birds\\\\011.Rusty_Blackbird\\\\Rusty_Blackbird_0015_6885.jpg',\n 'birds\\\\011.Rusty_Blackbird\\\\Rusty_Blackbird_0016_6684.jpg',\n 'birds\\\\011.Rusty_Blackbird\\\\Rusty_Blackbird_0017_6755.jpg',\n 'birds\\\\011.Rusty_Blackbird\\\\Rusty_Blackbird_0019_6704.jpg',\n 'birds\\\\011.Rusty_Blackbird\\\\Rusty_Blackbird_0020_6679.jpg',\n 'birds\\\\011.Rusty_Blackbird\\\\Rusty_Blackbird_0022_6808.jpg',\n 'birds\\\\011.Rusty_Blackbird\\\\Rusty_Blackbird_0023_6752.jpg',\n 'birds\\\\011.Rusty_Blackbird\\\\Rusty_Blackbird_0026_6768.jpg',\n 'birds\\\\011.Rusty_Blackbird\\\\Rusty_Blackbird_0027_6593.jpg',\n 'birds\\\\011.Rusty_Blackbird\\\\Rusty_Blackbird_0031_6699.jpg',\n 'birds\\\\011.Rusty_Blackbird\\\\Rusty_Blackbird_0032_6611.jpg',\n 'birds\\\\011.Rusty_Blackbird\\\\Rusty_Blackbird_0033_6879.jpg',\n 'birds\\\\011.Rusty_Blackbird\\\\Rusty_Blackbird_0036_6550.jpg',\n 'birds\\\\011.Rusty_Blackbird\\\\Rusty_Blackbird_0043_2597.jpg',\n 'birds\\\\011.Rusty_Blackbird\\\\Rusty_Blackbird_0047_7009.jpg',\n 'birds\\\\011.Rusty_Blackbird\\\\Rusty_Blackbird_0048_6632.jpg',\n 'birds\\\\011.Rusty_Blackbird\\\\Rusty_Blackbird_0051_6715.jpg',\n 'birds\\\\011.Rusty_Blackbird\\\\Rusty_Blackbird_0052_7035.jpg',\n 'birds\\\\011.Rusty_Blackbird\\\\Rusty_Blackbird_0054_6676.jpg',\n 'birds\\\\011.Rusty_Blackbird\\\\Rusty_Blackbird_0055_6923.jpg',\n 'birds\\\\011.Rusty_Blackbird\\\\Rusty_Blackbird_0056_6856.jpg',\n 'birds\\\\011.Rusty_Blackbird\\\\Rusty_Blackbird_0057_6935.jpg',\n 'birds\\\\011.Rusty_Blackbird\\\\Rusty_Blackbird_0060_6756.jpg',\n 'birds\\\\011.Rusty_Blackbird\\\\Rusty_Blackbird_0073_6744.jpg',\n 'birds\\\\011.Rusty_Blackbird\\\\Rusty_Blackbird_0074_6585.jpg',\n 'birds\\\\011.Rusty_Blackbird\\\\Rusty_Blackbird_0075_6717.jpg',\n 'birds\\\\011.Rusty_Blackbird\\\\Rusty_Blackbird_0076_6716.jpg',\n 'birds\\\\011.Rusty_Blackbird\\\\Rusty_Blackbird_0080_6877.jpg',\n 'birds\\\\011.Rusty_Blackbird\\\\Rusty_Blackbird_0081_6967.jpg',\n 'birds\\\\011.Rusty_Blackbird\\\\Rusty_Blackbird_0082_6906.jpg',\n 'birds\\\\011.Rusty_Blackbird\\\\Rusty_Blackbird_0085_6713.jpg',\n 'birds\\\\011.Rusty_Blackbird\\\\Rusty_Blackbird_0086_6658.jpg',\n 'birds\\\\011.Rusty_Blackbird\\\\Rusty_Blackbird_0087_6727.jpg',\n 'birds\\\\011.Rusty_Blackbird\\\\Rusty_Blackbird_0091_6695.jpg',\n 'birds\\\\011.Rusty_Blackbird\\\\Rusty_Blackbird_0092_2727.jpg',\n 'birds\\\\011.Rusty_Blackbird\\\\Rusty_Blackbird_0093_6628.jpg',\n 'birds\\\\011.Rusty_Blackbird\\\\Rusty_Blackbird_0094_6582.jpg',\n 'birds\\\\011.Rusty_Blackbird\\\\Rusty_Blackbird_0096_6846.jpg',\n 'birds\\\\011.Rusty_Blackbird\\\\Rusty_Blackbird_0100_6597.jpg',\n 'birds\\\\011.Rusty_Blackbird\\\\Rusty_Blackbird_0101_6880.jpg',\n 'birds\\\\011.Rusty_Blackbird\\\\Rusty_Blackbird_0102_6590.jpg',\n 'birds\\\\011.Rusty_Blackbird\\\\Rusty_Blackbird_0104_6685.jpg',\n 'birds\\\\011.Rusty_Blackbird\\\\Rusty_Blackbird_0105_6937.jpg',\n 'birds\\\\011.Rusty_Blackbird\\\\Rusty_Blackbird_0107_6839.jpg',\n 'birds\\\\011.Rusty_Blackbird\\\\Rusty_Blackbird_0108_6867.jpg',\n 'birds\\\\011.Rusty_Blackbird\\\\Rusty_Blackbird_0109_6698.jpg',\n 'birds\\\\011.Rusty_Blackbird\\\\Rusty_Blackbird_0111_3220.jpg',\n 'birds\\\\011.Rusty_Blackbird\\\\Rusty_Blackbird_0112_3415.jpg',\n 'birds\\\\011.Rusty_Blackbird\\\\Rusty_Blackbird_0113_6664.jpg',\n 'birds\\\\011.Rusty_Blackbird\\\\Rusty_Blackbird_0114_6760.jpg',\n 'birds\\\\011.Rusty_Blackbird\\\\Rusty_Blackbird_0120_6762.jpg',\n 'birds\\\\011.Rusty_Blackbird\\\\Rusty_Blackbird_0121_6637.jpg',\n 'birds\\\\011.Rusty_Blackbird\\\\Rusty_Blackbird_0122_6736.jpg',\n 'birds\\\\012.Yellow_headed_Blackbird\\\\Yellow_Headed_Blackbird_0003_8337.jpg',\n 'birds\\\\012.Yellow_headed_Blackbird\\\\Yellow_Headed_Blackbird_0007_8366.jpg',\n 'birds\\\\012.Yellow_headed_Blackbird\\\\Yellow_Headed_Blackbird_0008_8756.jpg',\n 'birds\\\\012.Yellow_headed_Blackbird\\\\Yellow_Headed_Blackbird_0009_8248.jpg',\n 'birds\\\\012.Yellow_headed_Blackbird\\\\Yellow_Headed_Blackbird_0012_8443.jpg',\n 'birds\\\\012.Yellow_headed_Blackbird\\\\Yellow_Headed_Blackbird_0013_8362.jpg',\n 'birds\\\\012.Yellow_headed_Blackbird\\\\Yellow_Headed_Blackbird_0015_8207.jpg',\n 'birds\\\\012.Yellow_headed_Blackbird\\\\Yellow_Headed_Blackbird_0017_8511.jpg',\n 'birds\\\\012.Yellow_headed_Blackbird\\\\Yellow_Headed_Blackbird_0018_8588.jpg',\n 'birds\\\\012.Yellow_headed_Blackbird\\\\Yellow_Headed_Blackbird_0020_8549.jpg',\n 'birds\\\\012.Yellow_headed_Blackbird\\\\Yellow_Headed_Blackbird_0023_7325.jpg',\n 'birds\\\\012.Yellow_headed_Blackbird\\\\Yellow_Headed_Blackbird_0024_8586.jpg',\n 'birds\\\\012.Yellow_headed_Blackbird\\\\Yellow_Headed_Blackbird_0025_8262.jpg',\n 'birds\\\\012.Yellow_headed_Blackbird\\\\Yellow_Headed_Blackbird_0026_8545.jpg',\n 'birds\\\\012.Yellow_headed_Blackbird\\\\Yellow_Headed_Blackbird_0031_8456.jpg',\n 'birds\\\\012.Yellow_headed_Blackbird\\\\Yellow_Headed_Blackbird_0034_7736.jpg',\n 'birds\\\\012.Yellow_headed_Blackbird\\\\Yellow_Headed_Blackbird_0035_8447.jpg',\n 'birds\\\\012.Yellow_headed_Blackbird\\\\Yellow_Headed_Blackbird_0038_8689.jpg',\n 'birds\\\\012.Yellow_headed_Blackbird\\\\Yellow_Headed_Blackbird_0040_7514.jpg',\n 'birds\\\\012.Yellow_headed_Blackbird\\\\Yellow_Headed_Blackbird_0041_8264.jpg',\n 'birds\\\\012.Yellow_headed_Blackbird\\\\Yellow_Headed_Blackbird_0042_8574.jpg',\n 'birds\\\\012.Yellow_headed_Blackbird\\\\Yellow_Headed_Blackbird_0043_8250.jpg',\n 'birds\\\\012.Yellow_headed_Blackbird\\\\Yellow_Headed_Blackbird_0047_7929.jpg',\n 'birds\\\\012.Yellow_headed_Blackbird\\\\Yellow_Headed_Blackbird_0049_8548.jpg',\n 'birds\\\\012.Yellow_headed_Blackbird\\\\Yellow_Headed_Blackbird_0051_8387.jpg',\n 'birds\\\\012.Yellow_headed_Blackbird\\\\Yellow_Headed_Blackbird_0053_8410.jpg',\n 'birds\\\\012.Yellow_headed_Blackbird\\\\Yellow_Headed_Blackbird_0055_8357.jpg',\n 'birds\\\\012.Yellow_headed_Blackbird\\\\Yellow_Headed_Blackbird_0056_8455.jpg',\n 'birds\\\\012.Yellow_headed_Blackbird\\\\Yellow_Headed_Blackbird_0057_8236.jpg',\n 'birds\\\\012.Yellow_headed_Blackbird\\\\Yellow_Headed_Blackbird_0058_8350.jpg',\n 'birds\\\\012.Yellow_headed_Blackbird\\\\Yellow_Headed_Blackbird_0059_8079.jpg',\n 'birds\\\\012.Yellow_headed_Blackbird\\\\Yellow_Headed_Blackbird_0061_8208.jpg',\n 'birds\\\\012.Yellow_headed_Blackbird\\\\Yellow_Headed_Blackbird_0062_8310.jpg',\n 'birds\\\\012.Yellow_headed_Blackbird\\\\Yellow_Headed_Blackbird_0065_8481.jpg',\n 'birds\\\\012.Yellow_headed_Blackbird\\\\Yellow_Headed_Blackbird_0070_8583.jpg',\n 'birds\\\\012.Yellow_headed_Blackbird\\\\Yellow_Headed_Blackbird_0072_8606.jpg',\n 'birds\\\\012.Yellow_headed_Blackbird\\\\Yellow_Headed_Blackbird_0073_8442.jpg',\n 'birds\\\\012.Yellow_headed_Blackbird\\\\Yellow_Headed_Blackbird_0074_8452.jpg',\n 'birds\\\\012.Yellow_headed_Blackbird\\\\Yellow_Headed_Blackbird_0077_8332.jpg',\n 'birds\\\\012.Yellow_headed_Blackbird\\\\Yellow_Headed_Blackbird_0079_8535.jpg',\n 'birds\\\\012.Yellow_headed_Blackbird\\\\Yellow_Headed_Blackbird_0080_8601.jpg',\n 'birds\\\\012.Yellow_headed_Blackbird\\\\Yellow_Headed_Blackbird_0082_8577.jpg',\n 'birds\\\\012.Yellow_headed_Blackbird\\\\Yellow_Headed_Blackbird_0083_8300.jpg',\n 'birds\\\\012.Yellow_headed_Blackbird\\\\Yellow_Headed_Blackbird_0084_8435.jpg',\n 'birds\\\\012.Yellow_headed_Blackbird\\\\Yellow_Headed_Blackbird_0085_8363.jpg',\n 'birds\\\\012.Yellow_headed_Blackbird\\\\Yellow_Headed_Blackbird_0086_8487.jpg',\n 'birds\\\\012.Yellow_headed_Blackbird\\\\Yellow_Headed_Blackbird_0087_8358.jpg',\n 'birds\\\\012.Yellow_headed_Blackbird\\\\Yellow_Headed_Blackbird_0088_8257.jpg',\n 'birds\\\\012.Yellow_headed_Blackbird\\\\Yellow_Headed_Blackbird_0089_8326.jpg',\n 'birds\\\\012.Yellow_headed_Blackbird\\\\Yellow_Headed_Blackbird_0091_8555.jpg',\n 'birds\\\\012.Yellow_headed_Blackbird\\\\Yellow_Headed_Blackbird_0095_8458.jpg',\n 'birds\\\\012.Yellow_headed_Blackbird\\\\Yellow_Headed_Blackbird_0098_8367.jpg',\n 'birds\\\\012.Yellow_headed_Blackbird\\\\Yellow_Headed_Blackbird_0100_8407.jpg',\n 'birds\\\\012.Yellow_headed_Blackbird\\\\Yellow_Headed_Blackbird_0102_8441.jpg',\n 'birds\\\\012.Yellow_headed_Blackbird\\\\Yellow_Headed_Blackbird_0108_7937.jpg',\n 'birds\\\\012.Yellow_headed_Blackbird\\\\Yellow_Headed_Blackbird_0109_8271.jpg',\n 'birds\\\\013.Bobolink\\\\Bobolink_0001_9261.jpg',\n 'birds\\\\013.Bobolink\\\\Bobolink_0002_11085.jpg',\n 'birds\\\\013.Bobolink\\\\Bobolink_0007_9246.jpg',\n 'birds\\\\013.Bobolink\\\\Bobolink_0008_9289.jpg',\n 'birds\\\\013.Bobolink\\\\Bobolink_0013_9367.jpg',\n 'birds\\\\013.Bobolink\\\\Bobolink_0014_11055.jpg',\n 'birds\\\\013.Bobolink\\\\Bobolink_0018_9402.jpg',\n 'birds\\\\013.Bobolink\\\\Bobolink_0019_10552.jpg',\n 'birds\\\\013.Bobolink\\\\Bobolink_0020_9194.jpg',\n 'birds\\\\013.Bobolink\\\\Bobolink_0021_10623.jpg',\n 'birds\\\\013.Bobolink\\\\Bobolink_0026_11057.jpg',\n 'birds\\\\013.Bobolink\\\\Bobolink_0027_10569.jpg',\n 'birds\\\\013.Bobolink\\\\Bobolink_0032_10217.jpg',\n 'birds\\\\013.Bobolink\\\\Bobolink_0033_10809.jpg',\n 'birds\\\\013.Bobolink\\\\Bobolink_0035_11117.jpg',\n 'birds\\\\013.Bobolink\\\\Bobolink_0039_9779.jpg',\n 'birds\\\\013.Bobolink\\\\Bobolink_0040_9681.jpg',\n 'birds\\\\013.Bobolink\\\\Bobolink_0043_10607.jpg',\n 'birds\\\\013.Bobolink\\\\Bobolink_0044_9990.jpg',\n 'birds\\\\013.Bobolink\\\\Bobolink_0047_9204.jpg',\n 'birds\\\\013.Bobolink\\\\Bobolink_0048_9988.jpg',\n 'birds\\\\013.Bobolink\\\\Bobolink_0049_9540.jpg',\n 'birds\\\\013.Bobolink\\\\Bobolink_0050_9821.jpg',\n 'birds\\\\013.Bobolink\\\\Bobolink_0052_9423.jpg',\n 'birds\\\\013.Bobolink\\\\Bobolink_0053_10166.jpg',\n 'birds\\\\013.Bobolink\\\\Bobolink_0056_9080.jpg',\n 'birds\\\\013.Bobolink\\\\Bobolink_0057_10051.jpg',\n 'birds\\\\013.Bobolink\\\\Bobolink_0059_10041.jpg',\n 'birds\\\\013.Bobolink\\\\Bobolink_0064_10092.jpg',\n 'birds\\\\013.Bobolink\\\\Bobolink_0065_9375.jpg',\n 'birds\\\\013.Bobolink\\\\Bobolink_0067_11533.jpg',\n 'birds\\\\013.Bobolink\\\\Bobolink_0069_9085.jpg',\n 'birds\\\\013.Bobolink\\\\Bobolink_0070_10624.jpg',\n 'birds\\\\013.Bobolink\\\\Bobolink_0071_9503.jpg',\n 'birds\\\\013.Bobolink\\\\Bobolink_0074_9311.jpg',\n 'birds\\\\013.Bobolink\\\\Bobolink_0076_11093.jpg',\n 'birds\\\\013.Bobolink\\\\Bobolink_0079_10736.jpg',\n 'birds\\\\013.Bobolink\\\\Bobolink_0081_9439.jpg',\n 'birds\\\\013.Bobolink\\\\Bobolink_0092_10026.jpg',\n 'birds\\\\013.Bobolink\\\\Bobolink_0094_9823.jpg',\n 'birds\\\\013.Bobolink\\\\Bobolink_0097_10861.jpg',\n 'birds\\\\013.Bobolink\\\\Bobolink_0099_9314.jpg',\n 'birds\\\\013.Bobolink\\\\Bobolink_0101_9811.jpg',\n 'birds\\\\013.Bobolink\\\\Bobolink_0102_10807.jpg',\n 'birds\\\\013.Bobolink\\\\Bobolink_0104_10273.jpg',\n 'birds\\\\013.Bobolink\\\\Bobolink_0106_9126.jpg',\n 'birds\\\\013.Bobolink\\\\Bobolink_0107_10252.jpg',\n 'birds\\\\013.Bobolink\\\\Bobolink_0109_9869.jpg',\n 'birds\\\\013.Bobolink\\\\Bobolink_0110_9496.jpg',\n 'birds\\\\013.Bobolink\\\\Bobolink_0112_11073.jpg',\n 'birds\\\\013.Bobolink\\\\Bobolink_0114_10627.jpg',\n 'birds\\\\013.Bobolink\\\\Bobolink_0115_9265.jpg',\n 'birds\\\\013.Bobolink\\\\Bobolink_0117_10215.jpg',\n 'birds\\\\013.Bobolink\\\\Bobolink_0119_10430.jpg',\n 'birds\\\\013.Bobolink\\\\Bobolink_0120_10859.jpg',\n 'birds\\\\013.Bobolink\\\\Bobolink_0124_10182.jpg',\n 'birds\\\\013.Bobolink\\\\Bobolink_0126_11458.jpg',\n 'birds\\\\013.Bobolink\\\\Bobolink_0128_9947.jpg',\n 'birds\\\\013.Bobolink\\\\Bobolink_0131_9578.jpg',\n 'birds\\\\013.Bobolink\\\\Bobolink_0133_9618.jpg',\n 'birds\\\\014.Indigo_Bunting\\\\Indigo_Bunting_0001_12469.jpg',\n 'birds\\\\014.Indigo_Bunting\\\\Indigo_Bunting_0002_12163.jpg',\n 'birds\\\\014.Indigo_Bunting\\\\Indigo_Bunting_0003_13049.jpg',\n 'birds\\\\014.Indigo_Bunting\\\\Indigo_Bunting_0004_13195.jpg',\n 'birds\\\\014.Indigo_Bunting\\\\Indigo_Bunting_0005_13832.jpg',\n 'birds\\\\014.Indigo_Bunting\\\\Indigo_Bunting_0006_14317.jpg',\n 'birds\\\\014.Indigo_Bunting\\\\Indigo_Bunting_0010_13000.jpg',\n 'birds\\\\014.Indigo_Bunting\\\\Indigo_Bunting_0013_12949.jpg',\n 'birds\\\\014.Indigo_Bunting\\\\Indigo_Bunting_0014_14167.jpg',\n 'birds\\\\014.Indigo_Bunting\\\\Indigo_Bunting_0015_12632.jpg',\n 'birds\\\\014.Indigo_Bunting\\\\Indigo_Bunting_0016_13661.jpg',\n 'birds\\\\014.Indigo_Bunting\\\\Indigo_Bunting_0017_11574.jpg',\n 'birds\\\\014.Indigo_Bunting\\\\Indigo_Bunting_0018_11883.jpg',\n 'birds\\\\014.Indigo_Bunting\\\\Indigo_Bunting_0021_13979.jpg',\n 'birds\\\\014.Indigo_Bunting\\\\Indigo_Bunting_0022_12781.jpg',\n 'birds\\\\014.Indigo_Bunting\\\\Indigo_Bunting_0024_13523.jpg',\n 'birds\\\\014.Indigo_Bunting\\\\Indigo_Bunting_0025_12532.jpg',\n 'birds\\\\014.Indigo_Bunting\\\\Indigo_Bunting_0026_11964.jpg',\n 'birds\\\\014.Indigo_Bunting\\\\Indigo_Bunting_0027_11579.jpg',\n 'birds\\\\014.Indigo_Bunting\\\\Indigo_Bunting_0028_12335.jpg',\n 'birds\\\\014.Indigo_Bunting\\\\Indigo_Bunting_0029_13761.jpg',\n 'birds\\\\014.Indigo_Bunting\\\\Indigo_Bunting_0031_13300.jpg',\n 'birds\\\\014.Indigo_Bunting\\\\Indigo_Bunting_0032_12215.jpg',\n 'birds\\\\014.Indigo_Bunting\\\\Indigo_Bunting_0033_12777.jpg',\n 'birds\\\\014.Indigo_Bunting\\\\Indigo_Bunting_0034_12464.jpg',\n 'birds\\\\014.Indigo_Bunting\\\\Indigo_Bunting_0036_13716.jpg',\n 'birds\\\\014.Indigo_Bunting\\\\Indigo_Bunting_0037_14128.jpg',\n 'birds\\\\014.Indigo_Bunting\\\\Indigo_Bunting_0039_12756.jpg',\n 'birds\\\\014.Indigo_Bunting\\\\Indigo_Bunting_0040_11805.jpg',\n 'birds\\\\014.Indigo_Bunting\\\\Indigo_Bunting_0041_13987.jpg',\n 'birds\\\\014.Indigo_Bunting\\\\Indigo_Bunting_0044_14389.jpg',\n 'birds\\\\014.Indigo_Bunting\\\\Indigo_Bunting_0047_12966.jpg',\n 'birds\\\\014.Indigo_Bunting\\\\Indigo_Bunting_0049_13641.jpg',\n 'birds\\\\014.Indigo_Bunting\\\\Indigo_Bunting_0050_11811.jpg',\n 'birds\\\\014.Indigo_Bunting\\\\Indigo_Bunting_0051_12837.jpg',\n 'birds\\\\014.Indigo_Bunting\\\\Indigo_Bunting_0052_11893.jpg',\n 'birds\\\\014.Indigo_Bunting\\\\Indigo_Bunting_0053_13391.jpg',\n 'birds\\\\014.Indigo_Bunting\\\\Indigo_Bunting_0054_12213.jpg',\n 'birds\\\\014.Indigo_Bunting\\\\Indigo_Bunting_0055_13473.jpg',\n 'birds\\\\014.Indigo_Bunting\\\\Indigo_Bunting_0056_12637.jpg',\n 'birds\\\\014.Indigo_Bunting\\\\Indigo_Bunting_0058_12207.jpg',\n 'birds\\\\014.Indigo_Bunting\\\\Indigo_Bunting_0059_11596.jpg',\n 'birds\\\\014.Indigo_Bunting\\\\Indigo_Bunting_0060_14495.jpg',\n 'birds\\\\014.Indigo_Bunting\\\\Indigo_Bunting_0061_13259.jpg',\n 'birds\\\\014.Indigo_Bunting\\\\Indigo_Bunting_0063_11820.jpg',\n 'birds\\\\014.Indigo_Bunting\\\\Indigo_Bunting_0065_14558.jpg',\n 'birds\\\\014.Indigo_Bunting\\\\Indigo_Bunting_0066_12869.jpg',\n 'birds\\\\014.Indigo_Bunting\\\\Indigo_Bunting_0068_13081.jpg',\n 'birds\\\\014.Indigo_Bunting\\\\Indigo_Bunting_0071_11639.jpg',\n 'birds\\\\014.Indigo_Bunting\\\\Indigo_Bunting_0072_14197.jpg',\n 'birds\\\\014.Indigo_Bunting\\\\Indigo_Bunting_0073_13933.jpg',\n 'birds\\\\014.Indigo_Bunting\\\\Indigo_Bunting_0074_12829.jpg',\n 'birds\\\\014.Indigo_Bunting\\\\Indigo_Bunting_0075_12835.jpg',\n 'birds\\\\014.Indigo_Bunting\\\\Indigo_Bunting_0076_12950.jpg',\n 'birds\\\\014.Indigo_Bunting\\\\Indigo_Bunting_0077_14060.jpg',\n 'birds\\\\014.Indigo_Bunting\\\\Indigo_Bunting_0078_11852.jpg',\n 'birds\\\\014.Indigo_Bunting\\\\Indigo_Bunting_0080_13416.jpg',\n 'birds\\\\014.Indigo_Bunting\\\\Indigo_Bunting_0082_11907.jpg',\n 'birds\\\\014.Indigo_Bunting\\\\Indigo_Bunting_0084_11848.jpg',\n 'birds\\\\014.Indigo_Bunting\\\\Indigo_Bunting_0085_11991.jpg',\n 'birds\\\\015.Lazuli_Bunting\\\\Lazuli_Bunting_0001_14916.jpg',\n 'birds\\\\015.Lazuli_Bunting\\\\Lazuli_Bunting_0004_14887.jpg',\n 'birds\\\\015.Lazuli_Bunting\\\\Lazuli_Bunting_0008_15195.jpg',\n 'birds\\\\015.Lazuli_Bunting\\\\Lazuli_Bunting_0009_15163.jpg',\n 'birds\\\\015.Lazuli_Bunting\\\\Lazuli_Bunting_0010_14915.jpg',\n 'birds\\\\015.Lazuli_Bunting\\\\Lazuli_Bunting_0014_14824.jpg',\n 'birds\\\\015.Lazuli_Bunting\\\\Lazuli_Bunting_0015_14690.jpg',\n 'birds\\\\015.Lazuli_Bunting\\\\Lazuli_Bunting_0020_14837.jpg',\n 'birds\\\\015.Lazuli_Bunting\\\\Lazuli_Bunting_0021_14686.jpg',\n 'birds\\\\015.Lazuli_Bunting\\\\Lazuli_Bunting_0025_15079.jpg',\n 'birds\\\\015.Lazuli_Bunting\\\\Lazuli_Bunting_0026_14669.jpg',\n 'birds\\\\015.Lazuli_Bunting\\\\Lazuli_Bunting_0027_14895.jpg',\n 'birds\\\\015.Lazuli_Bunting\\\\Lazuli_Bunting_0028_14950.jpg',\n 'birds\\\\015.Lazuli_Bunting\\\\Lazuli_Bunting_0030_14986.jpg',\n 'birds\\\\015.Lazuli_Bunting\\\\Lazuli_Bunting_0031_15018.jpg',\n 'birds\\\\015.Lazuli_Bunting\\\\Lazuli_Bunting_0032_14778.jpg',\n 'birds\\\\015.Lazuli_Bunting\\\\Lazuli_Bunting_0034_14864.jpg',\n 'birds\\\\015.Lazuli_Bunting\\\\Lazuli_Bunting_0035_14920.jpg',\n 'birds\\\\015.Lazuli_Bunting\\\\Lazuli_Bunting_0037_15021.jpg',\n 'birds\\\\015.Lazuli_Bunting\\\\Lazuli_Bunting_0039_15081.jpg',\n 'birds\\\\015.Lazuli_Bunting\\\\Lazuli_Bunting_0040_14923.jpg',\n 'birds\\\\015.Lazuli_Bunting\\\\Lazuli_Bunting_0041_15152.jpg',\n 'birds\\\\015.Lazuli_Bunting\\\\Lazuli_Bunting_0042_14820.jpg',\n 'birds\\\\015.Lazuli_Bunting\\\\Lazuli_Bunting_0045_14954.jpg',\n 'birds\\\\015.Lazuli_Bunting\\\\Lazuli_Bunting_0046_14787.jpg',\n 'birds\\\\015.Lazuli_Bunting\\\\Lazuli_Bunting_0047_14863.jpg',\n 'birds\\\\015.Lazuli_Bunting\\\\Lazuli_Bunting_0048_14844.jpg',\n 'birds\\\\015.Lazuli_Bunting\\\\Lazuli_Bunting_0052_14618.jpg',\n 'birds\\\\015.Lazuli_Bunting\\\\Lazuli_Bunting_0054_14714.jpg',\n 'birds\\\\015.Lazuli_Bunting\\\\Lazuli_Bunting_0055_15043.jpg',\n 'birds\\\\015.Lazuli_Bunting\\\\Lazuli_Bunting_0056_15032.jpg',\n 'birds\\\\015.Lazuli_Bunting\\\\Lazuli_Bunting_0057_14775.jpg',\n 'birds\\\\015.Lazuli_Bunting\\\\Lazuli_Bunting_0059_14749.jpg',\n 'birds\\\\015.Lazuli_Bunting\\\\Lazuli_Bunting_0061_15155.jpg',\n 'birds\\\\015.Lazuli_Bunting\\\\Lazuli_Bunting_0066_14914.jpg',\n 'birds\\\\015.Lazuli_Bunting\\\\Lazuli_Bunting_0067_14672.jpg',\n 'birds\\\\015.Lazuli_Bunting\\\\Lazuli_Bunting_0070_14665.jpg',\n 'birds\\\\015.Lazuli_Bunting\\\\Lazuli_Bunting_0073_14594.jpg',\n 'birds\\\\015.Lazuli_Bunting\\\\Lazuli_Bunting_0074_14854.jpg',\n 'birds\\\\015.Lazuli_Bunting\\\\Lazuli_Bunting_0076_14662.jpg',\n 'birds\\\\015.Lazuli_Bunting\\\\Lazuli_Bunting_0078_15164.jpg',\n 'birds\\\\015.Lazuli_Bunting\\\\Lazuli_Bunting_0080_14893.jpg',\n 'birds\\\\015.Lazuli_Bunting\\\\Lazuli_Bunting_0081_14709.jpg',\n 'birds\\\\015.Lazuli_Bunting\\\\Lazuli_Bunting_0082_15047.jpg',\n 'birds\\\\015.Lazuli_Bunting\\\\Lazuli_Bunting_0084_14815.jpg',\n 'birds\\\\015.Lazuli_Bunting\\\\Lazuli_Bunting_0085_14627.jpg',\n 'birds\\\\015.Lazuli_Bunting\\\\Lazuli_Bunting_0086_14992.jpg',\n 'birds\\\\015.Lazuli_Bunting\\\\Lazuli_Bunting_0087_15096.jpg',\n 'birds\\\\015.Lazuli_Bunting\\\\Lazuli_Bunting_0089_14598.jpg',\n 'birds\\\\015.Lazuli_Bunting\\\\Lazuli_Bunting_0092_14656.jpg',\n 'birds\\\\015.Lazuli_Bunting\\\\Lazuli_Bunting_0093_15030.jpg',\n 'birds\\\\015.Lazuli_Bunting\\\\Lazuli_Bunting_0094_11894.jpg',\n 'birds\\\\015.Lazuli_Bunting\\\\Lazuli_Bunting_0095_14919.jpg',\n 'birds\\\\015.Lazuli_Bunting\\\\Lazuli_Bunting_0097_14617.jpg',\n 'birds\\\\015.Lazuli_Bunting\\\\Lazuli_Bunting_0101_14873.jpg',\n 'birds\\\\015.Lazuli_Bunting\\\\Lazuli_Bunting_0102_14605.jpg',\n 'birds\\\\015.Lazuli_Bunting\\\\Lazuli_Bunting_0105_15017.jpg',\n 'birds\\\\015.Lazuli_Bunting\\\\Lazuli_Bunting_0107_14705.jpg',\n 'birds\\\\016.Painted_Bunting\\\\Painted_Bunting_0001_16585.jpg',\n 'birds\\\\016.Painted_Bunting\\\\Painted_Bunting_0002_16887.jpg',\n 'birds\\\\016.Painted_Bunting\\\\Painted_Bunting_0004_16641.jpg',\n 'birds\\\\016.Painted_Bunting\\\\Painted_Bunting_0005_15202.jpg',\n 'birds\\\\016.Painted_Bunting\\\\Painted_Bunting_0006_15249.jpg',\n 'birds\\\\016.Painted_Bunting\\\\Painted_Bunting_0008_16416.jpg',\n 'birds\\\\016.Painted_Bunting\\\\Painted_Bunting_0009_16674.jpg',\n 'birds\\\\016.Painted_Bunting\\\\Painted_Bunting_0010_16948.jpg',\n 'birds\\\\016.Painted_Bunting\\\\Painted_Bunting_0011_16690.jpg',\n 'birds\\\\016.Painted_Bunting\\\\Painted_Bunting_0013_15294.jpg',\n 'birds\\\\016.Painted_Bunting\\\\Painted_Bunting_0016_15200.jpg',\n 'birds\\\\016.Painted_Bunting\\\\Painted_Bunting_0019_15231.jpg',\n 'birds\\\\016.Painted_Bunting\\\\Painted_Bunting_0021_15295.jpg',\n 'birds\\\\016.Painted_Bunting\\\\Painted_Bunting_0025_16722.jpg',\n 'birds\\\\016.Painted_Bunting\\\\Painted_Bunting_0027_16536.jpg',\n 'birds\\\\016.Painted_Bunting\\\\Painted_Bunting_0028_15205.jpg',\n 'birds\\\\016.Painted_Bunting\\\\Painted_Bunting_0029_16530.jpg',\n 'birds\\\\016.Painted_Bunting\\\\Painted_Bunting_0032_16605.jpg',\n 'birds\\\\016.Painted_Bunting\\\\Painted_Bunting_0034_15207.jpg',\n 'birds\\\\016.Painted_Bunting\\\\Painted_Bunting_0036_16563.jpg',\n 'birds\\\\016.Painted_Bunting\\\\Painted_Bunting_0039_15235.jpg',\n 'birds\\\\016.Painted_Bunting\\\\Painted_Bunting_0040_16691.jpg',\n 'birds\\\\016.Painted_Bunting\\\\Painted_Bunting_0044_16557.jpg',\n 'birds\\\\016.Painted_Bunting\\\\Painted_Bunting_0046_16535.jpg',\n 'birds\\\\016.Painted_Bunting\\\\Painted_Bunting_0049_16869.jpg',\n 'birds\\\\016.Painted_Bunting\\\\Painted_Bunting_0050_16670.jpg',\n 'birds\\\\016.Painted_Bunting\\\\Painted_Bunting_0053_16404.jpg',\n 'birds\\\\016.Painted_Bunting\\\\Painted_Bunting_0054_16711.jpg',\n 'birds\\\\016.Painted_Bunting\\\\Painted_Bunting_0055_15208.jpg',\n 'birds\\\\016.Painted_Bunting\\\\Painted_Bunting_0056_16599.jpg',\n 'birds\\\\016.Painted_Bunting\\\\Painted_Bunting_0058_16719.jpg',\n 'birds\\\\016.Painted_Bunting\\\\Painted_Bunting_0060_15224.jpg',\n 'birds\\\\016.Painted_Bunting\\\\Painted_Bunting_0061_16930.jpg',\n 'birds\\\\016.Painted_Bunting\\\\Painted_Bunting_0066_15241.jpg',\n 'birds\\\\016.Painted_Bunting\\\\Painted_Bunting_0069_16462.jpg',\n 'birds\\\\016.Painted_Bunting\\\\Painted_Bunting_0070_16515.jpg',\n 'birds\\\\016.Painted_Bunting\\\\Painted_Bunting_0071_15209.jpg',\n 'birds\\\\016.Painted_Bunting\\\\Painted_Bunting_0072_16697.jpg',\n 'birds\\\\016.Painted_Bunting\\\\Painted_Bunting_0073_16737.jpg',\n 'birds\\\\016.Painted_Bunting\\\\Painted_Bunting_0076_16765.jpg',\n 'birds\\\\016.Painted_Bunting\\\\Painted_Bunting_0077_16819.jpg',\n 'birds\\\\016.Painted_Bunting\\\\Painted_Bunting_0078_16565.jpg',\n 'birds\\\\016.Painted_Bunting\\\\Painted_Bunting_0079_15197.jpg',\n 'birds\\\\016.Painted_Bunting\\\\Painted_Bunting_0080_16534.jpg',\n 'birds\\\\016.Painted_Bunting\\\\Painted_Bunting_0081_15230.jpg',\n 'birds\\\\016.Painted_Bunting\\\\Painted_Bunting_0083_16587.jpg',\n 'birds\\\\016.Painted_Bunting\\\\Painted_Bunting_0084_16531.jpg',\n 'birds\\\\016.Painted_Bunting\\\\Painted_Bunting_0085_15282.jpg',\n 'birds\\\\016.Painted_Bunting\\\\Painted_Bunting_0086_16540.jpg',\n 'birds\\\\016.Painted_Bunting\\\\Painted_Bunting_0087_15232.jpg',\n 'birds\\\\016.Painted_Bunting\\\\Painted_Bunting_0091_15198.jpg',\n 'birds\\\\016.Painted_Bunting\\\\Painted_Bunting_0093_15212.jpg',\n 'birds\\\\016.Painted_Bunting\\\\Painted_Bunting_0094_16467.jpg',\n 'birds\\\\016.Painted_Bunting\\\\Painted_Bunting_0096_15233.jpg',\n 'birds\\\\016.Painted_Bunting\\\\Painted_Bunting_0098_15226.jpg',\n 'birds\\\\016.Painted_Bunting\\\\Painted_Bunting_0099_16525.jpg',\n 'birds\\\\016.Painted_Bunting\\\\Painted_Bunting_0100_16735.jpg',\n 'birds\\\\016.Painted_Bunting\\\\Painted_Bunting_0102_16642.jpg',\n 'birds\\\\017.Cardinal\\\\Cardinal_0001_17057.jpg',\n 'birds\\\\017.Cardinal\\\\Cardinal_0002_18424.jpg',\n 'birds\\\\017.Cardinal\\\\Cardinal_0006_17684.jpg',\n 'birds\\\\017.Cardinal\\\\Cardinal_0007_18537.jpg',\n 'birds\\\\017.Cardinal\\\\Cardinal_0010_18894.jpg',\n 'birds\\\\017.Cardinal\\\\Cardinal_0012_18638.jpg',\n 'birds\\\\017.Cardinal\\\\Cardinal_0014_17389.jpg',\n 'birds\\\\017.Cardinal\\\\Cardinal_0016_17862.jpg',\n 'birds\\\\017.Cardinal\\\\Cardinal_0018_17071.jpg',\n 'birds\\\\017.Cardinal\\\\Cardinal_0019_17368.jpg',\n 'birds\\\\017.Cardinal\\\\Cardinal_0020_18664.jpg',\n 'birds\\\\017.Cardinal\\\\Cardinal_0022_17233.jpg',\n 'birds\\\\017.Cardinal\\\\Cardinal_0023_19026.jpg',\n 'birds\\\\017.Cardinal\\\\Cardinal_0025_17239.jpg',\n 'birds\\\\017.Cardinal\\\\Cardinal_0028_18054.jpg',\n 'birds\\\\017.Cardinal\\\\Cardinal_0029_17297.jpg',\n 'birds\\\\017.Cardinal\\\\Cardinal_0033_19215.jpg',\n 'birds\\\\017.Cardinal\\\\Cardinal_0035_17678.jpg',\n 'birds\\\\017.Cardinal\\\\Cardinal_0037_18092.jpg',\n 'birds\\\\017.Cardinal\\\\Cardinal_0038_19203.jpg',\n 'birds\\\\017.Cardinal\\\\Cardinal_0039_17597.jpg',\n 'birds\\\\017.Cardinal\\\\Cardinal_0040_17477.jpg',\n 'birds\\\\017.Cardinal\\\\Cardinal_0041_17189.jpg',\n 'birds\\\\017.Cardinal\\\\Cardinal_0045_18021.jpg',\n 'birds\\\\017.Cardinal\\\\Cardinal_0047_17673.jpg',\n 'birds\\\\017.Cardinal\\\\Cardinal_0049_18258.jpg',\n 'birds\\\\017.Cardinal\\\\Cardinal_0050_18035.jpg',\n 'birds\\\\017.Cardinal\\\\Cardinal_0051_17223.jpg',\n 'birds\\\\017.Cardinal\\\\Cardinal_0052_18334.jpg',\n 'birds\\\\017.Cardinal\\\\Cardinal_0053_17541.jpg',\n 'birds\\\\017.Cardinal\\\\Cardinal_0054_19334.jpg',\n 'birds\\\\017.Cardinal\\\\Cardinal_0055_18898.jpg',\n 'birds\\\\017.Cardinal\\\\Cardinal_0056_18352.jpg',\n 'birds\\\\017.Cardinal\\\\Cardinal_0057_17128.jpg',\n 'birds\\\\017.Cardinal\\\\Cardinal_0060_17139.jpg',\n 'birds\\\\017.Cardinal\\\\Cardinal_0062_17334.jpg',\n 'birds\\\\017.Cardinal\\\\Cardinal_0066_17803.jpg',\n 'birds\\\\017.Cardinal\\\\Cardinal_0072_17159.jpg',\n 'birds\\\\017.Cardinal\\\\Cardinal_0074_18339.jpg',\n 'birds\\\\017.Cardinal\\\\Cardinal_0075_17946.jpg',\n 'birds\\\\017.Cardinal\\\\Cardinal_0078_17181.jpg',\n 'birds\\\\017.Cardinal\\\\Cardinal_0079_19044.jpg',\n 'birds\\\\017.Cardinal\\\\Cardinal_0081_17291.jpg',\n 'birds\\\\017.Cardinal\\\\Cardinal_0082_17875.jpg',\n 'birds\\\\017.Cardinal\\\\Cardinal_0083_18042.jpg',\n 'birds\\\\017.Cardinal\\\\Cardinal_0084_17576.jpg',\n 'birds\\\\017.Cardinal\\\\Cardinal_0085_19162.jpg',\n 'birds\\\\017.Cardinal\\\\Cardinal_0089_18005.jpg',\n 'birds\\\\017.Cardinal\\\\Cardinal_0092_17591.jpg',\n 'birds\\\\017.Cardinal\\\\Cardinal_0093_17676.jpg',\n 'birds\\\\017.Cardinal\\\\Cardinal_0094_17165.jpg',\n 'birds\\\\017.Cardinal\\\\Cardinal_0095_18108.jpg',\n 'birds\\\\017.Cardinal\\\\Cardinal_0097_17396.jpg',\n 'birds\\\\017.Cardinal\\\\Cardinal_0102_17808.jpg',\n 'birds\\\\017.Cardinal\\\\Cardinal_0103_17425.jpg',\n 'birds\\\\017.Cardinal\\\\Cardinal_0104_17122.jpg',\n 'birds\\\\017.Cardinal\\\\Cardinal_0105_19045.jpg',\n 'birds\\\\018.Spotted_Catbird\\\\Spotted_Catbird_0001_796797.jpg',\n 'birds\\\\018.Spotted_Catbird\\\\Spotted_Catbird_0002_796827.jpg',\n 'birds\\\\018.Spotted_Catbird\\\\Spotted_Catbird_0003_796822.jpg',\n 'birds\\\\018.Spotted_Catbird\\\\Spotted_Catbird_0004_796804.jpg',\n 'birds\\\\018.Spotted_Catbird\\\\Spotted_Catbird_0005_19411.jpg',\n 'birds\\\\018.Spotted_Catbird\\\\Spotted_Catbird_0006_796823.jpg',\n 'birds\\\\018.Spotted_Catbird\\\\Spotted_Catbird_0007_19424.jpg',\n 'birds\\\\018.Spotted_Catbird\\\\Spotted_Catbird_0008_796789.jpg',\n 'birds\\\\018.Spotted_Catbird\\\\Spotted_Catbird_0009_796795.jpg',\n 'birds\\\\018.Spotted_Catbird\\\\Spotted_Catbird_0010_19436.jpg',\n 'birds\\\\018.Spotted_Catbird\\\\Spotted_Catbird_0011_796815.jpg',\n 'birds\\\\018.Spotted_Catbird\\\\Spotted_Catbird_0012_796802.jpg',\n 'birds\\\\018.Spotted_Catbird\\\\Spotted_Catbird_0013_19428.jpg',\n 'birds\\\\018.Spotted_Catbird\\\\Spotted_Catbird_0014_19425.jpg',\n 'birds\\\\018.Spotted_Catbird\\\\Spotted_Catbird_0015_796808.jpg',\n 'birds\\\\018.Spotted_Catbird\\\\Spotted_Catbird_0016_796803.jpg',\n 'birds\\\\018.Spotted_Catbird\\\\Spotted_Catbird_0018_796800.jpg',\n 'birds\\\\018.Spotted_Catbird\\\\Spotted_Catbird_0019_796788.jpg',\n 'birds\\\\018.Spotted_Catbird\\\\Spotted_Catbird_0020_796794.jpg',\n 'birds\\\\018.Spotted_Catbird\\\\Spotted_Catbird_0021_796798.jpg',\n 'birds\\\\018.Spotted_Catbird\\\\Spotted_Catbird_0022_796821.jpg',\n 'birds\\\\018.Spotted_Catbird\\\\Spotted_Catbird_0023_796793.jpg',\n 'birds\\\\018.Spotted_Catbird\\\\Spotted_Catbird_0024_796791.jpg',\n 'birds\\\\018.Spotted_Catbird\\\\Spotted_Catbird_0025_796819.jpg',\n 'birds\\\\018.Spotted_Catbird\\\\Spotted_Catbird_0026_796818.jpg',\n 'birds\\\\018.Spotted_Catbird\\\\Spotted_Catbird_0027_796796.jpg',\n 'birds\\\\018.Spotted_Catbird\\\\Spotted_Catbird_0028_796813.jpg',\n 'birds\\\\018.Spotted_Catbird\\\\Spotted_Catbird_0029_796825.jpg',\n 'birds\\\\018.Spotted_Catbird\\\\Spotted_Catbird_0030_796801.jpg',\n 'birds\\\\018.Spotted_Catbird\\\\Spotted_Catbird_0031_796806.jpg',\n 'birds\\\\018.Spotted_Catbird\\\\Spotted_Catbird_0032_796828.jpg',\n 'birds\\\\018.Spotted_Catbird\\\\Spotted_Catbird_0033_796805.jpg',\n 'birds\\\\018.Spotted_Catbird\\\\Spotted_Catbird_0034_19437.jpg',\n 'birds\\\\018.Spotted_Catbird\\\\Spotted_Catbird_0035_796799.jpg',\n 'birds\\\\018.Spotted_Catbird\\\\Spotted_Catbird_0036_19406.jpg',\n 'birds\\\\018.Spotted_Catbird\\\\Spotted_Catbird_0037_796810.jpg',\n 'birds\\\\018.Spotted_Catbird\\\\Spotted_Catbird_0039_796811.jpg',\n 'birds\\\\018.Spotted_Catbird\\\\Spotted_Catbird_0040_796820.jpg',\n 'birds\\\\018.Spotted_Catbird\\\\Spotted_Catbird_0041_796807.jpg',\n 'birds\\\\018.Spotted_Catbird\\\\Spotted_Catbird_0042_19430.jpg',\n 'birds\\\\018.Spotted_Catbird\\\\Spotted_Catbird_0044_796809.jpg',\n 'birds\\\\018.Spotted_Catbird\\\\Spotted_Catbird_0045_796814.jpg',\n 'birds\\\\018.Spotted_Catbird\\\\Spotted_Catbird_0046_19399.jpg',\n 'birds\\\\018.Spotted_Catbird\\\\Spotted_Catbird_0047_19400.jpg',\n 'birds\\\\018.Spotted_Catbird\\\\Spotted_Catbird_0048_796817.jpg',\n 'birds\\\\019.Gray_Catbird\\\\Gray_Catbird_0001_20695.jpg',\n 'birds\\\\019.Gray_Catbird\\\\Gray_Catbird_0002_21395.jpg',\n 'birds\\\\019.Gray_Catbird\\\\Gray_Catbird_0006_20867.jpg',\n ...]"
     },
     "execution_count": 4,
     "metadata": {},
     "output_type": "execute_result"
    }
   ],
   "source": [
    "imgs_path"
   ]
  },
  {
   "cell_type": "code",
   "execution_count": 5,
   "metadata": {
    "pycharm": {
     "name": "#%%\n"
    }
   },
   "outputs": [],
   "source": [
    "all_labels_name = [img_p.split('\\\\')[1].split('.')[1] for img_p in imgs_path]"
   ]
  },
  {
   "cell_type": "code",
   "execution_count": 6,
   "metadata": {
    "pycharm": {
     "name": "#%%\n"
    }
   },
   "outputs": [
    {
     "data": {
      "text/plain": "['Black_footed_Albatross',\n 'Black_footed_Albatross',\n 'Black_footed_Albatross',\n 'Black_footed_Albatross',\n 'Black_footed_Albatross',\n 'Black_footed_Albatross',\n 'Black_footed_Albatross',\n 'Black_footed_Albatross',\n 'Black_footed_Albatross',\n 'Black_footed_Albatross',\n 'Black_footed_Albatross',\n 'Black_footed_Albatross',\n 'Black_footed_Albatross',\n 'Black_footed_Albatross',\n 'Black_footed_Albatross',\n 'Black_footed_Albatross',\n 'Black_footed_Albatross',\n 'Black_footed_Albatross',\n 'Black_footed_Albatross',\n 'Black_footed_Albatross',\n 'Black_footed_Albatross',\n 'Black_footed_Albatross',\n 'Black_footed_Albatross',\n 'Black_footed_Albatross',\n 'Black_footed_Albatross',\n 'Black_footed_Albatross',\n 'Black_footed_Albatross',\n 'Black_footed_Albatross',\n 'Black_footed_Albatross',\n 'Black_footed_Albatross',\n 'Black_footed_Albatross',\n 'Black_footed_Albatross',\n 'Black_footed_Albatross',\n 'Black_footed_Albatross',\n 'Black_footed_Albatross',\n 'Black_footed_Albatross',\n 'Black_footed_Albatross',\n 'Black_footed_Albatross',\n 'Black_footed_Albatross',\n 'Black_footed_Albatross',\n 'Black_footed_Albatross',\n 'Black_footed_Albatross',\n 'Black_footed_Albatross',\n 'Black_footed_Albatross',\n 'Black_footed_Albatross',\n 'Black_footed_Albatross',\n 'Black_footed_Albatross',\n 'Black_footed_Albatross',\n 'Black_footed_Albatross',\n 'Black_footed_Albatross',\n 'Black_footed_Albatross',\n 'Black_footed_Albatross',\n 'Black_footed_Albatross',\n 'Black_footed_Albatross',\n 'Black_footed_Albatross',\n 'Black_footed_Albatross',\n 'Black_footed_Albatross',\n 'Black_footed_Albatross',\n 'Black_footed_Albatross',\n 'Black_footed_Albatross',\n 'Laysan_Albatross',\n 'Laysan_Albatross',\n 'Laysan_Albatross',\n 'Laysan_Albatross',\n 'Laysan_Albatross',\n 'Laysan_Albatross',\n 'Laysan_Albatross',\n 'Laysan_Albatross',\n 'Laysan_Albatross',\n 'Laysan_Albatross',\n 'Laysan_Albatross',\n 'Laysan_Albatross',\n 'Laysan_Albatross',\n 'Laysan_Albatross',\n 'Laysan_Albatross',\n 'Laysan_Albatross',\n 'Laysan_Albatross',\n 'Laysan_Albatross',\n 'Laysan_Albatross',\n 'Laysan_Albatross',\n 'Laysan_Albatross',\n 'Laysan_Albatross',\n 'Laysan_Albatross',\n 'Laysan_Albatross',\n 'Laysan_Albatross',\n 'Laysan_Albatross',\n 'Laysan_Albatross',\n 'Laysan_Albatross',\n 'Laysan_Albatross',\n 'Laysan_Albatross',\n 'Laysan_Albatross',\n 'Laysan_Albatross',\n 'Laysan_Albatross',\n 'Laysan_Albatross',\n 'Laysan_Albatross',\n 'Laysan_Albatross',\n 'Laysan_Albatross',\n 'Laysan_Albatross',\n 'Laysan_Albatross',\n 'Laysan_Albatross',\n 'Laysan_Albatross',\n 'Laysan_Albatross',\n 'Laysan_Albatross',\n 'Laysan_Albatross',\n 'Laysan_Albatross',\n 'Laysan_Albatross',\n 'Laysan_Albatross',\n 'Laysan_Albatross',\n 'Laysan_Albatross',\n 'Laysan_Albatross',\n 'Laysan_Albatross',\n 'Laysan_Albatross',\n 'Laysan_Albatross',\n 'Laysan_Albatross',\n 'Laysan_Albatross',\n 'Laysan_Albatross',\n 'Laysan_Albatross',\n 'Laysan_Albatross',\n 'Laysan_Albatross',\n 'Laysan_Albatross',\n 'Sooty_Albatross',\n 'Sooty_Albatross',\n 'Sooty_Albatross',\n 'Sooty_Albatross',\n 'Sooty_Albatross',\n 'Sooty_Albatross',\n 'Sooty_Albatross',\n 'Sooty_Albatross',\n 'Sooty_Albatross',\n 'Sooty_Albatross',\n 'Sooty_Albatross',\n 'Sooty_Albatross',\n 'Sooty_Albatross',\n 'Sooty_Albatross',\n 'Sooty_Albatross',\n 'Sooty_Albatross',\n 'Sooty_Albatross',\n 'Sooty_Albatross',\n 'Sooty_Albatross',\n 'Sooty_Albatross',\n 'Sooty_Albatross',\n 'Sooty_Albatross',\n 'Sooty_Albatross',\n 'Sooty_Albatross',\n 'Sooty_Albatross',\n 'Sooty_Albatross',\n 'Sooty_Albatross',\n 'Sooty_Albatross',\n 'Sooty_Albatross',\n 'Sooty_Albatross',\n 'Sooty_Albatross',\n 'Sooty_Albatross',\n 'Sooty_Albatross',\n 'Sooty_Albatross',\n 'Sooty_Albatross',\n 'Sooty_Albatross',\n 'Sooty_Albatross',\n 'Sooty_Albatross',\n 'Sooty_Albatross',\n 'Sooty_Albatross',\n 'Sooty_Albatross',\n 'Sooty_Albatross',\n 'Sooty_Albatross',\n 'Sooty_Albatross',\n 'Sooty_Albatross',\n 'Sooty_Albatross',\n 'Sooty_Albatross',\n 'Sooty_Albatross',\n 'Sooty_Albatross',\n 'Sooty_Albatross',\n 'Sooty_Albatross',\n 'Sooty_Albatross',\n 'Sooty_Albatross',\n 'Sooty_Albatross',\n 'Sooty_Albatross',\n 'Sooty_Albatross',\n 'Sooty_Albatross',\n 'Sooty_Albatross',\n 'Groove_billed_Ani',\n 'Groove_billed_Ani',\n 'Groove_billed_Ani',\n 'Groove_billed_Ani',\n 'Groove_billed_Ani',\n 'Groove_billed_Ani',\n 'Groove_billed_Ani',\n 'Groove_billed_Ani',\n 'Groove_billed_Ani',\n 'Groove_billed_Ani',\n 'Groove_billed_Ani',\n 'Groove_billed_Ani',\n 'Groove_billed_Ani',\n 'Groove_billed_Ani',\n 'Groove_billed_Ani',\n 'Groove_billed_Ani',\n 'Groove_billed_Ani',\n 'Groove_billed_Ani',\n 'Groove_billed_Ani',\n 'Groove_billed_Ani',\n 'Groove_billed_Ani',\n 'Groove_billed_Ani',\n 'Groove_billed_Ani',\n 'Groove_billed_Ani',\n 'Groove_billed_Ani',\n 'Groove_billed_Ani',\n 'Groove_billed_Ani',\n 'Groove_billed_Ani',\n 'Groove_billed_Ani',\n 'Groove_billed_Ani',\n 'Groove_billed_Ani',\n 'Groove_billed_Ani',\n 'Groove_billed_Ani',\n 'Groove_billed_Ani',\n 'Groove_billed_Ani',\n 'Groove_billed_Ani',\n 'Groove_billed_Ani',\n 'Groove_billed_Ani',\n 'Groove_billed_Ani',\n 'Groove_billed_Ani',\n 'Groove_billed_Ani',\n 'Groove_billed_Ani',\n 'Groove_billed_Ani',\n 'Groove_billed_Ani',\n 'Groove_billed_Ani',\n 'Groove_billed_Ani',\n 'Groove_billed_Ani',\n 'Groove_billed_Ani',\n 'Groove_billed_Ani',\n 'Groove_billed_Ani',\n 'Groove_billed_Ani',\n 'Groove_billed_Ani',\n 'Groove_billed_Ani',\n 'Groove_billed_Ani',\n 'Groove_billed_Ani',\n 'Groove_billed_Ani',\n 'Groove_billed_Ani',\n 'Groove_billed_Ani',\n 'Groove_billed_Ani',\n 'Groove_billed_Ani',\n 'Crested_Auklet',\n 'Crested_Auklet',\n 'Crested_Auklet',\n 'Crested_Auklet',\n 'Crested_Auklet',\n 'Crested_Auklet',\n 'Crested_Auklet',\n 'Crested_Auklet',\n 'Crested_Auklet',\n 'Crested_Auklet',\n 'Crested_Auklet',\n 'Crested_Auklet',\n 'Crested_Auklet',\n 'Crested_Auklet',\n 'Crested_Auklet',\n 'Crested_Auklet',\n 'Crested_Auklet',\n 'Crested_Auklet',\n 'Crested_Auklet',\n 'Crested_Auklet',\n 'Crested_Auklet',\n 'Crested_Auklet',\n 'Crested_Auklet',\n 'Crested_Auklet',\n 'Crested_Auklet',\n 'Crested_Auklet',\n 'Crested_Auklet',\n 'Crested_Auklet',\n 'Crested_Auklet',\n 'Crested_Auklet',\n 'Crested_Auklet',\n 'Crested_Auklet',\n 'Crested_Auklet',\n 'Crested_Auklet',\n 'Crested_Auklet',\n 'Crested_Auklet',\n 'Crested_Auklet',\n 'Crested_Auklet',\n 'Crested_Auklet',\n 'Crested_Auklet',\n 'Crested_Auklet',\n 'Crested_Auklet',\n 'Crested_Auklet',\n 'Crested_Auklet',\n 'Least_Auklet',\n 'Least_Auklet',\n 'Least_Auklet',\n 'Least_Auklet',\n 'Least_Auklet',\n 'Least_Auklet',\n 'Least_Auklet',\n 'Least_Auklet',\n 'Least_Auklet',\n 'Least_Auklet',\n 'Least_Auklet',\n 'Least_Auklet',\n 'Least_Auklet',\n 'Least_Auklet',\n 'Least_Auklet',\n 'Least_Auklet',\n 'Least_Auklet',\n 'Least_Auklet',\n 'Least_Auklet',\n 'Least_Auklet',\n 'Least_Auklet',\n 'Least_Auklet',\n 'Least_Auklet',\n 'Least_Auklet',\n 'Least_Auklet',\n 'Least_Auklet',\n 'Least_Auklet',\n 'Least_Auklet',\n 'Least_Auklet',\n 'Least_Auklet',\n 'Least_Auklet',\n 'Least_Auklet',\n 'Least_Auklet',\n 'Least_Auklet',\n 'Least_Auklet',\n 'Least_Auklet',\n 'Least_Auklet',\n 'Least_Auklet',\n 'Least_Auklet',\n 'Least_Auklet',\n 'Least_Auklet',\n 'Parakeet_Auklet',\n 'Parakeet_Auklet',\n 'Parakeet_Auklet',\n 'Parakeet_Auklet',\n 'Parakeet_Auklet',\n 'Parakeet_Auklet',\n 'Parakeet_Auklet',\n 'Parakeet_Auklet',\n 'Parakeet_Auklet',\n 'Parakeet_Auklet',\n 'Parakeet_Auklet',\n 'Parakeet_Auklet',\n 'Parakeet_Auklet',\n 'Parakeet_Auklet',\n 'Parakeet_Auklet',\n 'Parakeet_Auklet',\n 'Parakeet_Auklet',\n 'Parakeet_Auklet',\n 'Parakeet_Auklet',\n 'Parakeet_Auklet',\n 'Parakeet_Auklet',\n 'Parakeet_Auklet',\n 'Parakeet_Auklet',\n 'Parakeet_Auklet',\n 'Parakeet_Auklet',\n 'Parakeet_Auklet',\n 'Parakeet_Auklet',\n 'Parakeet_Auklet',\n 'Parakeet_Auklet',\n 'Parakeet_Auklet',\n 'Parakeet_Auklet',\n 'Parakeet_Auklet',\n 'Parakeet_Auklet',\n 'Parakeet_Auklet',\n 'Parakeet_Auklet',\n 'Parakeet_Auklet',\n 'Parakeet_Auklet',\n 'Parakeet_Auklet',\n 'Parakeet_Auklet',\n 'Parakeet_Auklet',\n 'Parakeet_Auklet',\n 'Parakeet_Auklet',\n 'Parakeet_Auklet',\n 'Parakeet_Auklet',\n 'Parakeet_Auklet',\n 'Parakeet_Auklet',\n 'Parakeet_Auklet',\n 'Parakeet_Auklet',\n 'Parakeet_Auklet',\n 'Parakeet_Auklet',\n 'Parakeet_Auklet',\n 'Parakeet_Auklet',\n 'Parakeet_Auklet',\n 'Rhinoceros_Auklet',\n 'Rhinoceros_Auklet',\n 'Rhinoceros_Auklet',\n 'Rhinoceros_Auklet',\n 'Rhinoceros_Auklet',\n 'Rhinoceros_Auklet',\n 'Rhinoceros_Auklet',\n 'Rhinoceros_Auklet',\n 'Rhinoceros_Auklet',\n 'Rhinoceros_Auklet',\n 'Rhinoceros_Auklet',\n 'Rhinoceros_Auklet',\n 'Rhinoceros_Auklet',\n 'Rhinoceros_Auklet',\n 'Rhinoceros_Auklet',\n 'Rhinoceros_Auklet',\n 'Rhinoceros_Auklet',\n 'Rhinoceros_Auklet',\n 'Rhinoceros_Auklet',\n 'Rhinoceros_Auklet',\n 'Rhinoceros_Auklet',\n 'Rhinoceros_Auklet',\n 'Rhinoceros_Auklet',\n 'Rhinoceros_Auklet',\n 'Rhinoceros_Auklet',\n 'Rhinoceros_Auklet',\n 'Rhinoceros_Auklet',\n 'Rhinoceros_Auklet',\n 'Rhinoceros_Auklet',\n 'Rhinoceros_Auklet',\n 'Rhinoceros_Auklet',\n 'Rhinoceros_Auklet',\n 'Rhinoceros_Auklet',\n 'Rhinoceros_Auklet',\n 'Rhinoceros_Auklet',\n 'Rhinoceros_Auklet',\n 'Rhinoceros_Auklet',\n 'Rhinoceros_Auklet',\n 'Rhinoceros_Auklet',\n 'Rhinoceros_Auklet',\n 'Rhinoceros_Auklet',\n 'Rhinoceros_Auklet',\n 'Rhinoceros_Auklet',\n 'Rhinoceros_Auklet',\n 'Rhinoceros_Auklet',\n 'Rhinoceros_Auklet',\n 'Rhinoceros_Auklet',\n 'Rhinoceros_Auklet',\n 'Brewer_Blackbird',\n 'Brewer_Blackbird',\n 'Brewer_Blackbird',\n 'Brewer_Blackbird',\n 'Brewer_Blackbird',\n 'Brewer_Blackbird',\n 'Brewer_Blackbird',\n 'Brewer_Blackbird',\n 'Brewer_Blackbird',\n 'Brewer_Blackbird',\n 'Brewer_Blackbird',\n 'Brewer_Blackbird',\n 'Brewer_Blackbird',\n 'Brewer_Blackbird',\n 'Brewer_Blackbird',\n 'Brewer_Blackbird',\n 'Brewer_Blackbird',\n 'Brewer_Blackbird',\n 'Brewer_Blackbird',\n 'Brewer_Blackbird',\n 'Brewer_Blackbird',\n 'Brewer_Blackbird',\n 'Brewer_Blackbird',\n 'Brewer_Blackbird',\n 'Brewer_Blackbird',\n 'Brewer_Blackbird',\n 'Brewer_Blackbird',\n 'Brewer_Blackbird',\n 'Brewer_Blackbird',\n 'Brewer_Blackbird',\n 'Brewer_Blackbird',\n 'Brewer_Blackbird',\n 'Brewer_Blackbird',\n 'Brewer_Blackbird',\n 'Brewer_Blackbird',\n 'Brewer_Blackbird',\n 'Brewer_Blackbird',\n 'Brewer_Blackbird',\n 'Brewer_Blackbird',\n 'Brewer_Blackbird',\n 'Brewer_Blackbird',\n 'Brewer_Blackbird',\n 'Brewer_Blackbird',\n 'Brewer_Blackbird',\n 'Brewer_Blackbird',\n 'Brewer_Blackbird',\n 'Brewer_Blackbird',\n 'Brewer_Blackbird',\n 'Brewer_Blackbird',\n 'Brewer_Blackbird',\n 'Brewer_Blackbird',\n 'Brewer_Blackbird',\n 'Brewer_Blackbird',\n 'Brewer_Blackbird',\n 'Brewer_Blackbird',\n 'Brewer_Blackbird',\n 'Brewer_Blackbird',\n 'Brewer_Blackbird',\n 'Brewer_Blackbird',\n 'Red_winged_Blackbird',\n 'Red_winged_Blackbird',\n 'Red_winged_Blackbird',\n 'Red_winged_Blackbird',\n 'Red_winged_Blackbird',\n 'Red_winged_Blackbird',\n 'Red_winged_Blackbird',\n 'Red_winged_Blackbird',\n 'Red_winged_Blackbird',\n 'Red_winged_Blackbird',\n 'Red_winged_Blackbird',\n 'Red_winged_Blackbird',\n 'Red_winged_Blackbird',\n 'Red_winged_Blackbird',\n 'Red_winged_Blackbird',\n 'Red_winged_Blackbird',\n 'Red_winged_Blackbird',\n 'Red_winged_Blackbird',\n 'Red_winged_Blackbird',\n 'Red_winged_Blackbird',\n 'Red_winged_Blackbird',\n 'Red_winged_Blackbird',\n 'Red_winged_Blackbird',\n 'Red_winged_Blackbird',\n 'Red_winged_Blackbird',\n 'Red_winged_Blackbird',\n 'Red_winged_Blackbird',\n 'Red_winged_Blackbird',\n 'Red_winged_Blackbird',\n 'Red_winged_Blackbird',\n 'Red_winged_Blackbird',\n 'Red_winged_Blackbird',\n 'Red_winged_Blackbird',\n 'Red_winged_Blackbird',\n 'Red_winged_Blackbird',\n 'Red_winged_Blackbird',\n 'Red_winged_Blackbird',\n 'Red_winged_Blackbird',\n 'Red_winged_Blackbird',\n 'Red_winged_Blackbird',\n 'Red_winged_Blackbird',\n 'Red_winged_Blackbird',\n 'Red_winged_Blackbird',\n 'Red_winged_Blackbird',\n 'Red_winged_Blackbird',\n 'Red_winged_Blackbird',\n 'Red_winged_Blackbird',\n 'Red_winged_Blackbird',\n 'Red_winged_Blackbird',\n 'Red_winged_Blackbird',\n 'Red_winged_Blackbird',\n 'Red_winged_Blackbird',\n 'Red_winged_Blackbird',\n 'Red_winged_Blackbird',\n 'Red_winged_Blackbird',\n 'Red_winged_Blackbird',\n 'Red_winged_Blackbird',\n 'Red_winged_Blackbird',\n 'Red_winged_Blackbird',\n 'Red_winged_Blackbird',\n 'Rusty_Blackbird',\n 'Rusty_Blackbird',\n 'Rusty_Blackbird',\n 'Rusty_Blackbird',\n 'Rusty_Blackbird',\n 'Rusty_Blackbird',\n 'Rusty_Blackbird',\n 'Rusty_Blackbird',\n 'Rusty_Blackbird',\n 'Rusty_Blackbird',\n 'Rusty_Blackbird',\n 'Rusty_Blackbird',\n 'Rusty_Blackbird',\n 'Rusty_Blackbird',\n 'Rusty_Blackbird',\n 'Rusty_Blackbird',\n 'Rusty_Blackbird',\n 'Rusty_Blackbird',\n 'Rusty_Blackbird',\n 'Rusty_Blackbird',\n 'Rusty_Blackbird',\n 'Rusty_Blackbird',\n 'Rusty_Blackbird',\n 'Rusty_Blackbird',\n 'Rusty_Blackbird',\n 'Rusty_Blackbird',\n 'Rusty_Blackbird',\n 'Rusty_Blackbird',\n 'Rusty_Blackbird',\n 'Rusty_Blackbird',\n 'Rusty_Blackbird',\n 'Rusty_Blackbird',\n 'Rusty_Blackbird',\n 'Rusty_Blackbird',\n 'Rusty_Blackbird',\n 'Rusty_Blackbird',\n 'Rusty_Blackbird',\n 'Rusty_Blackbird',\n 'Rusty_Blackbird',\n 'Rusty_Blackbird',\n 'Rusty_Blackbird',\n 'Rusty_Blackbird',\n 'Rusty_Blackbird',\n 'Rusty_Blackbird',\n 'Rusty_Blackbird',\n 'Rusty_Blackbird',\n 'Rusty_Blackbird',\n 'Rusty_Blackbird',\n 'Rusty_Blackbird',\n 'Rusty_Blackbird',\n 'Rusty_Blackbird',\n 'Rusty_Blackbird',\n 'Rusty_Blackbird',\n 'Rusty_Blackbird',\n 'Rusty_Blackbird',\n 'Rusty_Blackbird',\n 'Rusty_Blackbird',\n 'Rusty_Blackbird',\n 'Rusty_Blackbird',\n 'Rusty_Blackbird',\n 'Yellow_headed_Blackbird',\n 'Yellow_headed_Blackbird',\n 'Yellow_headed_Blackbird',\n 'Yellow_headed_Blackbird',\n 'Yellow_headed_Blackbird',\n 'Yellow_headed_Blackbird',\n 'Yellow_headed_Blackbird',\n 'Yellow_headed_Blackbird',\n 'Yellow_headed_Blackbird',\n 'Yellow_headed_Blackbird',\n 'Yellow_headed_Blackbird',\n 'Yellow_headed_Blackbird',\n 'Yellow_headed_Blackbird',\n 'Yellow_headed_Blackbird',\n 'Yellow_headed_Blackbird',\n 'Yellow_headed_Blackbird',\n 'Yellow_headed_Blackbird',\n 'Yellow_headed_Blackbird',\n 'Yellow_headed_Blackbird',\n 'Yellow_headed_Blackbird',\n 'Yellow_headed_Blackbird',\n 'Yellow_headed_Blackbird',\n 'Yellow_headed_Blackbird',\n 'Yellow_headed_Blackbird',\n 'Yellow_headed_Blackbird',\n 'Yellow_headed_Blackbird',\n 'Yellow_headed_Blackbird',\n 'Yellow_headed_Blackbird',\n 'Yellow_headed_Blackbird',\n 'Yellow_headed_Blackbird',\n 'Yellow_headed_Blackbird',\n 'Yellow_headed_Blackbird',\n 'Yellow_headed_Blackbird',\n 'Yellow_headed_Blackbird',\n 'Yellow_headed_Blackbird',\n 'Yellow_headed_Blackbird',\n 'Yellow_headed_Blackbird',\n 'Yellow_headed_Blackbird',\n 'Yellow_headed_Blackbird',\n 'Yellow_headed_Blackbird',\n 'Yellow_headed_Blackbird',\n 'Yellow_headed_Blackbird',\n 'Yellow_headed_Blackbird',\n 'Yellow_headed_Blackbird',\n 'Yellow_headed_Blackbird',\n 'Yellow_headed_Blackbird',\n 'Yellow_headed_Blackbird',\n 'Yellow_headed_Blackbird',\n 'Yellow_headed_Blackbird',\n 'Yellow_headed_Blackbird',\n 'Yellow_headed_Blackbird',\n 'Yellow_headed_Blackbird',\n 'Yellow_headed_Blackbird',\n 'Yellow_headed_Blackbird',\n 'Yellow_headed_Blackbird',\n 'Yellow_headed_Blackbird',\n 'Bobolink',\n 'Bobolink',\n 'Bobolink',\n 'Bobolink',\n 'Bobolink',\n 'Bobolink',\n 'Bobolink',\n 'Bobolink',\n 'Bobolink',\n 'Bobolink',\n 'Bobolink',\n 'Bobolink',\n 'Bobolink',\n 'Bobolink',\n 'Bobolink',\n 'Bobolink',\n 'Bobolink',\n 'Bobolink',\n 'Bobolink',\n 'Bobolink',\n 'Bobolink',\n 'Bobolink',\n 'Bobolink',\n 'Bobolink',\n 'Bobolink',\n 'Bobolink',\n 'Bobolink',\n 'Bobolink',\n 'Bobolink',\n 'Bobolink',\n 'Bobolink',\n 'Bobolink',\n 'Bobolink',\n 'Bobolink',\n 'Bobolink',\n 'Bobolink',\n 'Bobolink',\n 'Bobolink',\n 'Bobolink',\n 'Bobolink',\n 'Bobolink',\n 'Bobolink',\n 'Bobolink',\n 'Bobolink',\n 'Bobolink',\n 'Bobolink',\n 'Bobolink',\n 'Bobolink',\n 'Bobolink',\n 'Bobolink',\n 'Bobolink',\n 'Bobolink',\n 'Bobolink',\n 'Bobolink',\n 'Bobolink',\n 'Bobolink',\n 'Bobolink',\n 'Bobolink',\n 'Bobolink',\n 'Bobolink',\n 'Indigo_Bunting',\n 'Indigo_Bunting',\n 'Indigo_Bunting',\n 'Indigo_Bunting',\n 'Indigo_Bunting',\n 'Indigo_Bunting',\n 'Indigo_Bunting',\n 'Indigo_Bunting',\n 'Indigo_Bunting',\n 'Indigo_Bunting',\n 'Indigo_Bunting',\n 'Indigo_Bunting',\n 'Indigo_Bunting',\n 'Indigo_Bunting',\n 'Indigo_Bunting',\n 'Indigo_Bunting',\n 'Indigo_Bunting',\n 'Indigo_Bunting',\n 'Indigo_Bunting',\n 'Indigo_Bunting',\n 'Indigo_Bunting',\n 'Indigo_Bunting',\n 'Indigo_Bunting',\n 'Indigo_Bunting',\n 'Indigo_Bunting',\n 'Indigo_Bunting',\n 'Indigo_Bunting',\n 'Indigo_Bunting',\n 'Indigo_Bunting',\n 'Indigo_Bunting',\n 'Indigo_Bunting',\n 'Indigo_Bunting',\n 'Indigo_Bunting',\n 'Indigo_Bunting',\n 'Indigo_Bunting',\n 'Indigo_Bunting',\n 'Indigo_Bunting',\n 'Indigo_Bunting',\n 'Indigo_Bunting',\n 'Indigo_Bunting',\n 'Indigo_Bunting',\n 'Indigo_Bunting',\n 'Indigo_Bunting',\n 'Indigo_Bunting',\n 'Indigo_Bunting',\n 'Indigo_Bunting',\n 'Indigo_Bunting',\n 'Indigo_Bunting',\n 'Indigo_Bunting',\n 'Indigo_Bunting',\n 'Indigo_Bunting',\n 'Indigo_Bunting',\n 'Indigo_Bunting',\n 'Indigo_Bunting',\n 'Indigo_Bunting',\n 'Indigo_Bunting',\n 'Indigo_Bunting',\n 'Indigo_Bunting',\n 'Indigo_Bunting',\n 'Indigo_Bunting',\n 'Lazuli_Bunting',\n 'Lazuli_Bunting',\n 'Lazuli_Bunting',\n 'Lazuli_Bunting',\n 'Lazuli_Bunting',\n 'Lazuli_Bunting',\n 'Lazuli_Bunting',\n 'Lazuli_Bunting',\n 'Lazuli_Bunting',\n 'Lazuli_Bunting',\n 'Lazuli_Bunting',\n 'Lazuli_Bunting',\n 'Lazuli_Bunting',\n 'Lazuli_Bunting',\n 'Lazuli_Bunting',\n 'Lazuli_Bunting',\n 'Lazuli_Bunting',\n 'Lazuli_Bunting',\n 'Lazuli_Bunting',\n 'Lazuli_Bunting',\n 'Lazuli_Bunting',\n 'Lazuli_Bunting',\n 'Lazuli_Bunting',\n 'Lazuli_Bunting',\n 'Lazuli_Bunting',\n 'Lazuli_Bunting',\n 'Lazuli_Bunting',\n 'Lazuli_Bunting',\n 'Lazuli_Bunting',\n 'Lazuli_Bunting',\n 'Lazuli_Bunting',\n 'Lazuli_Bunting',\n 'Lazuli_Bunting',\n 'Lazuli_Bunting',\n 'Lazuli_Bunting',\n 'Lazuli_Bunting',\n 'Lazuli_Bunting',\n 'Lazuli_Bunting',\n 'Lazuli_Bunting',\n 'Lazuli_Bunting',\n 'Lazuli_Bunting',\n 'Lazuli_Bunting',\n 'Lazuli_Bunting',\n 'Lazuli_Bunting',\n 'Lazuli_Bunting',\n 'Lazuli_Bunting',\n 'Lazuli_Bunting',\n 'Lazuli_Bunting',\n 'Lazuli_Bunting',\n 'Lazuli_Bunting',\n 'Lazuli_Bunting',\n 'Lazuli_Bunting',\n 'Lazuli_Bunting',\n 'Lazuli_Bunting',\n 'Lazuli_Bunting',\n 'Lazuli_Bunting',\n 'Lazuli_Bunting',\n 'Lazuli_Bunting',\n 'Painted_Bunting',\n 'Painted_Bunting',\n 'Painted_Bunting',\n 'Painted_Bunting',\n 'Painted_Bunting',\n 'Painted_Bunting',\n 'Painted_Bunting',\n 'Painted_Bunting',\n 'Painted_Bunting',\n 'Painted_Bunting',\n 'Painted_Bunting',\n 'Painted_Bunting',\n 'Painted_Bunting',\n 'Painted_Bunting',\n 'Painted_Bunting',\n 'Painted_Bunting',\n 'Painted_Bunting',\n 'Painted_Bunting',\n 'Painted_Bunting',\n 'Painted_Bunting',\n 'Painted_Bunting',\n 'Painted_Bunting',\n 'Painted_Bunting',\n 'Painted_Bunting',\n 'Painted_Bunting',\n 'Painted_Bunting',\n 'Painted_Bunting',\n 'Painted_Bunting',\n 'Painted_Bunting',\n 'Painted_Bunting',\n 'Painted_Bunting',\n 'Painted_Bunting',\n 'Painted_Bunting',\n 'Painted_Bunting',\n 'Painted_Bunting',\n 'Painted_Bunting',\n 'Painted_Bunting',\n 'Painted_Bunting',\n 'Painted_Bunting',\n 'Painted_Bunting',\n 'Painted_Bunting',\n 'Painted_Bunting',\n 'Painted_Bunting',\n 'Painted_Bunting',\n 'Painted_Bunting',\n 'Painted_Bunting',\n 'Painted_Bunting',\n 'Painted_Bunting',\n 'Painted_Bunting',\n 'Painted_Bunting',\n 'Painted_Bunting',\n 'Painted_Bunting',\n 'Painted_Bunting',\n 'Painted_Bunting',\n 'Painted_Bunting',\n 'Painted_Bunting',\n 'Painted_Bunting',\n 'Painted_Bunting',\n 'Cardinal',\n 'Cardinal',\n 'Cardinal',\n 'Cardinal',\n 'Cardinal',\n 'Cardinal',\n 'Cardinal',\n 'Cardinal',\n 'Cardinal',\n 'Cardinal',\n 'Cardinal',\n 'Cardinal',\n 'Cardinal',\n 'Cardinal',\n 'Cardinal',\n 'Cardinal',\n 'Cardinal',\n 'Cardinal',\n 'Cardinal',\n 'Cardinal',\n 'Cardinal',\n 'Cardinal',\n 'Cardinal',\n 'Cardinal',\n 'Cardinal',\n 'Cardinal',\n 'Cardinal',\n 'Cardinal',\n 'Cardinal',\n 'Cardinal',\n 'Cardinal',\n 'Cardinal',\n 'Cardinal',\n 'Cardinal',\n 'Cardinal',\n 'Cardinal',\n 'Cardinal',\n 'Cardinal',\n 'Cardinal',\n 'Cardinal',\n 'Cardinal',\n 'Cardinal',\n 'Cardinal',\n 'Cardinal',\n 'Cardinal',\n 'Cardinal',\n 'Cardinal',\n 'Cardinal',\n 'Cardinal',\n 'Cardinal',\n 'Cardinal',\n 'Cardinal',\n 'Cardinal',\n 'Cardinal',\n 'Cardinal',\n 'Cardinal',\n 'Cardinal',\n 'Spotted_Catbird',\n 'Spotted_Catbird',\n 'Spotted_Catbird',\n 'Spotted_Catbird',\n 'Spotted_Catbird',\n 'Spotted_Catbird',\n 'Spotted_Catbird',\n 'Spotted_Catbird',\n 'Spotted_Catbird',\n 'Spotted_Catbird',\n 'Spotted_Catbird',\n 'Spotted_Catbird',\n 'Spotted_Catbird',\n 'Spotted_Catbird',\n 'Spotted_Catbird',\n 'Spotted_Catbird',\n 'Spotted_Catbird',\n 'Spotted_Catbird',\n 'Spotted_Catbird',\n 'Spotted_Catbird',\n 'Spotted_Catbird',\n 'Spotted_Catbird',\n 'Spotted_Catbird',\n 'Spotted_Catbird',\n 'Spotted_Catbird',\n 'Spotted_Catbird',\n 'Spotted_Catbird',\n 'Spotted_Catbird',\n 'Spotted_Catbird',\n 'Spotted_Catbird',\n 'Spotted_Catbird',\n 'Spotted_Catbird',\n 'Spotted_Catbird',\n 'Spotted_Catbird',\n 'Spotted_Catbird',\n 'Spotted_Catbird',\n 'Spotted_Catbird',\n 'Spotted_Catbird',\n 'Spotted_Catbird',\n 'Spotted_Catbird',\n 'Spotted_Catbird',\n 'Spotted_Catbird',\n 'Spotted_Catbird',\n 'Spotted_Catbird',\n 'Spotted_Catbird',\n 'Gray_Catbird',\n 'Gray_Catbird',\n 'Gray_Catbird',\n ...]"
     },
     "execution_count": 6,
     "metadata": {},
     "output_type": "execute_result"
    }
   ],
   "source": [
    "all_labels_name"
   ]
  },
  {
   "cell_type": "code",
   "execution_count": 7,
   "metadata": {
    "pycharm": {
     "name": "#%%\n"
    }
   },
   "outputs": [],
   "source": [
    "label_names = np.unique(all_labels_name)"
   ]
  },
  {
   "cell_type": "code",
   "execution_count": 8,
   "metadata": {
    "pycharm": {
     "name": "#%%\n"
    }
   },
   "outputs": [
    {
     "data": {
      "text/plain": "array(['Acadian_Flycatcher', 'American_Crow', 'American_Goldfinch',\n       'American_Pipit', 'American_Redstart',\n       'American_Three_toed_Woodpecker', 'Anna_Hummingbird', 'Artic_Tern',\n       'Baird_Sparrow', 'Baltimore_Oriole', 'Bank_Swallow',\n       'Barn_Swallow', 'Bay_breasted_Warbler', 'Belted_Kingfisher',\n       'Bewick_Wren', 'Black_Tern', 'Black_and_white_Warbler',\n       'Black_billed_Cuckoo', 'Black_capped_Vireo',\n       'Black_footed_Albatross', 'Black_throated_Blue_Warbler',\n       'Black_throated_Sparrow', 'Blue_Grosbeak', 'Blue_Jay',\n       'Blue_headed_Vireo', 'Blue_winged_Warbler', 'Boat_tailed_Grackle',\n       'Bobolink', 'Bohemian_Waxwing', 'Brandt_Cormorant',\n       'Brewer_Blackbird', 'Brewer_Sparrow', 'Bronzed_Cowbird',\n       'Brown_Creeper', 'Brown_Pelican', 'Brown_Thrasher', 'Cactus_Wren',\n       'California_Gull', 'Canada_Warbler', 'Cape_Glossy_Starling',\n       'Cape_May_Warbler', 'Cardinal', 'Carolina_Wren', 'Caspian_Tern',\n       'Cedar_Waxwing', 'Cerulean_Warbler', 'Chestnut_sided_Warbler',\n       'Chipping_Sparrow', 'Chuck_will_Widow', 'Clark_Nutcracker',\n       'Clay_colored_Sparrow', 'Cliff_Swallow', 'Common_Raven',\n       'Common_Tern', 'Common_Yellowthroat', 'Crested_Auklet',\n       'Dark_eyed_Junco', 'Downy_Woodpecker', 'Eared_Grebe',\n       'Eastern_Towhee', 'Elegant_Tern', 'European_Goldfinch',\n       'Evening_Grosbeak', 'Field_Sparrow', 'Fish_Crow', 'Florida_Jay',\n       'Forsters_Tern', 'Fox_Sparrow', 'Frigatebird', 'Gadwall',\n       'Geococcyx', 'Glaucous_winged_Gull', 'Golden_winged_Warbler',\n       'Grasshopper_Sparrow', 'Gray_Catbird', 'Gray_Kingbird',\n       'Gray_crowned_Rosy_Finch', 'Great_Crested_Flycatcher',\n       'Great_Grey_Shrike', 'Green_Jay', 'Green_Kingfisher',\n       'Green_Violetear', 'Green_tailed_Towhee', 'Groove_billed_Ani',\n       'Harris_Sparrow', 'Heermann_Gull', 'Henslow_Sparrow',\n       'Herring_Gull', 'Hooded_Merganser', 'Hooded_Oriole',\n       'Hooded_Warbler', 'Horned_Grebe', 'Horned_Lark', 'Horned_Puffin',\n       'House_Sparrow', 'House_Wren', 'Indigo_Bunting', 'Ivory_Gull',\n       'Kentucky_Warbler', 'Laysan_Albatross', 'Lazuli_Bunting',\n       'Le_Conte_Sparrow', 'Least_Auklet', 'Least_Flycatcher',\n       'Least_Tern', 'Lincoln_Sparrow', 'Loggerhead_Shrike',\n       'Long_tailed_Jaeger', 'Louisiana_Waterthrush', 'Magnolia_Warbler',\n       'Mallard', 'Mangrove_Cuckoo', 'Marsh_Wren', 'Mockingbird',\n       'Mourning_Warbler', 'Myrtle_Warbler', 'Nashville_Warbler',\n       'Nelson_Sharp_tailed_Sparrow', 'Nighthawk', 'Northern_Flicker',\n       'Northern_Fulmar', 'Northern_Waterthrush',\n       'Olive_sided_Flycatcher', 'Orange_crowned_Warbler',\n       'Orchard_Oriole', 'Ovenbird', 'Pacific_Loon', 'Painted_Bunting',\n       'Palm_Warbler', 'Parakeet_Auklet', 'Pelagic_Cormorant',\n       'Philadelphia_Vireo', 'Pied_Kingfisher', 'Pied_billed_Grebe',\n       'Pigeon_Guillemot', 'Pileated_Woodpecker', 'Pine_Grosbeak',\n       'Pine_Warbler', 'Pomarine_Jaeger', 'Prairie_Warbler',\n       'Prothonotary_Warbler', 'Purple_Finch', 'Red_bellied_Woodpecker',\n       'Red_breasted_Merganser', 'Red_cockaded_Woodpecker',\n       'Red_eyed_Vireo', 'Red_faced_Cormorant', 'Red_headed_Woodpecker',\n       'Red_legged_Kittiwake', 'Red_winged_Blackbird',\n       'Rhinoceros_Auklet', 'Ring_billed_Gull', 'Ringed_Kingfisher',\n       'Rock_Wren', 'Rose_breasted_Grosbeak', 'Ruby_throated_Hummingbird',\n       'Rufous_Hummingbird', 'Rusty_Blackbird', 'Sage_Thrasher',\n       'Savannah_Sparrow', 'Sayornis', 'Scarlet_Tanager',\n       'Scissor_tailed_Flycatcher', 'Scott_Oriole', 'Seaside_Sparrow',\n       'Shiny_Cowbird', 'Slaty_backed_Gull', 'Song_Sparrow',\n       'Sooty_Albatross', 'Spotted_Catbird', 'Summer_Tanager',\n       'Swainson_Warbler', 'Tennessee_Warbler', 'Tree_Sparrow',\n       'Tree_Swallow', 'Tropical_Kingbird', 'Vermilion_Flycatcher',\n       'Vesper_Sparrow', 'Warbling_Vireo', 'Western_Grebe',\n       'Western_Gull', 'Western_Meadowlark', 'Western_Wood_Pewee',\n       'Whip_poor_Will', 'White_Pelican', 'White_breasted_Kingfisher',\n       'White_breasted_Nuthatch', 'White_crowned_Sparrow',\n       'White_eyed_Vireo', 'White_necked_Raven', 'White_throated_Sparrow',\n       'Wilson_Warbler', 'Winter_Wren', 'Worm_eating_Warbler',\n       'Yellow_Warbler', 'Yellow_bellied_Flycatcher',\n       'Yellow_billed_Cuckoo', 'Yellow_breasted_Chat',\n       'Yellow_headed_Blackbird', 'Yellow_throated_Vireo'], dtype='<U30')"
     },
     "execution_count": 8,
     "metadata": {},
     "output_type": "execute_result"
    }
   ],
   "source": [
    "label_names"
   ]
  },
  {
   "cell_type": "code",
   "execution_count": 9,
   "metadata": {
    "pycharm": {
     "name": "#%%\n"
    }
   },
   "outputs": [],
   "source": [
    "label_to_index = dict((name, i) for i, name in enumerate(label_names))"
   ]
  },
  {
   "cell_type": "code",
   "execution_count": 10,
   "metadata": {
    "pycharm": {
     "name": "#%%\n"
    }
   },
   "outputs": [
    {
     "data": {
      "text/plain": "{'Acadian_Flycatcher': 0,\n 'American_Crow': 1,\n 'American_Goldfinch': 2,\n 'American_Pipit': 3,\n 'American_Redstart': 4,\n 'American_Three_toed_Woodpecker': 5,\n 'Anna_Hummingbird': 6,\n 'Artic_Tern': 7,\n 'Baird_Sparrow': 8,\n 'Baltimore_Oriole': 9,\n 'Bank_Swallow': 10,\n 'Barn_Swallow': 11,\n 'Bay_breasted_Warbler': 12,\n 'Belted_Kingfisher': 13,\n 'Bewick_Wren': 14,\n 'Black_Tern': 15,\n 'Black_and_white_Warbler': 16,\n 'Black_billed_Cuckoo': 17,\n 'Black_capped_Vireo': 18,\n 'Black_footed_Albatross': 19,\n 'Black_throated_Blue_Warbler': 20,\n 'Black_throated_Sparrow': 21,\n 'Blue_Grosbeak': 22,\n 'Blue_Jay': 23,\n 'Blue_headed_Vireo': 24,\n 'Blue_winged_Warbler': 25,\n 'Boat_tailed_Grackle': 26,\n 'Bobolink': 27,\n 'Bohemian_Waxwing': 28,\n 'Brandt_Cormorant': 29,\n 'Brewer_Blackbird': 30,\n 'Brewer_Sparrow': 31,\n 'Bronzed_Cowbird': 32,\n 'Brown_Creeper': 33,\n 'Brown_Pelican': 34,\n 'Brown_Thrasher': 35,\n 'Cactus_Wren': 36,\n 'California_Gull': 37,\n 'Canada_Warbler': 38,\n 'Cape_Glossy_Starling': 39,\n 'Cape_May_Warbler': 40,\n 'Cardinal': 41,\n 'Carolina_Wren': 42,\n 'Caspian_Tern': 43,\n 'Cedar_Waxwing': 44,\n 'Cerulean_Warbler': 45,\n 'Chestnut_sided_Warbler': 46,\n 'Chipping_Sparrow': 47,\n 'Chuck_will_Widow': 48,\n 'Clark_Nutcracker': 49,\n 'Clay_colored_Sparrow': 50,\n 'Cliff_Swallow': 51,\n 'Common_Raven': 52,\n 'Common_Tern': 53,\n 'Common_Yellowthroat': 54,\n 'Crested_Auklet': 55,\n 'Dark_eyed_Junco': 56,\n 'Downy_Woodpecker': 57,\n 'Eared_Grebe': 58,\n 'Eastern_Towhee': 59,\n 'Elegant_Tern': 60,\n 'European_Goldfinch': 61,\n 'Evening_Grosbeak': 62,\n 'Field_Sparrow': 63,\n 'Fish_Crow': 64,\n 'Florida_Jay': 65,\n 'Forsters_Tern': 66,\n 'Fox_Sparrow': 67,\n 'Frigatebird': 68,\n 'Gadwall': 69,\n 'Geococcyx': 70,\n 'Glaucous_winged_Gull': 71,\n 'Golden_winged_Warbler': 72,\n 'Grasshopper_Sparrow': 73,\n 'Gray_Catbird': 74,\n 'Gray_Kingbird': 75,\n 'Gray_crowned_Rosy_Finch': 76,\n 'Great_Crested_Flycatcher': 77,\n 'Great_Grey_Shrike': 78,\n 'Green_Jay': 79,\n 'Green_Kingfisher': 80,\n 'Green_Violetear': 81,\n 'Green_tailed_Towhee': 82,\n 'Groove_billed_Ani': 83,\n 'Harris_Sparrow': 84,\n 'Heermann_Gull': 85,\n 'Henslow_Sparrow': 86,\n 'Herring_Gull': 87,\n 'Hooded_Merganser': 88,\n 'Hooded_Oriole': 89,\n 'Hooded_Warbler': 90,\n 'Horned_Grebe': 91,\n 'Horned_Lark': 92,\n 'Horned_Puffin': 93,\n 'House_Sparrow': 94,\n 'House_Wren': 95,\n 'Indigo_Bunting': 96,\n 'Ivory_Gull': 97,\n 'Kentucky_Warbler': 98,\n 'Laysan_Albatross': 99,\n 'Lazuli_Bunting': 100,\n 'Le_Conte_Sparrow': 101,\n 'Least_Auklet': 102,\n 'Least_Flycatcher': 103,\n 'Least_Tern': 104,\n 'Lincoln_Sparrow': 105,\n 'Loggerhead_Shrike': 106,\n 'Long_tailed_Jaeger': 107,\n 'Louisiana_Waterthrush': 108,\n 'Magnolia_Warbler': 109,\n 'Mallard': 110,\n 'Mangrove_Cuckoo': 111,\n 'Marsh_Wren': 112,\n 'Mockingbird': 113,\n 'Mourning_Warbler': 114,\n 'Myrtle_Warbler': 115,\n 'Nashville_Warbler': 116,\n 'Nelson_Sharp_tailed_Sparrow': 117,\n 'Nighthawk': 118,\n 'Northern_Flicker': 119,\n 'Northern_Fulmar': 120,\n 'Northern_Waterthrush': 121,\n 'Olive_sided_Flycatcher': 122,\n 'Orange_crowned_Warbler': 123,\n 'Orchard_Oriole': 124,\n 'Ovenbird': 125,\n 'Pacific_Loon': 126,\n 'Painted_Bunting': 127,\n 'Palm_Warbler': 128,\n 'Parakeet_Auklet': 129,\n 'Pelagic_Cormorant': 130,\n 'Philadelphia_Vireo': 131,\n 'Pied_Kingfisher': 132,\n 'Pied_billed_Grebe': 133,\n 'Pigeon_Guillemot': 134,\n 'Pileated_Woodpecker': 135,\n 'Pine_Grosbeak': 136,\n 'Pine_Warbler': 137,\n 'Pomarine_Jaeger': 138,\n 'Prairie_Warbler': 139,\n 'Prothonotary_Warbler': 140,\n 'Purple_Finch': 141,\n 'Red_bellied_Woodpecker': 142,\n 'Red_breasted_Merganser': 143,\n 'Red_cockaded_Woodpecker': 144,\n 'Red_eyed_Vireo': 145,\n 'Red_faced_Cormorant': 146,\n 'Red_headed_Woodpecker': 147,\n 'Red_legged_Kittiwake': 148,\n 'Red_winged_Blackbird': 149,\n 'Rhinoceros_Auklet': 150,\n 'Ring_billed_Gull': 151,\n 'Ringed_Kingfisher': 152,\n 'Rock_Wren': 153,\n 'Rose_breasted_Grosbeak': 154,\n 'Ruby_throated_Hummingbird': 155,\n 'Rufous_Hummingbird': 156,\n 'Rusty_Blackbird': 157,\n 'Sage_Thrasher': 158,\n 'Savannah_Sparrow': 159,\n 'Sayornis': 160,\n 'Scarlet_Tanager': 161,\n 'Scissor_tailed_Flycatcher': 162,\n 'Scott_Oriole': 163,\n 'Seaside_Sparrow': 164,\n 'Shiny_Cowbird': 165,\n 'Slaty_backed_Gull': 166,\n 'Song_Sparrow': 167,\n 'Sooty_Albatross': 168,\n 'Spotted_Catbird': 169,\n 'Summer_Tanager': 170,\n 'Swainson_Warbler': 171,\n 'Tennessee_Warbler': 172,\n 'Tree_Sparrow': 173,\n 'Tree_Swallow': 174,\n 'Tropical_Kingbird': 175,\n 'Vermilion_Flycatcher': 176,\n 'Vesper_Sparrow': 177,\n 'Warbling_Vireo': 178,\n 'Western_Grebe': 179,\n 'Western_Gull': 180,\n 'Western_Meadowlark': 181,\n 'Western_Wood_Pewee': 182,\n 'Whip_poor_Will': 183,\n 'White_Pelican': 184,\n 'White_breasted_Kingfisher': 185,\n 'White_breasted_Nuthatch': 186,\n 'White_crowned_Sparrow': 187,\n 'White_eyed_Vireo': 188,\n 'White_necked_Raven': 189,\n 'White_throated_Sparrow': 190,\n 'Wilson_Warbler': 191,\n 'Winter_Wren': 192,\n 'Worm_eating_Warbler': 193,\n 'Yellow_Warbler': 194,\n 'Yellow_bellied_Flycatcher': 195,\n 'Yellow_billed_Cuckoo': 196,\n 'Yellow_breasted_Chat': 197,\n 'Yellow_headed_Blackbird': 198,\n 'Yellow_throated_Vireo': 199}"
     },
     "execution_count": 10,
     "metadata": {},
     "output_type": "execute_result"
    }
   ],
   "source": [
    "label_to_index"
   ]
  },
  {
   "cell_type": "code",
   "execution_count": 11,
   "metadata": {
    "pycharm": {
     "name": "#%%\n"
    }
   },
   "outputs": [],
   "source": [
    "index_to_label = dict((v, k) for k, v in label_to_index.items())"
   ]
  },
  {
   "cell_type": "code",
   "execution_count": 12,
   "metadata": {
    "pycharm": {
     "name": "#%%\n"
    }
   },
   "outputs": [
    {
     "data": {
      "text/plain": "{0: 'Acadian_Flycatcher',\n 1: 'American_Crow',\n 2: 'American_Goldfinch',\n 3: 'American_Pipit',\n 4: 'American_Redstart',\n 5: 'American_Three_toed_Woodpecker',\n 6: 'Anna_Hummingbird',\n 7: 'Artic_Tern',\n 8: 'Baird_Sparrow',\n 9: 'Baltimore_Oriole',\n 10: 'Bank_Swallow',\n 11: 'Barn_Swallow',\n 12: 'Bay_breasted_Warbler',\n 13: 'Belted_Kingfisher',\n 14: 'Bewick_Wren',\n 15: 'Black_Tern',\n 16: 'Black_and_white_Warbler',\n 17: 'Black_billed_Cuckoo',\n 18: 'Black_capped_Vireo',\n 19: 'Black_footed_Albatross',\n 20: 'Black_throated_Blue_Warbler',\n 21: 'Black_throated_Sparrow',\n 22: 'Blue_Grosbeak',\n 23: 'Blue_Jay',\n 24: 'Blue_headed_Vireo',\n 25: 'Blue_winged_Warbler',\n 26: 'Boat_tailed_Grackle',\n 27: 'Bobolink',\n 28: 'Bohemian_Waxwing',\n 29: 'Brandt_Cormorant',\n 30: 'Brewer_Blackbird',\n 31: 'Brewer_Sparrow',\n 32: 'Bronzed_Cowbird',\n 33: 'Brown_Creeper',\n 34: 'Brown_Pelican',\n 35: 'Brown_Thrasher',\n 36: 'Cactus_Wren',\n 37: 'California_Gull',\n 38: 'Canada_Warbler',\n 39: 'Cape_Glossy_Starling',\n 40: 'Cape_May_Warbler',\n 41: 'Cardinal',\n 42: 'Carolina_Wren',\n 43: 'Caspian_Tern',\n 44: 'Cedar_Waxwing',\n 45: 'Cerulean_Warbler',\n 46: 'Chestnut_sided_Warbler',\n 47: 'Chipping_Sparrow',\n 48: 'Chuck_will_Widow',\n 49: 'Clark_Nutcracker',\n 50: 'Clay_colored_Sparrow',\n 51: 'Cliff_Swallow',\n 52: 'Common_Raven',\n 53: 'Common_Tern',\n 54: 'Common_Yellowthroat',\n 55: 'Crested_Auklet',\n 56: 'Dark_eyed_Junco',\n 57: 'Downy_Woodpecker',\n 58: 'Eared_Grebe',\n 59: 'Eastern_Towhee',\n 60: 'Elegant_Tern',\n 61: 'European_Goldfinch',\n 62: 'Evening_Grosbeak',\n 63: 'Field_Sparrow',\n 64: 'Fish_Crow',\n 65: 'Florida_Jay',\n 66: 'Forsters_Tern',\n 67: 'Fox_Sparrow',\n 68: 'Frigatebird',\n 69: 'Gadwall',\n 70: 'Geococcyx',\n 71: 'Glaucous_winged_Gull',\n 72: 'Golden_winged_Warbler',\n 73: 'Grasshopper_Sparrow',\n 74: 'Gray_Catbird',\n 75: 'Gray_Kingbird',\n 76: 'Gray_crowned_Rosy_Finch',\n 77: 'Great_Crested_Flycatcher',\n 78: 'Great_Grey_Shrike',\n 79: 'Green_Jay',\n 80: 'Green_Kingfisher',\n 81: 'Green_Violetear',\n 82: 'Green_tailed_Towhee',\n 83: 'Groove_billed_Ani',\n 84: 'Harris_Sparrow',\n 85: 'Heermann_Gull',\n 86: 'Henslow_Sparrow',\n 87: 'Herring_Gull',\n 88: 'Hooded_Merganser',\n 89: 'Hooded_Oriole',\n 90: 'Hooded_Warbler',\n 91: 'Horned_Grebe',\n 92: 'Horned_Lark',\n 93: 'Horned_Puffin',\n 94: 'House_Sparrow',\n 95: 'House_Wren',\n 96: 'Indigo_Bunting',\n 97: 'Ivory_Gull',\n 98: 'Kentucky_Warbler',\n 99: 'Laysan_Albatross',\n 100: 'Lazuli_Bunting',\n 101: 'Le_Conte_Sparrow',\n 102: 'Least_Auklet',\n 103: 'Least_Flycatcher',\n 104: 'Least_Tern',\n 105: 'Lincoln_Sparrow',\n 106: 'Loggerhead_Shrike',\n 107: 'Long_tailed_Jaeger',\n 108: 'Louisiana_Waterthrush',\n 109: 'Magnolia_Warbler',\n 110: 'Mallard',\n 111: 'Mangrove_Cuckoo',\n 112: 'Marsh_Wren',\n 113: 'Mockingbird',\n 114: 'Mourning_Warbler',\n 115: 'Myrtle_Warbler',\n 116: 'Nashville_Warbler',\n 117: 'Nelson_Sharp_tailed_Sparrow',\n 118: 'Nighthawk',\n 119: 'Northern_Flicker',\n 120: 'Northern_Fulmar',\n 121: 'Northern_Waterthrush',\n 122: 'Olive_sided_Flycatcher',\n 123: 'Orange_crowned_Warbler',\n 124: 'Orchard_Oriole',\n 125: 'Ovenbird',\n 126: 'Pacific_Loon',\n 127: 'Painted_Bunting',\n 128: 'Palm_Warbler',\n 129: 'Parakeet_Auklet',\n 130: 'Pelagic_Cormorant',\n 131: 'Philadelphia_Vireo',\n 132: 'Pied_Kingfisher',\n 133: 'Pied_billed_Grebe',\n 134: 'Pigeon_Guillemot',\n 135: 'Pileated_Woodpecker',\n 136: 'Pine_Grosbeak',\n 137: 'Pine_Warbler',\n 138: 'Pomarine_Jaeger',\n 139: 'Prairie_Warbler',\n 140: 'Prothonotary_Warbler',\n 141: 'Purple_Finch',\n 142: 'Red_bellied_Woodpecker',\n 143: 'Red_breasted_Merganser',\n 144: 'Red_cockaded_Woodpecker',\n 145: 'Red_eyed_Vireo',\n 146: 'Red_faced_Cormorant',\n 147: 'Red_headed_Woodpecker',\n 148: 'Red_legged_Kittiwake',\n 149: 'Red_winged_Blackbird',\n 150: 'Rhinoceros_Auklet',\n 151: 'Ring_billed_Gull',\n 152: 'Ringed_Kingfisher',\n 153: 'Rock_Wren',\n 154: 'Rose_breasted_Grosbeak',\n 155: 'Ruby_throated_Hummingbird',\n 156: 'Rufous_Hummingbird',\n 157: 'Rusty_Blackbird',\n 158: 'Sage_Thrasher',\n 159: 'Savannah_Sparrow',\n 160: 'Sayornis',\n 161: 'Scarlet_Tanager',\n 162: 'Scissor_tailed_Flycatcher',\n 163: 'Scott_Oriole',\n 164: 'Seaside_Sparrow',\n 165: 'Shiny_Cowbird',\n 166: 'Slaty_backed_Gull',\n 167: 'Song_Sparrow',\n 168: 'Sooty_Albatross',\n 169: 'Spotted_Catbird',\n 170: 'Summer_Tanager',\n 171: 'Swainson_Warbler',\n 172: 'Tennessee_Warbler',\n 173: 'Tree_Sparrow',\n 174: 'Tree_Swallow',\n 175: 'Tropical_Kingbird',\n 176: 'Vermilion_Flycatcher',\n 177: 'Vesper_Sparrow',\n 178: 'Warbling_Vireo',\n 179: 'Western_Grebe',\n 180: 'Western_Gull',\n 181: 'Western_Meadowlark',\n 182: 'Western_Wood_Pewee',\n 183: 'Whip_poor_Will',\n 184: 'White_Pelican',\n 185: 'White_breasted_Kingfisher',\n 186: 'White_breasted_Nuthatch',\n 187: 'White_crowned_Sparrow',\n 188: 'White_eyed_Vireo',\n 189: 'White_necked_Raven',\n 190: 'White_throated_Sparrow',\n 191: 'Wilson_Warbler',\n 192: 'Winter_Wren',\n 193: 'Worm_eating_Warbler',\n 194: 'Yellow_Warbler',\n 195: 'Yellow_bellied_Flycatcher',\n 196: 'Yellow_billed_Cuckoo',\n 197: 'Yellow_breasted_Chat',\n 198: 'Yellow_headed_Blackbird',\n 199: 'Yellow_throated_Vireo'}"
     },
     "execution_count": 12,
     "metadata": {},
     "output_type": "execute_result"
    }
   ],
   "source": [
    "index_to_label"
   ]
  },
  {
   "cell_type": "code",
   "execution_count": 13,
   "metadata": {
    "pycharm": {
     "name": "#%%\n"
    }
   },
   "outputs": [],
   "source": [
    "all_labels = [label_to_index.get(name) for name in all_labels_name]"
   ]
  },
  {
   "cell_type": "code",
   "execution_count": 14,
   "metadata": {
    "pycharm": {
     "name": "#%%\n"
    }
   },
   "outputs": [
    {
     "data": {
      "text/plain": "[19,\n 19,\n 19,\n 19,\n 19,\n 19,\n 19,\n 19,\n 19,\n 19,\n 19,\n 19,\n 19,\n 19,\n 19,\n 19,\n 19,\n 19,\n 19,\n 19,\n 19,\n 19,\n 19,\n 19,\n 19,\n 19,\n 19,\n 19,\n 19,\n 19,\n 19,\n 19,\n 19,\n 19,\n 19,\n 19,\n 19,\n 19,\n 19,\n 19,\n 19,\n 19,\n 19,\n 19,\n 19,\n 19,\n 19,\n 19,\n 19,\n 19,\n 19,\n 19,\n 19,\n 19,\n 19,\n 19,\n 19,\n 19,\n 19,\n 19,\n 99,\n 99,\n 99,\n 99,\n 99,\n 99,\n 99,\n 99,\n 99,\n 99,\n 99,\n 99,\n 99,\n 99,\n 99,\n 99,\n 99,\n 99,\n 99,\n 99,\n 99,\n 99,\n 99,\n 99,\n 99,\n 99,\n 99,\n 99,\n 99,\n 99,\n 99,\n 99,\n 99,\n 99,\n 99,\n 99,\n 99,\n 99,\n 99,\n 99,\n 99,\n 99,\n 99,\n 99,\n 99,\n 99,\n 99,\n 99,\n 99,\n 99,\n 99,\n 99,\n 99,\n 99,\n 99,\n 99,\n 99,\n 99,\n 99,\n 99,\n 168,\n 168,\n 168,\n 168,\n 168,\n 168,\n 168,\n 168,\n 168,\n 168,\n 168,\n 168,\n 168,\n 168,\n 168,\n 168,\n 168,\n 168,\n 168,\n 168,\n 168,\n 168,\n 168,\n 168,\n 168,\n 168,\n 168,\n 168,\n 168,\n 168,\n 168,\n 168,\n 168,\n 168,\n 168,\n 168,\n 168,\n 168,\n 168,\n 168,\n 168,\n 168,\n 168,\n 168,\n 168,\n 168,\n 168,\n 168,\n 168,\n 168,\n 168,\n 168,\n 168,\n 168,\n 168,\n 168,\n 168,\n 168,\n 83,\n 83,\n 83,\n 83,\n 83,\n 83,\n 83,\n 83,\n 83,\n 83,\n 83,\n 83,\n 83,\n 83,\n 83,\n 83,\n 83,\n 83,\n 83,\n 83,\n 83,\n 83,\n 83,\n 83,\n 83,\n 83,\n 83,\n 83,\n 83,\n 83,\n 83,\n 83,\n 83,\n 83,\n 83,\n 83,\n 83,\n 83,\n 83,\n 83,\n 83,\n 83,\n 83,\n 83,\n 83,\n 83,\n 83,\n 83,\n 83,\n 83,\n 83,\n 83,\n 83,\n 83,\n 83,\n 83,\n 83,\n 83,\n 83,\n 83,\n 55,\n 55,\n 55,\n 55,\n 55,\n 55,\n 55,\n 55,\n 55,\n 55,\n 55,\n 55,\n 55,\n 55,\n 55,\n 55,\n 55,\n 55,\n 55,\n 55,\n 55,\n 55,\n 55,\n 55,\n 55,\n 55,\n 55,\n 55,\n 55,\n 55,\n 55,\n 55,\n 55,\n 55,\n 55,\n 55,\n 55,\n 55,\n 55,\n 55,\n 55,\n 55,\n 55,\n 55,\n 102,\n 102,\n 102,\n 102,\n 102,\n 102,\n 102,\n 102,\n 102,\n 102,\n 102,\n 102,\n 102,\n 102,\n 102,\n 102,\n 102,\n 102,\n 102,\n 102,\n 102,\n 102,\n 102,\n 102,\n 102,\n 102,\n 102,\n 102,\n 102,\n 102,\n 102,\n 102,\n 102,\n 102,\n 102,\n 102,\n 102,\n 102,\n 102,\n 102,\n 102,\n 129,\n 129,\n 129,\n 129,\n 129,\n 129,\n 129,\n 129,\n 129,\n 129,\n 129,\n 129,\n 129,\n 129,\n 129,\n 129,\n 129,\n 129,\n 129,\n 129,\n 129,\n 129,\n 129,\n 129,\n 129,\n 129,\n 129,\n 129,\n 129,\n 129,\n 129,\n 129,\n 129,\n 129,\n 129,\n 129,\n 129,\n 129,\n 129,\n 129,\n 129,\n 129,\n 129,\n 129,\n 129,\n 129,\n 129,\n 129,\n 129,\n 129,\n 129,\n 129,\n 129,\n 150,\n 150,\n 150,\n 150,\n 150,\n 150,\n 150,\n 150,\n 150,\n 150,\n 150,\n 150,\n 150,\n 150,\n 150,\n 150,\n 150,\n 150,\n 150,\n 150,\n 150,\n 150,\n 150,\n 150,\n 150,\n 150,\n 150,\n 150,\n 150,\n 150,\n 150,\n 150,\n 150,\n 150,\n 150,\n 150,\n 150,\n 150,\n 150,\n 150,\n 150,\n 150,\n 150,\n 150,\n 150,\n 150,\n 150,\n 150,\n 30,\n 30,\n 30,\n 30,\n 30,\n 30,\n 30,\n 30,\n 30,\n 30,\n 30,\n 30,\n 30,\n 30,\n 30,\n 30,\n 30,\n 30,\n 30,\n 30,\n 30,\n 30,\n 30,\n 30,\n 30,\n 30,\n 30,\n 30,\n 30,\n 30,\n 30,\n 30,\n 30,\n 30,\n 30,\n 30,\n 30,\n 30,\n 30,\n 30,\n 30,\n 30,\n 30,\n 30,\n 30,\n 30,\n 30,\n 30,\n 30,\n 30,\n 30,\n 30,\n 30,\n 30,\n 30,\n 30,\n 30,\n 30,\n 30,\n 149,\n 149,\n 149,\n 149,\n 149,\n 149,\n 149,\n 149,\n 149,\n 149,\n 149,\n 149,\n 149,\n 149,\n 149,\n 149,\n 149,\n 149,\n 149,\n 149,\n 149,\n 149,\n 149,\n 149,\n 149,\n 149,\n 149,\n 149,\n 149,\n 149,\n 149,\n 149,\n 149,\n 149,\n 149,\n 149,\n 149,\n 149,\n 149,\n 149,\n 149,\n 149,\n 149,\n 149,\n 149,\n 149,\n 149,\n 149,\n 149,\n 149,\n 149,\n 149,\n 149,\n 149,\n 149,\n 149,\n 149,\n 149,\n 149,\n 149,\n 157,\n 157,\n 157,\n 157,\n 157,\n 157,\n 157,\n 157,\n 157,\n 157,\n 157,\n 157,\n 157,\n 157,\n 157,\n 157,\n 157,\n 157,\n 157,\n 157,\n 157,\n 157,\n 157,\n 157,\n 157,\n 157,\n 157,\n 157,\n 157,\n 157,\n 157,\n 157,\n 157,\n 157,\n 157,\n 157,\n 157,\n 157,\n 157,\n 157,\n 157,\n 157,\n 157,\n 157,\n 157,\n 157,\n 157,\n 157,\n 157,\n 157,\n 157,\n 157,\n 157,\n 157,\n 157,\n 157,\n 157,\n 157,\n 157,\n 157,\n 198,\n 198,\n 198,\n 198,\n 198,\n 198,\n 198,\n 198,\n 198,\n 198,\n 198,\n 198,\n 198,\n 198,\n 198,\n 198,\n 198,\n 198,\n 198,\n 198,\n 198,\n 198,\n 198,\n 198,\n 198,\n 198,\n 198,\n 198,\n 198,\n 198,\n 198,\n 198,\n 198,\n 198,\n 198,\n 198,\n 198,\n 198,\n 198,\n 198,\n 198,\n 198,\n 198,\n 198,\n 198,\n 198,\n 198,\n 198,\n 198,\n 198,\n 198,\n 198,\n 198,\n 198,\n 198,\n 198,\n 27,\n 27,\n 27,\n 27,\n 27,\n 27,\n 27,\n 27,\n 27,\n 27,\n 27,\n 27,\n 27,\n 27,\n 27,\n 27,\n 27,\n 27,\n 27,\n 27,\n 27,\n 27,\n 27,\n 27,\n 27,\n 27,\n 27,\n 27,\n 27,\n 27,\n 27,\n 27,\n 27,\n 27,\n 27,\n 27,\n 27,\n 27,\n 27,\n 27,\n 27,\n 27,\n 27,\n 27,\n 27,\n 27,\n 27,\n 27,\n 27,\n 27,\n 27,\n 27,\n 27,\n 27,\n 27,\n 27,\n 27,\n 27,\n 27,\n 27,\n 96,\n 96,\n 96,\n 96,\n 96,\n 96,\n 96,\n 96,\n 96,\n 96,\n 96,\n 96,\n 96,\n 96,\n 96,\n 96,\n 96,\n 96,\n 96,\n 96,\n 96,\n 96,\n 96,\n 96,\n 96,\n 96,\n 96,\n 96,\n 96,\n 96,\n 96,\n 96,\n 96,\n 96,\n 96,\n 96,\n 96,\n 96,\n 96,\n 96,\n 96,\n 96,\n 96,\n 96,\n 96,\n 96,\n 96,\n 96,\n 96,\n 96,\n 96,\n 96,\n 96,\n 96,\n 96,\n 96,\n 96,\n 96,\n 96,\n 96,\n 100,\n 100,\n 100,\n 100,\n 100,\n 100,\n 100,\n 100,\n 100,\n 100,\n 100,\n 100,\n 100,\n 100,\n 100,\n 100,\n 100,\n 100,\n 100,\n 100,\n 100,\n 100,\n 100,\n 100,\n 100,\n 100,\n 100,\n 100,\n 100,\n 100,\n 100,\n 100,\n 100,\n 100,\n 100,\n 100,\n 100,\n 100,\n 100,\n 100,\n 100,\n 100,\n 100,\n 100,\n 100,\n 100,\n 100,\n 100,\n 100,\n 100,\n 100,\n 100,\n 100,\n 100,\n 100,\n 100,\n 100,\n 100,\n 127,\n 127,\n 127,\n 127,\n 127,\n 127,\n 127,\n 127,\n 127,\n 127,\n 127,\n 127,\n 127,\n 127,\n 127,\n 127,\n 127,\n 127,\n 127,\n 127,\n 127,\n 127,\n 127,\n 127,\n 127,\n 127,\n 127,\n 127,\n 127,\n 127,\n 127,\n 127,\n 127,\n 127,\n 127,\n 127,\n 127,\n 127,\n 127,\n 127,\n 127,\n 127,\n 127,\n 127,\n 127,\n 127,\n 127,\n 127,\n 127,\n 127,\n 127,\n 127,\n 127,\n 127,\n 127,\n 127,\n 127,\n 127,\n 41,\n 41,\n 41,\n 41,\n 41,\n 41,\n 41,\n 41,\n 41,\n 41,\n 41,\n 41,\n 41,\n 41,\n 41,\n 41,\n 41,\n 41,\n 41,\n 41,\n 41,\n 41,\n 41,\n 41,\n 41,\n 41,\n 41,\n 41,\n 41,\n 41,\n 41,\n 41,\n 41,\n 41,\n 41,\n 41,\n 41,\n 41,\n 41,\n 41,\n 41,\n 41,\n 41,\n 41,\n 41,\n 41,\n 41,\n 41,\n 41,\n 41,\n 41,\n 41,\n 41,\n 41,\n 41,\n 41,\n 41,\n 169,\n 169,\n 169,\n 169,\n 169,\n 169,\n 169,\n 169,\n 169,\n 169,\n 169,\n 169,\n 169,\n 169,\n 169,\n 169,\n 169,\n 169,\n 169,\n 169,\n 169,\n 169,\n 169,\n 169,\n 169,\n 169,\n 169,\n 169,\n 169,\n 169,\n 169,\n 169,\n 169,\n 169,\n 169,\n 169,\n 169,\n 169,\n 169,\n 169,\n 169,\n 169,\n 169,\n 169,\n 169,\n 74,\n 74,\n 74,\n ...]"
     },
     "execution_count": 14,
     "metadata": {},
     "output_type": "execute_result"
    }
   ],
   "source": [
    "all_labels"
   ]
  },
  {
   "cell_type": "code",
   "execution_count": 15,
   "metadata": {
    "pycharm": {
     "name": "#%%\n"
    }
   },
   "outputs": [],
   "source": [
    "np.random.seed(2023)\n",
    "random_index = np.random.permutation(len(imgs_path))"
   ]
  },
  {
   "cell_type": "code",
   "execution_count": 16,
   "metadata": {
    "pycharm": {
     "name": "#%%\n"
    }
   },
   "outputs": [],
   "source": [
    "imgs_path = np.array(imgs_path)[random_index]\n",
    "all_labels = np.array(all_labels)[random_index]"
   ]
  },
  {
   "cell_type": "code",
   "execution_count": 17,
   "metadata": {
    "pycharm": {
     "name": "#%%\n"
    }
   },
   "outputs": [],
   "source": [
    "i = int(len(imgs_path) * 0.8)"
   ]
  },
  {
   "cell_type": "code",
   "execution_count": 18,
   "metadata": {
    "pycharm": {
     "name": "#%%\n"
    }
   },
   "outputs": [],
   "source": [
    "train_path = imgs_path[:i]\n",
    "train_labels = all_labels[:i]\n",
    "test_path = imgs_path[i:]\n",
    "test_labels = all_labels[i:]"
   ]
  },
  {
   "cell_type": "code",
   "execution_count": 19,
   "metadata": {
    "pycharm": {
     "name": "#%%\n"
    }
   },
   "outputs": [],
   "source": [
    "train_ds = tf.data.Dataset.from_tensor_slices((train_path, train_labels))\n",
    "test_ds = tf.data.Dataset.from_tensor_slices((test_path, test_labels))"
   ]
  },
  {
   "cell_type": "code",
   "execution_count": 20,
   "metadata": {
    "pycharm": {
     "name": "#%%\n"
    }
   },
   "outputs": [
    {
     "data": {
      "text/plain": "<TensorSliceDataset shapes: ((), ()), types: (tf.string, tf.int32)>"
     },
     "execution_count": 20,
     "metadata": {},
     "output_type": "execute_result"
    }
   ],
   "source": [
    "train_ds"
   ]
  },
  {
   "cell_type": "code",
   "execution_count": 21,
   "metadata": {
    "pycharm": {
     "name": "#%%\n"
    }
   },
   "outputs": [],
   "source": [
    "def load_img(path, label):\n",
    "    image = tf.io.read_file(path)\n",
    "    image = tf.image.decode_jpeg(image, channels=3)\n",
    "    image = tf.image.resize(image, [256, 256])\n",
    "    image = tf.cast(image, tf.float32)\n",
    "    image = image / 255\n",
    "    return image, label"
   ]
  },
  {
   "cell_type": "code",
   "execution_count": 22,
   "metadata": {
    "pycharm": {
     "name": "#%%\n"
    }
   },
   "outputs": [],
   "source": [
    "AUTOTUNE = tf.data.experimental.AUTOTUNE\n",
    "train_ds = train_ds.map(load_img, num_parallel_calls=AUTOTUNE)\n",
    "test_ds = test_ds.map(load_img, num_parallel_calls=AUTOTUNE)"
   ]
  },
  {
   "cell_type": "code",
   "execution_count": 23,
   "metadata": {
    "pycharm": {
     "name": "#%%\n"
    }
   },
   "outputs": [
    {
     "data": {
      "text/plain": "<ParallelMapDataset shapes: ((256, 256, 3), ()), types: (tf.float32, tf.int32)>"
     },
     "execution_count": 23,
     "metadata": {},
     "output_type": "execute_result"
    }
   ],
   "source": [
    "train_ds"
   ]
  },
  {
   "cell_type": "code",
   "execution_count": 24,
   "metadata": {
    "pycharm": {
     "name": "#%%\n"
    }
   },
   "outputs": [],
   "source": [
    "BATCH_SIZE = 32"
   ]
  },
  {
   "cell_type": "code",
   "execution_count": 25,
   "metadata": {
    "pycharm": {
     "name": "#%%\n"
    }
   },
   "outputs": [],
   "source": [
    "train_ds = train_ds.repeat().shuffle(300).batch(BATCH_SIZE)"
   ]
  },
  {
   "cell_type": "code",
   "execution_count": 26,
   "metadata": {
    "pycharm": {
     "name": "#%%\n"
    }
   },
   "outputs": [
    {
     "data": {
      "text/plain": "<BatchDataset shapes: ((None, 256, 256, 3), (None,)), types: (tf.float32, tf.int32)>"
     },
     "execution_count": 26,
     "metadata": {},
     "output_type": "execute_result"
    }
   ],
   "source": [
    "train_ds"
   ]
  },
  {
   "cell_type": "code",
   "execution_count": 27,
   "metadata": {
    "pycharm": {
     "name": "#%%\n"
    }
   },
   "outputs": [],
   "source": [
    "test_ds = test_ds.batch(BATCH_SIZE)"
   ]
  },
  {
   "cell_type": "code",
   "execution_count": 33,
   "outputs": [],
   "source": [
    "model = tf.keras.Sequential([\n",
    "    tf.keras.layers.Conv2D(64,(3,3), input_shape=(256, 256, 3),activation='relu'),\n",
    "    tf.keras.layers.BatchNormalization(),\n",
    "    tf.keras.layers.Conv2D(64, (3, 3), activation='relu'),\n",
    "    tf.keras.layers.BatchNormalization(),\n",
    "    tf.keras.layers.MaxPooling2D(),\n",
    "    tf.keras.layers.Conv2D(128, (3, 3), activation='relu'),\n",
    "    tf.keras.layers.BatchNormalization(),\n",
    "    tf.keras.layers.Conv2D(128, (3, 3), activation='relu'),\n",
    "    tf.keras.layers.BatchNormalization(),\n",
    "    tf.keras.layers.MaxPooling2D(),\n",
    "    tf.keras.layers.Conv2D(256, (3, 3), activation='relu'),\n",
    "    tf.keras.layers.BatchNormalization(),\n",
    "    tf.keras.layers.Conv2D(256, (3, 3), activation='relu'),\n",
    "    tf.keras.layers.BatchNormalization(),\n",
    "    tf.keras.layers.MaxPooling2D(),\n",
    "    tf.keras.layers.Conv2D(512, (3, 3), activation='relu'),\n",
    "    tf.keras.layers.BatchNormalization(),\n",
    "    tf.keras.layers.Conv2D(512, (3, 3), activation='relu'),\n",
    "    tf.keras.layers.BatchNormalization(),\n",
    "    tf.keras.layers.MaxPooling2D(),\n",
    "    tf.keras.layers.Conv2D(512, (3, 3), activation='relu'),\n",
    "    tf.keras.layers.BatchNormalization(),\n",
    "    tf.keras.layers.Conv2D(512, (3, 3), activation='relu'),\n",
    "    tf.keras.layers.BatchNormalization(),\n",
    "    tf.keras.layers.Conv2D(512, (3, 3), activation='relu'),\n",
    "    tf.keras.layers.BatchNormalization(),\n",
    "    tf.keras.layers.GlobalAveragePooling2D(),\n",
    "    tf.keras.layers.Dense(1024, activation='relu'),\n",
    "    tf.keras.layers.BatchNormalization(),\n",
    "    tf.keras.layers.Dense(200)\n",
    "])"
   ],
   "metadata": {
    "collapsed": false,
    "pycharm": {
     "name": "#%%\n"
    }
   }
  },
  {
   "cell_type": "code",
   "execution_count": 34,
   "outputs": [
    {
     "name": "stdout",
     "output_type": "stream",
     "text": [
      "Model: \"sequential_4\"\n",
      "_________________________________________________________________\n",
      "Layer (type)                 Output Shape              Param #   \n",
      "=================================================================\n",
      "conv2d_44 (Conv2D)           (None, 254, 254, 64)      1792      \n",
      "_________________________________________________________________\n",
      "batch_normalization_48 (Batc (None, 254, 254, 64)      256       \n",
      "_________________________________________________________________\n",
      "conv2d_45 (Conv2D)           (None, 252, 252, 64)      36928     \n",
      "_________________________________________________________________\n",
      "batch_normalization_49 (Batc (None, 252, 252, 64)      256       \n",
      "_________________________________________________________________\n",
      "max_pooling2d_10 (MaxPooling (None, 126, 126, 64)      0         \n",
      "_________________________________________________________________\n",
      "conv2d_46 (Conv2D)           (None, 124, 124, 128)     73856     \n",
      "_________________________________________________________________\n",
      "batch_normalization_50 (Batc (None, 124, 124, 128)     512       \n",
      "_________________________________________________________________\n",
      "conv2d_47 (Conv2D)           (None, 122, 122, 128)     147584    \n",
      "_________________________________________________________________\n",
      "batch_normalization_51 (Batc (None, 122, 122, 128)     512       \n",
      "_________________________________________________________________\n",
      "max_pooling2d_11 (MaxPooling (None, 61, 61, 128)       0         \n",
      "_________________________________________________________________\n",
      "conv2d_48 (Conv2D)           (None, 59, 59, 256)       295168    \n",
      "_________________________________________________________________\n",
      "batch_normalization_52 (Batc (None, 59, 59, 256)       1024      \n",
      "_________________________________________________________________\n",
      "conv2d_49 (Conv2D)           (None, 57, 57, 256)       590080    \n",
      "_________________________________________________________________\n",
      "batch_normalization_53 (Batc (None, 57, 57, 256)       1024      \n",
      "_________________________________________________________________\n",
      "max_pooling2d_12 (MaxPooling (None, 28, 28, 256)       0         \n",
      "_________________________________________________________________\n",
      "conv2d_50 (Conv2D)           (None, 26, 26, 512)       1180160   \n",
      "_________________________________________________________________\n",
      "batch_normalization_54 (Batc (None, 26, 26, 512)       2048      \n",
      "_________________________________________________________________\n",
      "conv2d_51 (Conv2D)           (None, 24, 24, 512)       2359808   \n",
      "_________________________________________________________________\n",
      "batch_normalization_55 (Batc (None, 24, 24, 512)       2048      \n",
      "_________________________________________________________________\n",
      "max_pooling2d_13 (MaxPooling (None, 12, 12, 512)       0         \n",
      "_________________________________________________________________\n",
      "conv2d_52 (Conv2D)           (None, 10, 10, 512)       2359808   \n",
      "_________________________________________________________________\n",
      "batch_normalization_56 (Batc (None, 10, 10, 512)       2048      \n",
      "_________________________________________________________________\n",
      "conv2d_53 (Conv2D)           (None, 8, 8, 512)         2359808   \n",
      "_________________________________________________________________\n",
      "batch_normalization_57 (Batc (None, 8, 8, 512)         2048      \n",
      "_________________________________________________________________\n",
      "conv2d_54 (Conv2D)           (None, 6, 6, 512)         2359808   \n",
      "_________________________________________________________________\n",
      "batch_normalization_58 (Batc (None, 6, 6, 512)         2048      \n",
      "_________________________________________________________________\n",
      "global_average_pooling2d_4 ( (None, 512)               0         \n",
      "_________________________________________________________________\n",
      "dense_8 (Dense)              (None, 1024)              525312    \n",
      "_________________________________________________________________\n",
      "batch_normalization_59 (Batc (None, 1024)              4096      \n",
      "_________________________________________________________________\n",
      "dense_9 (Dense)              (None, 200)               205000    \n",
      "=================================================================\n",
      "Total params: 12,513,032\n",
      "Trainable params: 12,504,072\n",
      "Non-trainable params: 8,960\n",
      "_________________________________________________________________\n"
     ]
    }
   ],
   "source": [
    "model.summary()"
   ],
   "metadata": {
    "collapsed": false,
    "pycharm": {
     "name": "#%%\n"
    }
   }
  },
  {
   "cell_type": "code",
   "execution_count": 35,
   "outputs": [],
   "source": [
    "model.compile(optimizer=tf.keras.optimizers.Adam(0.0001),\n",
    "              loss=tf.keras.losses.SparseCategoricalCrossentropy(from_logits=True),\n",
    "              metrics=['acc']\n",
    ")"
   ],
   "metadata": {
    "collapsed": false,
    "pycharm": {
     "name": "#%%\n"
    }
   }
  },
  {
   "cell_type": "code",
   "execution_count": 36,
   "outputs": [],
   "source": [
    "train_count = len(train_path)\n",
    "test_count = len(test_path)"
   ],
   "metadata": {
    "collapsed": false,
    "pycharm": {
     "name": "#%%\n"
    }
   }
  },
  {
   "cell_type": "code",
   "execution_count": 39,
   "outputs": [
    {
     "data": {
      "text/plain": "9430"
     },
     "execution_count": 39,
     "metadata": {},
     "output_type": "execute_result"
    }
   ],
   "source": [
    "train_count"
   ],
   "metadata": {
    "collapsed": false,
    "pycharm": {
     "name": "#%%\n"
    }
   }
  },
  {
   "cell_type": "code",
   "execution_count": 40,
   "outputs": [
    {
     "data": {
      "text/plain": "2358"
     },
     "execution_count": 40,
     "metadata": {},
     "output_type": "execute_result"
    }
   ],
   "source": [
    "test_count"
   ],
   "metadata": {
    "collapsed": false,
    "pycharm": {
     "name": "#%%\n"
    }
   }
  },
  {
   "cell_type": "code",
   "execution_count": 41,
   "outputs": [],
   "source": [
    "steps_per_epoch = train_count//BATCH_SIZE\n",
    "validation_steps = test_count//BATCH_SIZE"
   ],
   "metadata": {
    "collapsed": false,
    "pycharm": {
     "name": "#%%\n"
    }
   }
  },
  {
   "cell_type": "code",
   "execution_count": 42,
   "outputs": [
    {
     "name": "stdout",
     "output_type": "stream",
     "text": [
      "Epoch 1/10\n",
      "  2/294 [..............................] - ETA: 1:41 - loss: 6.1272 - acc: 0.0000e+00WARNING:tensorflow:Callbacks method `on_train_batch_end` is slow compared to the batch time (batch time: 0.2339s vs `on_train_batch_end` time: 0.4546s). Check your callbacks.\n",
      "294/294 [==============================] - 216s 735ms/step - loss: 4.9960 - acc: 0.0394 - val_loss: 7.4327 - val_acc: 0.0068\n",
      "Epoch 2/10\n",
      "294/294 [==============================] - 217s 739ms/step - loss: 4.1399 - acc: 0.1032 - val_loss: 5.1073 - val_acc: 0.0360\n",
      "Epoch 3/10\n",
      "294/294 [==============================] - 216s 736ms/step - loss: 3.5621 - acc: 0.1846 - val_loss: 3.8528 - val_acc: 0.1494\n",
      "Epoch 4/10\n",
      "294/294 [==============================] - 219s 744ms/step - loss: 3.0516 - acc: 0.2751 - val_loss: 3.5998 - val_acc: 0.1969\n",
      "Epoch 5/10\n",
      "294/294 [==============================] - 220s 749ms/step - loss: 2.5880 - acc: 0.3603 - val_loss: 3.4446 - val_acc: 0.2217\n",
      "Epoch 6/10\n",
      "294/294 [==============================] - 221s 751ms/step - loss: 2.1009 - acc: 0.4763 - val_loss: 3.3398 - val_acc: 0.2410\n",
      "Epoch 7/10\n",
      "294/294 [==============================] - 220s 748ms/step - loss: 1.6312 - acc: 0.5962 - val_loss: 3.0846 - val_acc: 0.2868\n",
      "Epoch 8/10\n",
      "294/294 [==============================] - 219s 745ms/step - loss: 1.1784 - acc: 0.7188 - val_loss: 3.0857 - val_acc: 0.2958\n",
      "Epoch 9/10\n",
      "294/294 [==============================] - 219s 746ms/step - loss: 0.7468 - acc: 0.8444 - val_loss: 3.0487 - val_acc: 0.3253\n",
      "Epoch 10/10\n",
      "294/294 [==============================] - 217s 739ms/step - loss: 0.3942 - acc: 0.9422 - val_loss: 2.9911 - val_acc: 0.3318\n"
     ]
    }
   ],
   "source": [
    "history = model.fit(train_ds, epochs=10,\n",
    "                    steps_per_epoch=steps_per_epoch,\n",
    "                    validation_data=test_ds,\n",
    "                    validation_steps=validation_steps)"
   ],
   "metadata": {
    "collapsed": false,
    "pycharm": {
     "name": "#%%\n"
    }
   }
  },
  {
   "cell_type": "code",
   "execution_count": 43,
   "outputs": [],
   "source": [
    "model.save('model.h5')"
   ],
   "metadata": {
    "collapsed": false,
    "pycharm": {
     "name": "#%%\n"
    }
   }
  },
  {
   "cell_type": "code",
   "execution_count": 48,
   "outputs": [
    {
     "data": {
      "text/plain": "dict_keys(['loss', 'acc', 'val_loss', 'val_acc'])"
     },
     "execution_count": 48,
     "metadata": {},
     "output_type": "execute_result"
    }
   ],
   "source": [
    "history.history.keys()"
   ],
   "metadata": {
    "collapsed": false,
    "pycharm": {
     "name": "#%%\n"
    }
   }
  },
  {
   "cell_type": "code",
   "execution_count": 52,
   "outputs": [],
   "source": [
    "import matplotlib.pyplot as plt"
   ],
   "metadata": {
    "collapsed": false,
    "pycharm": {
     "name": "#%%\n"
    }
   }
  },
  {
   "cell_type": "code",
   "execution_count": 53,
   "outputs": [
    {
     "data": {
      "text/plain": "<matplotlib.legend.Legend at 0x1f436fb0b70>"
     },
     "execution_count": 53,
     "metadata": {},
     "output_type": "execute_result"
    },
    {
     "data": {
      "text/plain": "<Figure size 640x480 with 1 Axes>",
      "image/png": "[encoded data removed]"
     },
     "metadata": {},
     "output_type": "display_data"
    }
   ],
   "source": [
    "plt.plot(history.epoch,history.history.get('acc'),label='acc')\n",
    "plt.plot(history.epoch,history.history.get('val_acc'),label='val_acc')\n",
    "plt.legend()"
   ],
   "metadata": {
    "collapsed": false,
    "pycharm": {
     "name": "#%%\n"
    }
   }
  },
  {
   "cell_type": "code",
   "execution_count": 54,
   "outputs": [
    {
     "data": {
      "text/plain": "<matplotlib.legend.Legend at 0x1f4391fa278>"
     },
     "execution_count": 54,
     "metadata": {},
     "output_type": "execute_result"
    },
    {
     "data": {
      "text/plain": "<Figure size 640x480 with 1 Axes>",
      "image/png": "[encoded data removed]"
     },
     "metadata": {},
     "output_type": "display_data"
    }
   ],
   "source": [
    "plt.plot(history.epoch,history.history.get('loss'),label='loss')\n",
    "plt.plot(history.epoch,history.history.get('val_loss'),label='val_loss')\n",
    "plt.legend()"
   ],
   "metadata": {
    "collapsed": false,
    "pycharm": {
     "name": "#%%\n"
    }
   }
  },
  {
   "cell_type": "code",
   "execution_count": 58,
   "outputs": [],
   "source": [
    "def load_and_preprocess_image(path):\n",
    "    image = tf.io.read_file(path)\n",
    "    image = tf.image.decode_jpeg(image,channels=3)\n",
    "    image = tf.image.resize(image,[256,256])\n",
    "    image = tf.cast(image,tf.float32)\n",
    "    image = image/255.0\n",
    "    return image"
   ],
   "metadata": {
    "collapsed": false,
    "pycharm": {
     "name": "#%%\n"
    }
   }
  },
  {
   "cell_type": "code",
   "execution_count": 64,
   "outputs": [],
   "source": [
    "test_img = 'birds/001.Black_footed_Albatross/Black_Footed_Albatross_0003_796136.jpg'\n",
    "test_tensor = load_and_preprocess_image(test_img)\n",
    "test_tensor = tf.expand_dims(test_tensor,axis=0)\n",
    "pred = model.predict(test_tensor)"
   ],
   "metadata": {
    "collapsed": false,
    "pycharm": {
     "name": "#%%\n"
    }
   }
  },
  {
   "cell_type": "code",
   "execution_count": 65,
   "outputs": [
    {
     "data": {
      "text/plain": "'Black_footed_Albatross'"
     },
     "execution_count": 65,
     "metadata": {},
     "output_type": "execute_result"
    }
   ],
   "source": [
    "index_to_label.get(np.argmax(pred))"
   ],
   "metadata": {
    "collapsed": false,
    "pycharm": {
     "name": "#%%\n"
    }
   }
  },
  {
   "cell_type": "code",
   "execution_count": null,
   "outputs": [],
   "source": [],
   "metadata": {
    "collapsed": false,
    "pycharm": {
     "name": "#%%\n"
    }
   }
  }
 ],
 "metadata": {
  "kernelspec": {
   "display_name": "Python 3 (ipykernel)",
   "language": "python",
   "name": "python3"
  },
  "language_info": {
   "codemirror_mode": {
    "name": "ipython",
    "version": 3
   },
   "file_extension": ".py",
   "mimetype": "text/x-python",
   "name": "python",
   "nbconvert_exporter": "python",
   "pygments_lexer": "ipython3",
   "version": "3.7.0"
  }
 },
 "nbformat": 4,
 "nbformat_minor": 1
}